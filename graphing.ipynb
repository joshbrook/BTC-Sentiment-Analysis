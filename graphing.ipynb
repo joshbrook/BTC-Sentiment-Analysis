{
 "cells": [
  {
   "cell_type": "markdown",
   "id": "9c24b7f7",
   "metadata": {},
   "source": [
    "# Import and format BTC price data"
   ]
  },
  {
   "cell_type": "code",
   "execution_count": 5,
   "id": "6a98a3f0",
   "metadata": {},
   "outputs": [
    {
     "data": {
      "text/html": [
       "<div>\n",
       "<style scoped>\n",
       "    .dataframe tbody tr th:only-of-type {\n",
       "        vertical-align: middle;\n",
       "    }\n",
       "\n",
       "    .dataframe tbody tr th {\n",
       "        vertical-align: top;\n",
       "    }\n",
       "\n",
       "    .dataframe thead th {\n",
       "        text-align: right;\n",
       "    }\n",
       "</style>\n",
       "<table border=\"1\" class=\"dataframe\">\n",
       "  <thead>\n",
       "    <tr style=\"text-align: right;\">\n",
       "      <th></th>\n",
       "      <th>Date</th>\n",
       "      <th>Open</th>\n",
       "      <th>High</th>\n",
       "      <th>Low</th>\n",
       "      <th>Close</th>\n",
       "      <th>Adj Close</th>\n",
       "      <th>Volume</th>\n",
       "    </tr>\n",
       "  </thead>\n",
       "  <tbody>\n",
       "    <tr>\n",
       "      <th>0</th>\n",
       "      <td>2022-05-12</td>\n",
       "      <td>28936.734375</td>\n",
       "      <td>30032.439453</td>\n",
       "      <td>26350.490234</td>\n",
       "      <td>29047.751953</td>\n",
       "      <td>29047.751953</td>\n",
       "      <td>66989173272</td>\n",
       "    </tr>\n",
       "    <tr>\n",
       "      <th>1</th>\n",
       "      <td>2022-05-13</td>\n",
       "      <td>29030.910156</td>\n",
       "      <td>30924.802734</td>\n",
       "      <td>28782.330078</td>\n",
       "      <td>29283.103516</td>\n",
       "      <td>29283.103516</td>\n",
       "      <td>42841124537</td>\n",
       "    </tr>\n",
       "    <tr>\n",
       "      <th>2</th>\n",
       "      <td>2022-05-14</td>\n",
       "      <td>29285.642578</td>\n",
       "      <td>30192.802734</td>\n",
       "      <td>28702.910156</td>\n",
       "      <td>30101.265625</td>\n",
       "      <td>30101.265625</td>\n",
       "      <td>28579868620</td>\n",
       "    </tr>\n",
       "    <tr>\n",
       "      <th>3</th>\n",
       "      <td>2022-05-15</td>\n",
       "      <td>30098.585938</td>\n",
       "      <td>31308.191406</td>\n",
       "      <td>29527.740234</td>\n",
       "      <td>31305.113281</td>\n",
       "      <td>31305.113281</td>\n",
       "      <td>25835372065</td>\n",
       "    </tr>\n",
       "    <tr>\n",
       "      <th>4</th>\n",
       "      <td>2022-05-16</td>\n",
       "      <td>31304.375000</td>\n",
       "      <td>31305.341797</td>\n",
       "      <td>29251.884766</td>\n",
       "      <td>29862.917969</td>\n",
       "      <td>29862.917969</td>\n",
       "      <td>32613897286</td>\n",
       "    </tr>\n",
       "    <tr>\n",
       "      <th>5</th>\n",
       "      <td>2022-05-17</td>\n",
       "      <td>29862.408203</td>\n",
       "      <td>30694.490234</td>\n",
       "      <td>29570.302734</td>\n",
       "      <td>30425.857422</td>\n",
       "      <td>30425.857422</td>\n",
       "      <td>29101473475</td>\n",
       "    </tr>\n",
       "    <tr>\n",
       "      <th>6</th>\n",
       "      <td>2022-05-18</td>\n",
       "      <td>30424.478516</td>\n",
       "      <td>30618.716797</td>\n",
       "      <td>28720.271484</td>\n",
       "      <td>28720.271484</td>\n",
       "      <td>28720.271484</td>\n",
       "      <td>31285268319</td>\n",
       "    </tr>\n",
       "    <tr>\n",
       "      <th>7</th>\n",
       "      <td>2022-05-19</td>\n",
       "      <td>28781.103516</td>\n",
       "      <td>29690.830078</td>\n",
       "      <td>28708.955078</td>\n",
       "      <td>29687.033203</td>\n",
       "      <td>29687.033203</td>\n",
       "      <td>34817126400</td>\n",
       "    </tr>\n",
       "  </tbody>\n",
       "</table>\n",
       "</div>"
      ],
      "text/plain": [
       "         Date          Open          High           Low         Close  \\\n",
       "0  2022-05-12  28936.734375  30032.439453  26350.490234  29047.751953   \n",
       "1  2022-05-13  29030.910156  30924.802734  28782.330078  29283.103516   \n",
       "2  2022-05-14  29285.642578  30192.802734  28702.910156  30101.265625   \n",
       "3  2022-05-15  30098.585938  31308.191406  29527.740234  31305.113281   \n",
       "4  2022-05-16  31304.375000  31305.341797  29251.884766  29862.917969   \n",
       "5  2022-05-17  29862.408203  30694.490234  29570.302734  30425.857422   \n",
       "6  2022-05-18  30424.478516  30618.716797  28720.271484  28720.271484   \n",
       "7  2022-05-19  28781.103516  29690.830078  28708.955078  29687.033203   \n",
       "\n",
       "      Adj Close       Volume  \n",
       "0  29047.751953  66989173272  \n",
       "1  29283.103516  42841124537  \n",
       "2  30101.265625  28579868620  \n",
       "3  31305.113281  25835372065  \n",
       "4  29862.917969  32613897286  \n",
       "5  30425.857422  29101473475  \n",
       "6  28720.271484  31285268319  \n",
       "7  29687.033203  34817126400  "
      ]
     },
     "execution_count": 5,
     "metadata": {},
     "output_type": "execute_result"
    }
   ],
   "source": [
    "import pandas as pd\n",
    "\n",
    "btc = pd.read_csv(\"data/BTC-USD.csv\")\n",
    "btc"
   ]
  },
  {
   "cell_type": "code",
   "execution_count": 21,
   "id": "d97a94e7",
   "metadata": {},
   "outputs": [
    {
     "data": {
      "text/plain": [
       "[28591.85400375,\n",
       " 29505.286621,\n",
       " 29570.65527325,\n",
       " 30559.90771475,\n",
       " 30431.129883,\n",
       " 30138.26464825,\n",
       " 29620.93457025,\n",
       " 29216.98046875]"
      ]
     },
     "execution_count": 21,
     "metadata": {},
     "output_type": "execute_result"
    }
   ],
   "source": [
    "import numpy as np\n",
    "\n",
    "avgs = []\n",
    "for i in range(8):\n",
    "    avgs.append((btc.iloc[i][\"High\"] + btc.iloc[i][\"Low\"] + btc.iloc[i][\"Open\"] + btc.iloc[i][\"Close\"])  / 4)\n",
    "\n",
    "avgs"
   ]
  },
  {
   "cell_type": "code",
   "execution_count": 37,
   "id": "f2fbf01d",
   "metadata": {},
   "outputs": [
    {
     "data": {
      "image/png": "[encoded data removed]",
      "text/plain": [
       "<Figure size 600x400 with 1 Axes>"
      ]
     },
     "metadata": {
      "needs_background": "light"
     },
     "output_type": "display_data"
    }
   ],
   "source": [
    "import matplotlib.pyplot as plt\n",
    "\n",
    "fig = plt.figure(dpi=100)\n",
    "\n",
    "plt.plot(avgs, marker='o', markersize=4, color='orange')\n",
    "\n",
    "plt.show()"
   ]
  },
  {
   "cell_type": "markdown",
   "id": "eed2b2ee",
   "metadata": {},
   "source": [
    "### Adding API sentiment-tagged data"
   ]
  },
  {
   "cell_type": "code",
   "execution_count": 38,
   "id": "24c453cb",
   "metadata": {},
   "outputs": [
    {
     "data": {
      "text/html": [
       "<div>\n",
       "<style scoped>\n",
       "    .dataframe tbody tr th:only-of-type {\n",
       "        vertical-align: middle;\n",
       "    }\n",
       "\n",
       "    .dataframe tbody tr th {\n",
       "        vertical-align: top;\n",
       "    }\n",
       "\n",
       "    .dataframe thead th {\n",
       "        text-align: right;\n",
       "    }\n",
       "</style>\n",
       "<table border=\"1\" class=\"dataframe\">\n",
       "  <thead>\n",
       "    <tr style=\"text-align: right;\">\n",
       "      <th></th>\n",
       "      <th>Tweet</th>\n",
       "      <th>Date</th>\n",
       "      <th>Sentiment</th>\n",
       "    </tr>\n",
       "  </thead>\n",
       "  <tbody>\n",
       "    <tr>\n",
       "      <th>0</th>\n",
       "      <td>current stats of delegatedonthate block find p...</td>\n",
       "      <td>2022-05-19</td>\n",
       "      <td>-0.129860</td>\n",
       "    </tr>\n",
       "    <tr>\n",
       "      <th>1</th>\n",
       "      <td>bbcworld for all those who be new to this work...</td>\n",
       "      <td>2022-05-19</td>\n",
       "      <td>0.099952</td>\n",
       "    </tr>\n",
       "    <tr>\n",
       "      <th>2</th>\n",
       "      <td>smilingpunks floor price  no gas fee polygon b...</td>\n",
       "      <td>2022-05-19</td>\n",
       "      <td>0.473768</td>\n",
       "    </tr>\n",
       "    <tr>\n",
       "      <th>3</th>\n",
       "      <td>i be claim my free lightning sat from bitcoine...</td>\n",
       "      <td>2022-05-19</td>\n",
       "      <td>0.403944</td>\n",
       "    </tr>\n",
       "    <tr>\n",
       "      <th>4</th>\n",
       "      <td>washingtonpost for all those who be new to thi...</td>\n",
       "      <td>2022-05-19</td>\n",
       "      <td>0.099952</td>\n",
       "    </tr>\n",
       "    <tr>\n",
       "      <th>...</th>\n",
       "      <td>...</td>\n",
       "      <td>...</td>\n",
       "      <td>...</td>\n",
       "    </tr>\n",
       "    <tr>\n",
       "      <th>99995</th>\n",
       "      <td>bitcoin will again reach k mark at the end of ...</td>\n",
       "      <td>2022-05-18</td>\n",
       "      <td>0.112845</td>\n",
       "    </tr>\n",
       "    <tr>\n",
       "      <th>99996</th>\n",
       "      <td>china be now the world ndbiggest bitcoin miner...</td>\n",
       "      <td>2022-05-18</td>\n",
       "      <td>-0.146596</td>\n",
       "    </tr>\n",
       "    <tr>\n",
       "      <th>99997</th>\n",
       "      <td>i wonder how elsalvadors bitcoin conference co...</td>\n",
       "      <td>2022-05-18</td>\n",
       "      <td>0.308002</td>\n",
       "    </tr>\n",
       "    <tr>\n",
       "      <th>99998</th>\n",
       "      <td>busd inflow to exchange have increase by over ...</td>\n",
       "      <td>2022-05-18</td>\n",
       "      <td>-0.006949</td>\n",
       "    </tr>\n",
       "    <tr>\n",
       "      <th>99999</th>\n",
       "      <td>hope bitcoin and cryptocurrency will recover soon</td>\n",
       "      <td>2022-05-18</td>\n",
       "      <td>0.438161</td>\n",
       "    </tr>\n",
       "  </tbody>\n",
       "</table>\n",
       "<p>100000 rows × 3 columns</p>\n",
       "</div>"
      ],
      "text/plain": [
       "                                                   Tweet        Date  \\\n",
       "0      current stats of delegatedonthate block find p...  2022-05-19   \n",
       "1      bbcworld for all those who be new to this work...  2022-05-19   \n",
       "2      smilingpunks floor price  no gas fee polygon b...  2022-05-19   \n",
       "3      i be claim my free lightning sat from bitcoine...  2022-05-19   \n",
       "4      washingtonpost for all those who be new to thi...  2022-05-19   \n",
       "...                                                  ...         ...   \n",
       "99995  bitcoin will again reach k mark at the end of ...  2022-05-18   \n",
       "99996  china be now the world ndbiggest bitcoin miner...  2022-05-18   \n",
       "99997  i wonder how elsalvadors bitcoin conference co...  2022-05-18   \n",
       "99998  busd inflow to exchange have increase by over ...  2022-05-18   \n",
       "99999  hope bitcoin and cryptocurrency will recover soon  2022-05-18   \n",
       "\n",
       "       Sentiment  \n",
       "0      -0.129860  \n",
       "1       0.099952  \n",
       "2       0.473768  \n",
       "3       0.403944  \n",
       "4       0.099952  \n",
       "...          ...  \n",
       "99995   0.112845  \n",
       "99996  -0.146596  \n",
       "99997   0.308002  \n",
       "99998  -0.006949  \n",
       "99999   0.438161  \n",
       "\n",
       "[100000 rows x 3 columns]"
      ]
     },
     "execution_count": 38,
     "metadata": {},
     "output_type": "execute_result"
    }
   ],
   "source": [
    "api = pd.read_csv(\"data/api_tagged.csv\").drop(columns=[\"Unnamed: 0\"])\n",
    "api"
   ]
  },
  {
   "cell_type": "code",
   "execution_count": 41,
   "id": "5ece3ad6",
   "metadata": {},
   "outputs": [
    {
     "name": "stdout",
     "output_type": "stream",
     "text": [
      "0.18226917209385912 0.1993525602923328\n"
     ]
    }
   ],
   "source": [
    "d18 = api[api[\"Date\"] == \"2022-05-18\"]\n",
    "d19 = api[api[\"Date\"] == \"2022-05-19\"]\n",
    "\n",
    "print(d18[\"Sentiment\"].mean(), d19[\"Sentiment\"].mean())"
   ]
  },
  {
   "cell_type": "code",
   "execution_count": null,
   "id": "e6c1d06b",
   "metadata": {},
   "outputs": [],
   "source": []
  }
 ],
 "metadata": {
  "kernelspec": {
   "display_name": "Python 3 (ipykernel)",
   "language": "python",
   "name": "python3"
  },
  "language_info": {
   "codemirror_mode": {
    "name": "ipython",
    "version": 3
   },
   "file_extension": ".py",
   "mimetype": "text/x-python",
   "name": "python",
   "nbconvert_exporter": "python",
   "pygments_lexer": "ipython3",
   "version": "3.8.5"
  }
 },
 "nbformat": 4,
 "nbformat_minor": 5
}
