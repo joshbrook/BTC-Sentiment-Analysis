{
 "cells": [
  {
   "cell_type": "markdown",
   "id": "9c24b7f7",
   "metadata": {},
   "source": [
    "# Import and format BTC price data"
   ]
  },
  {
   "cell_type": "code",
   "execution_count": 2,
   "id": "6a98a3f0",
   "metadata": {},
   "outputs": [
    {
     "data": {
      "text/html": [
       "<div>\n",
       "<style scoped>\n",
       "    .dataframe tbody tr th:only-of-type {\n",
       "        vertical-align: middle;\n",
       "    }\n",
       "\n",
       "    .dataframe tbody tr th {\n",
       "        vertical-align: top;\n",
       "    }\n",
       "\n",
       "    .dataframe thead th {\n",
       "        text-align: right;\n",
       "    }\n",
       "</style>\n",
       "<table border=\"1\" class=\"dataframe\">\n",
       "  <thead>\n",
       "    <tr style=\"text-align: right;\">\n",
       "      <th></th>\n",
       "      <th>Date</th>\n",
       "      <th>Open</th>\n",
       "      <th>High</th>\n",
       "      <th>Low</th>\n",
       "      <th>Close</th>\n",
       "      <th>Adj Close</th>\n",
       "      <th>Volume</th>\n",
       "    </tr>\n",
       "  </thead>\n",
       "  <tbody>\n",
       "    <tr>\n",
       "      <th>0</th>\n",
       "      <td>17/05/2021</td>\n",
       "      <td>46415.89844</td>\n",
       "      <td>46623.55859</td>\n",
       "      <td>42207.28906</td>\n",
       "      <td>43537.51172</td>\n",
       "      <td>43537.51172</td>\n",
       "      <td>7.490364e+10</td>\n",
       "    </tr>\n",
       "    <tr>\n",
       "      <th>1</th>\n",
       "      <td>18/05/2021</td>\n",
       "      <td>43488.05859</td>\n",
       "      <td>45812.45703</td>\n",
       "      <td>42367.83203</td>\n",
       "      <td>42909.40234</td>\n",
       "      <td>42909.40234</td>\n",
       "      <td>5.618737e+10</td>\n",
       "    </tr>\n",
       "    <tr>\n",
       "      <th>2</th>\n",
       "      <td>19/05/2021</td>\n",
       "      <td>42944.97656</td>\n",
       "      <td>43546.11719</td>\n",
       "      <td>30681.49609</td>\n",
       "      <td>37002.44141</td>\n",
       "      <td>37002.44141</td>\n",
       "      <td>1.263580e+11</td>\n",
       "    </tr>\n",
       "    <tr>\n",
       "      <th>3</th>\n",
       "      <td>20/05/2021</td>\n",
       "      <td>36753.66797</td>\n",
       "      <td>42462.98438</td>\n",
       "      <td>35050.61719</td>\n",
       "      <td>40782.73828</td>\n",
       "      <td>40782.73828</td>\n",
       "      <td>8.828194e+10</td>\n",
       "    </tr>\n",
       "    <tr>\n",
       "      <th>4</th>\n",
       "      <td>21/05/2021</td>\n",
       "      <td>40596.94922</td>\n",
       "      <td>42172.17188</td>\n",
       "      <td>33616.45313</td>\n",
       "      <td>37304.69141</td>\n",
       "      <td>37304.69141</td>\n",
       "      <td>8.205162e+10</td>\n",
       "    </tr>\n",
       "    <tr>\n",
       "      <th>5</th>\n",
       "      <td>22/05/2021</td>\n",
       "      <td>37371.03125</td>\n",
       "      <td>38831.05469</td>\n",
       "      <td>35383.68359</td>\n",
       "      <td>37536.63281</td>\n",
       "      <td>37536.63281</td>\n",
       "      <td>5.737727e+10</td>\n",
       "    </tr>\n",
       "    <tr>\n",
       "      <th>6</th>\n",
       "      <td>23/05/2021</td>\n",
       "      <td>37531.44922</td>\n",
       "      <td>38289.21875</td>\n",
       "      <td>31227.33984</td>\n",
       "      <td>34770.58203</td>\n",
       "      <td>34770.58203</td>\n",
       "      <td>7.846927e+10</td>\n",
       "    </tr>\n",
       "  </tbody>\n",
       "</table>\n",
       "</div>"
      ],
      "text/plain": [
       "         Date         Open         High          Low        Close  \\\n",
       "0  17/05/2021  46415.89844  46623.55859  42207.28906  43537.51172   \n",
       "1  18/05/2021  43488.05859  45812.45703  42367.83203  42909.40234   \n",
       "2  19/05/2021  42944.97656  43546.11719  30681.49609  37002.44141   \n",
       "3  20/05/2021  36753.66797  42462.98438  35050.61719  40782.73828   \n",
       "4  21/05/2021  40596.94922  42172.17188  33616.45313  37304.69141   \n",
       "5  22/05/2021  37371.03125  38831.05469  35383.68359  37536.63281   \n",
       "6  23/05/2021  37531.44922  38289.21875  31227.33984  34770.58203   \n",
       "\n",
       "     Adj Close        Volume  \n",
       "0  43537.51172  7.490364e+10  \n",
       "1  42909.40234  5.618737e+10  \n",
       "2  37002.44141  1.263580e+11  \n",
       "3  40782.73828  8.828194e+10  \n",
       "4  37304.69141  8.205162e+10  \n",
       "5  37536.63281  5.737727e+10  \n",
       "6  34770.58203  7.846927e+10  "
      ]
     },
     "execution_count": 2,
     "metadata": {},
     "output_type": "execute_result"
    }
   ],
   "source": [
    "import pandas as pd\n",
    "\n",
    "btc = pd.read_csv(\"data/BTC-USD.csv\")\n",
    "btc"
   ]
  },
  {
   "cell_type": "code",
   "execution_count": 5,
   "id": "d97a94e7",
   "metadata": {},
   "outputs": [
    {
     "data": {
      "text/plain": [
       "[44696.0644525,\n",
       " 43644.4374975,\n",
       " 38543.7578125,\n",
       " 38762.501955,\n",
       " 38422.56641,\n",
       " 37280.600585,\n",
       " 35454.64746]"
      ]
     },
     "execution_count": 5,
     "metadata": {},
     "output_type": "execute_result"
    }
   ],
   "source": [
    "import numpy as np\n",
    "\n",
    "avgs = []\n",
    "for i in range(7):\n",
    "    avgs.append((btc.iloc[i][\"High\"] + btc.iloc[i][\"Low\"] + btc.iloc[i][\"Open\"] + btc.iloc[i][\"Close\"])  / 4)\n",
    "\n",
    "avgs"
   ]
  },
  {
   "cell_type": "code",
   "execution_count": 6,
   "id": "f2fbf01d",
   "metadata": {},
   "outputs": [
    {
     "data": {
      "image/png": "[encoded data removed]",
      "text/plain": [
       "<Figure size 600x400 with 1 Axes>"
      ]
     },
     "metadata": {
      "needs_background": "light"
     },
     "output_type": "display_data"
    }
   ],
   "source": [
    "import matplotlib.pyplot as plt\n",
    "\n",
    "fig = plt.figure(dpi=100)\n",
    "\n",
    "plt.plot(avgs, marker='o', markersize=4, color='orange')\n",
    "\n",
    "plt.show()"
   ]
  },
  {
   "cell_type": "markdown",
   "id": "eed2b2ee",
   "metadata": {},
   "source": [
    "### Adding API sentiment-tagged data"
   ]
  },
  {
   "cell_type": "code",
   "execution_count": 7,
   "id": "24c453cb",
   "metadata": {},
   "outputs": [
    {
     "data": {
      "text/html": [
       "<div>\n",
       "<style scoped>\n",
       "    .dataframe tbody tr th:only-of-type {\n",
       "        vertical-align: middle;\n",
       "    }\n",
       "\n",
       "    .dataframe tbody tr th {\n",
       "        vertical-align: top;\n",
       "    }\n",
       "\n",
       "    .dataframe thead th {\n",
       "        text-align: right;\n",
       "    }\n",
       "</style>\n",
       "<table border=\"1\" class=\"dataframe\">\n",
       "  <thead>\n",
       "    <tr style=\"text-align: right;\">\n",
       "      <th></th>\n",
       "      <th>Tweet</th>\n",
       "      <th>Date</th>\n",
       "      <th>Sentiment</th>\n",
       "    </tr>\n",
       "  </thead>\n",
       "  <tbody>\n",
       "    <tr>\n",
       "      <th>0</th>\n",
       "      <td>current stats of delegatedonthate block find p...</td>\n",
       "      <td>2022-05-19</td>\n",
       "      <td>-0.130509</td>\n",
       "    </tr>\n",
       "    <tr>\n",
       "      <th>1</th>\n",
       "      <td>bbcworld for all those who be new to this work...</td>\n",
       "      <td>2022-05-19</td>\n",
       "      <td>0.209407</td>\n",
       "    </tr>\n",
       "    <tr>\n",
       "      <th>2</th>\n",
       "      <td>smilingpunks floor price  no gas fee polygon b...</td>\n",
       "      <td>2022-05-19</td>\n",
       "      <td>0.391721</td>\n",
       "    </tr>\n",
       "    <tr>\n",
       "      <th>3</th>\n",
       "      <td>i be claim my free lightning sat from bitcoine...</td>\n",
       "      <td>2022-05-19</td>\n",
       "      <td>0.258565</td>\n",
       "    </tr>\n",
       "    <tr>\n",
       "      <th>4</th>\n",
       "      <td>washingtonpost for all those who be new to thi...</td>\n",
       "      <td>2022-05-19</td>\n",
       "      <td>0.209407</td>\n",
       "    </tr>\n",
       "    <tr>\n",
       "      <th>...</th>\n",
       "      <td>...</td>\n",
       "      <td>...</td>\n",
       "      <td>...</td>\n",
       "    </tr>\n",
       "    <tr>\n",
       "      <th>499995</th>\n",
       "      <td>natashacryptous luna lunaterra lunaburn will h...</td>\n",
       "      <td>2022-05-22</td>\n",
       "      <td>0.322164</td>\n",
       "    </tr>\n",
       "    <tr>\n",
       "      <th>499996</th>\n",
       "      <td>cryptocurrencies bitcoin litecoin and ethereum...</td>\n",
       "      <td>2022-05-22</td>\n",
       "      <td>0.197086</td>\n",
       "    </tr>\n",
       "    <tr>\n",
       "      <th>499997</th>\n",
       "      <td>cryptocurrencies bitcoin litecoin and ethereum...</td>\n",
       "      <td>2022-05-22</td>\n",
       "      <td>0.197086</td>\n",
       "    </tr>\n",
       "    <tr>\n",
       "      <th>499998</th>\n",
       "      <td>this be a big opportunity.made by a very profe...</td>\n",
       "      <td>2022-05-22</td>\n",
       "      <td>0.682156</td>\n",
       "    </tr>\n",
       "    <tr>\n",
       "      <th>499999</th>\n",
       "      <td>hopium hope and optimism alux meme nft collect...</td>\n",
       "      <td>2022-05-22</td>\n",
       "      <td>0.269368</td>\n",
       "    </tr>\n",
       "  </tbody>\n",
       "</table>\n",
       "<p>500000 rows × 3 columns</p>\n",
       "</div>"
      ],
      "text/plain": [
       "                                                    Tweet        Date  \\\n",
       "0       current stats of delegatedonthate block find p...  2022-05-19   \n",
       "1       bbcworld for all those who be new to this work...  2022-05-19   \n",
       "2       smilingpunks floor price  no gas fee polygon b...  2022-05-19   \n",
       "3       i be claim my free lightning sat from bitcoine...  2022-05-19   \n",
       "4       washingtonpost for all those who be new to thi...  2022-05-19   \n",
       "...                                                   ...         ...   \n",
       "499995  natashacryptous luna lunaterra lunaburn will h...  2022-05-22   \n",
       "499996  cryptocurrencies bitcoin litecoin and ethereum...  2022-05-22   \n",
       "499997  cryptocurrencies bitcoin litecoin and ethereum...  2022-05-22   \n",
       "499998  this be a big opportunity.made by a very profe...  2022-05-22   \n",
       "499999  hopium hope and optimism alux meme nft collect...  2022-05-22   \n",
       "\n",
       "        Sentiment  \n",
       "0       -0.130509  \n",
       "1        0.209407  \n",
       "2        0.391721  \n",
       "3        0.258565  \n",
       "4        0.209407  \n",
       "...           ...  \n",
       "499995   0.322164  \n",
       "499996   0.197086  \n",
       "499997   0.197086  \n",
       "499998   0.682156  \n",
       "499999   0.269368  \n",
       "\n",
       "[500000 rows x 3 columns]"
      ]
     },
     "execution_count": 7,
     "metadata": {},
     "output_type": "execute_result"
    }
   ],
   "source": [
    "api = pd.read_csv(\"data/api_tagged.csv\").drop(columns=[\"Unnamed: 0\"])\n",
    "api"
   ]
  },
  {
   "cell_type": "code",
   "execution_count": 51,
   "id": "5ece3ad6",
   "metadata": {},
   "outputs": [
    {
     "name": "stdout",
     "output_type": "stream",
     "text": [
      "0.20257452385564317 0.20129841165122883\n"
     ]
    }
   ],
   "source": [
    "d18 = api[api[\"Date\"] == \"2022-05-18\"]\n",
    "d19 = api[api[\"Date\"] == \"2022-05-19\"]\n",
    "\n",
    "print(d18[\"Sentiment\"].mean(), d19[\"Sentiment\"].mean())"
   ]
  },
  {
   "cell_type": "code",
   "execution_count": 53,
   "id": "e6c1d06b",
   "metadata": {},
   "outputs": [
    {
     "data": {
      "text/plain": [
       "[0.23395597210996708,\n",
       " 0.20257452385564317,\n",
       " 0.20129841165122883,\n",
       " 0.2083559032236821,\n",
       " 0.21630058694621587,\n",
       " 0.24328242945952186,\n",
       " 0.23710920885726225]"
      ]
     },
     "execution_count": 53,
     "metadata": {},
     "output_type": "execute_result"
    }
   ],
   "source": [
    "import datetime as dt\n",
    "\n",
    "api[\"Date\"] = pd.to_datetime(api[\"Date\"], format=\"%Y-%m-%d\")\n",
    "\n",
    "sents = []\n",
    "for i in range(7):\n",
    "    t = pd.Timestamp(2022, 5, 17)\n",
    "    x = api[api[\"Date\"] == t + dt.timedelta(days=i)]\n",
    "    sents.append(x[\"Sentiment\"].mean())\n",
    "    \n",
    "sents"
   ]
  },
  {
   "cell_type": "code",
   "execution_count": 100,
   "id": "aed490c2",
   "metadata": {},
   "outputs": [
    {
     "data": {
      "image/png": "[encoded data removed]",
      "text/plain": [
       "<Figure size 600x400 with 2 Axes>"
      ]
     },
     "metadata": {
      "needs_background": "light"
     },
     "output_type": "display_data"
    }
   ],
   "source": [
    "dates = np.sort(api[\"Date\"].astype(str).unique())\n",
    "\n",
    "# Combine figures into one dataframe\n",
    "df = pd.DataFrame({\"Date\": dates, \"BTC Price\": avgs, \"Sentiment\": sents})\n",
    "\n",
    "# Price line\n",
    "fig, ax1 = plt.subplots()\n",
    "ax1.plot(df.index, df['BTC Price'], color=\"orange\",  marker=\".\", ms=6)\n",
    "\n",
    "# Sentiment line\n",
    "ax2 = ax1.twinx()\n",
    "ax2.plot(df.index, df['Sentiment'], color=\"blue\", marker=\".\", ms=6)\n",
    "\n",
    "# Formatting\n",
    "plt.title(\"BTC Price vs Twitter Sentiment\")\n",
    "\n",
    "ax1.set_ylabel('BTC Price ($)', color=\"orange\")\n",
    "ax2.set_ylabel('Sentiment (-1 to 1)', color=\"blue\")\n",
    "\n",
    "ax1.set_xlabel('Date')\n",
    "\n",
    "ax1.xaxis.set_ticks(range(7))\n",
    "ax1.set_xticklabels(dates, rotation=45)\n",
    "\n",
    "fig.set_dpi(100)\n",
    "\n",
    "\n",
    "plt.show()"
   ]
  },
  {
   "cell_type": "markdown",
   "id": "e9159c2a",
   "metadata": {},
   "source": [
    "Seems mildly correlated?"
   ]
  },
  {
   "cell_type": "code",
   "execution_count": null,
   "id": "b79d6a39",
   "metadata": {},
   "outputs": [],
   "source": []
  }
 ],
 "metadata": {
  "kernelspec": {
   "display_name": "Python 3 (ipykernel)",
   "language": "python",
   "name": "python3"
  },
  "language_info": {
   "codemirror_mode": {
    "name": "ipython",
    "version": 3
   },
   "file_extension": ".py",
   "mimetype": "text/x-python",
   "name": "python",
   "nbconvert_exporter": "python",
   "pygments_lexer": "ipython3",
   "version": "3.8.5"
  }
 },
 "nbformat": 4,
 "nbformat_minor": 5
}
