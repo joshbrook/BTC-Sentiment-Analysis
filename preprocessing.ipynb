{
 "cells": [
  {
   "cell_type": "markdown",
   "id": "58db7b14",
   "metadata": {},
   "source": [
    "# Bitcoin price prediction based on *sentiment analysis* of related tweets\n"
   ]
  },
  {
   "cell_type": "markdown",
   "id": "2313033e",
   "metadata": {},
   "source": [
    "## Introduction\n",
    "For our project, we have chosen to use twitter data to perform a sentiment analysis on users opinions about crypto currencies inorder to create a predictive model that relies on the sentiment to predict how different crpyto currencies may behave, or vice versa.\n",
    "\n",
    "## Description\n",
    "We begin the project by collecting our data\n",
    "\n",
    "### Data\n",
    "-----------\n",
    "First, we selected the datasets we would use for the analysis as well as to train and test our models later on. We have chosen the following datasets for our analysis:\n",
    "\n",
    "- Bitcoin_Sentiment Twitter dataset\n",
    "  > We use data from the following source:https://www.kaggle.com/code/alexandrayuliu/bitcoin-tweets-sentiment-analysis/data as it is already sentiment tagged to train and test our model\n",
    "\n",
    "\n",
    "### Research Question \n",
    "We chose to investigate how the price of Bitcoin may be affected by twitter sentiments about the currency based on a sentiment analysis model trained on the sentiment-tagged corpus and a final prediction model based on the sentiment model."
   ]
  },
  {
   "cell_type": "markdown",
   "id": "13cd8183",
   "metadata": {},
   "source": [
    "# Preprocessing of training data\n",
    "\n",
    "#### Only to be run once, with results saved to CSV file for later access"
   ]
  },
  {
   "cell_type": "code",
   "execution_count": 2,
   "id": "b8a9a472",
   "metadata": {},
   "outputs": [
    {
     "data": {
      "text/html": [
       "<div>\n",
       "<style scoped>\n",
       "    .dataframe tbody tr th:only-of-type {\n",
       "        vertical-align: middle;\n",
       "    }\n",
       "\n",
       "    .dataframe tbody tr th {\n",
       "        vertical-align: top;\n",
       "    }\n",
       "\n",
       "    .dataframe thead th {\n",
       "        text-align: right;\n",
       "    }\n",
       "</style>\n",
       "<table border=\"1\" class=\"dataframe\">\n",
       "  <thead>\n",
       "    <tr style=\"text-align: right;\">\n",
       "      <th></th>\n",
       "      <th>date</th>\n",
       "      <th>tweets</th>\n",
       "      <th>score</th>\n",
       "    </tr>\n",
       "  </thead>\n",
       "  <tbody>\n",
       "    <tr>\n",
       "      <th>151559</th>\n",
       "      <td>2021-06-21 13:44:04</td>\n",
       "      <td>$btc bitcoin lod AT_USER pretty close to 32,17...</td>\n",
       "      <td>0.4939</td>\n",
       "    </tr>\n",
       "    <tr>\n",
       "      <th>468569</th>\n",
       "      <td>2021-07-21 23:40:17</td>\n",
       "      <td>imagine all the people living for todayyyy oly...</td>\n",
       "      <td>0.0000</td>\n",
       "    </tr>\n",
       "    <tr>\n",
       "      <th>10267</th>\n",
       "      <td>2021-02-08 14:26:53</td>\n",
       "      <td>deal! i will switch from porsche to tesla when...</td>\n",
       "      <td>-0.1759</td>\n",
       "    </tr>\n",
       "    <tr>\n",
       "      <th>194108</th>\n",
       "      <td>2021-06-22 13:34:38</td>\n",
       "      <td>the big boys are starting to buy the dip bitco...</td>\n",
       "      <td>0.0000</td>\n",
       "    </tr>\n",
       "    <tr>\n",
       "      <th>474109</th>\n",
       "      <td>2021-07-22 05:01:02</td>\n",
       "      <td>spacex owns bitcoin bitcoin going to the moon,...</td>\n",
       "      <td>0.0000</td>\n",
       "    </tr>\n",
       "  </tbody>\n",
       "</table>\n",
       "</div>"
      ],
      "text/plain": [
       "                       date  \\\n",
       "151559  2021-06-21 13:44:04   \n",
       "468569  2021-07-21 23:40:17   \n",
       "10267   2021-02-08 14:26:53   \n",
       "194108  2021-06-22 13:34:38   \n",
       "474109  2021-07-22 05:01:02   \n",
       "\n",
       "                                                   tweets   score  \n",
       "151559  $btc bitcoin lod AT_USER pretty close to 32,17...  0.4939  \n",
       "468569  imagine all the people living for todayyyy oly...  0.0000  \n",
       "10267   deal! i will switch from porsche to tesla when... -0.1759  \n",
       "194108  the big boys are starting to buy the dip bitco...  0.0000  \n",
       "474109  spacex owns bitcoin bitcoin going to the moon,...  0.0000  "
      ]
     },
     "metadata": {},
     "output_type": "display_data"
    },
    {
     "data": {
      "text/plain": [
       "(1519555, 3)"
      ]
     },
     "execution_count": 2,
     "metadata": {},
     "output_type": "execute_result"
    }
   ],
   "source": [
    "import pandas as pd\n",
    "sent_tweets = pd.read_csv(\"data/sent-tweets.csv\").drop(columns=['user_location', 'user_description', \n",
    "                                                           'user_followers', 'user_friends',])\n",
    "display(sent_tweets.sample(5))\n",
    "sent_tweets.shape"
   ]
  },
  {
   "cell_type": "markdown",
   "id": "05506f71",
   "metadata": {},
   "source": [
    "We chose to not remove the stopwords as Saif et al ( LREC 2014) suggests that it might degrade the quality of the classification.\n",
    "\n",
    "On Stopwords, Filtering and Data Sparsity for Sentiment Analysis of Twitter](http://www.lrec-conf.org/proceedings/lrec2014/pdf/292_Paper.pdf) (Saif et al., LREC 2014)"
   ]
  },
  {
   "cell_type": "code",
   "execution_count": 77,
   "id": "53e4bcac",
   "metadata": {},
   "outputs": [
    {
     "data": {
      "text/html": [
       "<div>\n",
       "<style scoped>\n",
       "    .dataframe tbody tr th:only-of-type {\n",
       "        vertical-align: middle;\n",
       "    }\n",
       "\n",
       "    .dataframe tbody tr th {\n",
       "        vertical-align: top;\n",
       "    }\n",
       "\n",
       "    .dataframe thead th {\n",
       "        text-align: right;\n",
       "    }\n",
       "</style>\n",
       "<table border=\"1\" class=\"dataframe\">\n",
       "  <thead>\n",
       "    <tr style=\"text-align: right;\">\n",
       "      <th></th>\n",
       "      <th>date</th>\n",
       "      <th>tweets</th>\n",
       "      <th>score</th>\n",
       "    </tr>\n",
       "  </thead>\n",
       "  <tbody>\n",
       "    <tr>\n",
       "      <th>0</th>\n",
       "      <td>2021-02-05 10:52:04</td>\n",
       "      <td>right here w   referral code</td>\n",
       "      <td>0.0000</td>\n",
       "    </tr>\n",
       "    <tr>\n",
       "      <th>1</th>\n",
       "      <td>2021-02-05 10:52:04</td>\n",
       "      <td>please donate bitcoin donate challenge from ...</td>\n",
       "      <td>0.6597</td>\n",
       "    </tr>\n",
       "    <tr>\n",
       "      <th>2</th>\n",
       "      <td>2021-02-05 10:52:06</td>\n",
       "      <td>sos market cap is  million. if theyre mining ....</td>\n",
       "      <td>0.0000</td>\n",
       "    </tr>\n",
       "    <tr>\n",
       "      <th>3</th>\n",
       "      <td>2021-02-05 10:52:07</td>\n",
       "      <td>bitcoin btc current price gbp  like my updates...</td>\n",
       "      <td>0.3612</td>\n",
       "    </tr>\n",
       "    <tr>\n",
       "      <th>4</th>\n",
       "      <td>2021-02-05 10:52:26</td>\n",
       "      <td>right here w   referral code  helpmehelpyou</td>\n",
       "      <td>0.0000</td>\n",
       "    </tr>\n",
       "  </tbody>\n",
       "</table>\n",
       "</div>"
      ],
      "text/plain": [
       "                  date                                             tweets  \\\n",
       "0  2021-02-05 10:52:04                     right here w   referral code     \n",
       "1  2021-02-05 10:52:04    please donate bitcoin donate challenge from ...   \n",
       "2  2021-02-05 10:52:06  sos market cap is  million. if theyre mining ....   \n",
       "3  2021-02-05 10:52:07  bitcoin btc current price gbp  like my updates...   \n",
       "4  2021-02-05 10:52:26       right here w   referral code  helpmehelpyou    \n",
       "\n",
       "    score  \n",
       "0  0.0000  \n",
       "1  0.6597  \n",
       "2  0.0000  \n",
       "3  0.3612  \n",
       "4  0.0000  "
      ]
     },
     "execution_count": 77,
     "metadata": {},
     "output_type": "execute_result"
    }
   ],
   "source": [
    "import re \n",
    "\n",
    "# Provide case insensitive data\n",
    "sent_tweets[\"tweets\"]=sent_tweets[\"tweets\"].str.lower().astype(str)\n",
    "\n",
    "# Take out links with or without www\n",
    "sent_tweets[\"tweets\"] = sent_tweets[\"tweets\"].apply(lambda x: re.sub(r'https?:\\/\\/\\S+', '', x))\n",
    "sent_tweets[\"tweets\"].apply(lambda x: re.sub(r\"www\\.[a-z]?\\.?(com)+|[a-z]+\\.(com)\", '', x))\n",
    "\n",
    "# Take out possible HTML character references \n",
    "sent_tweets[\"tweets\"] = sent_tweets[\"tweets\"].apply(lambda x: re.sub(r'&[a-z]+;', '', x))\n",
    "\n",
    "# Take out nonletter characters except for spaces and sentence delimitators\n",
    "sent_tweets[\"tweets\"] = sent_tweets[\"tweets\"].apply(lambda x: re.sub(r\"[^a-z\\s.!?]\", '', x))\n",
    "\n",
    "# Sometimes twitter data has links preprocessed into a reference such as {link}\n",
    "sent_tweets[\"tweets\"] = sent_tweets[\"tweets\"].apply(lambda x: re.sub(r'{link}', '', x))\n",
    "\n",
    "# I noticed the dataset contains at user and url references so we can remove them\n",
    "\n",
    "sent_tweets[\"tweets\"]= sent_tweets[\"tweets\"].str.replace('url', '')\n",
    "sent_tweets[\"tweets\"]= sent_tweets[\"tweets\"].str.replace('atuser', '')\n",
    "\n",
    "sent_tweets.head(5)"
   ]
  },
  {
   "cell_type": "code",
   "execution_count": 40,
   "id": "11f4ef26",
   "metadata": {},
   "outputs": [
    {
     "data": {
      "text/plain": [
       "([('bitcoin', 'NN'),\n",
       "  ('btc', 'NN'),\n",
       "  ('current', 'JJ'),\n",
       "  ('price', 'NN'),\n",
       "  ('gbp', 'NN'),\n",
       "  ('like', 'IN'),\n",
       "  ('my', 'PRP$'),\n",
       "  ('updates?', 'NN'),\n",
       "  ('you', 'PRP'),\n",
       "  ('can', 'MD'),\n",
       "  ('tip', 'VB'),\n",
       "  ('me', 'PRP'),\n",
       "  ('at', 'IN'),\n",
       "  ('ldztlqrcxnpnvgfnrbazuqvmrz', 'NN')],\n",
       " 0.3612)"
      ]
     },
     "execution_count": 40,
     "metadata": {},
     "output_type": "execute_result"
    }
   ],
   "source": [
    "import nltk\n",
    "from nltk.stem import WordNetLemmatizer\n",
    "from nltk.tokenize import RegexpTokenizer, TweetTokenizer\n",
    "\n",
    "tweets = list(zip(sent_tweets[\"tweets\"], sent_tweets[\"score\"]))\n",
    "\n",
    "regextk = RegexpTokenizer('\\s+', gaps=True)\n",
    "tweettk = TweetTokenizer()\n",
    "\n",
    "tokens = [(regextk.tokenize(tweet), sentiment) for (tweet, sentiment) in tweets if type(tweet) == str]\n",
    "\n",
    "filtered = []\n",
    "for tweet in tokens:\n",
    "    new = []\n",
    "    for tok in tweet[0]:\n",
    "        if tok != \"AT_USER\" and tok != \"URL\":\n",
    "            new.append(tok)\n",
    "            \n",
    "    filtered.append((new, tweet[1]))\n",
    "\n",
    "tagged = [(nltk.pos_tag(tweet), sentiment) for tweet, sentiment in filtered]\n",
    "\n",
    "tagged[3]"
   ]
  },
  {
   "cell_type": "code",
   "execution_count": 41,
   "id": "3077984c",
   "metadata": {},
   "outputs": [
    {
     "data": {
      "text/plain": [
       "(['bitcoin',\n",
       "  'btc',\n",
       "  'current',\n",
       "  'price',\n",
       "  'gbp',\n",
       "  'like',\n",
       "  'my',\n",
       "  'update',\n",
       "  'you',\n",
       "  'can',\n",
       "  'tip',\n",
       "  'me',\n",
       "  'at',\n",
       "  'ldztlqrcxnpnvgfnrbazuqvmrz'],\n",
       " 0.3612)"
      ]
     },
     "execution_count": 41,
     "metadata": {},
     "output_type": "execute_result"
    }
   ],
   "source": [
    "import string\n",
    "from nltk.corpus import wordnet as wn\n",
    "\n",
    "def wn_pos(tag):\n",
    "    \"converts treebank tags into wordbank tags for lemmatization\"\n",
    "    if tag.startswith('J'):\n",
    "        return wn.ADJ\n",
    "    if tag.startswith('V'):\n",
    "        return wn.VERB\n",
    "    if tag.startswith('N'):\n",
    "        return wn.NOUN\n",
    "    if tag.startswith('R'):\n",
    "        return wn.ADV\n",
    "    return None\n",
    "\n",
    "lem_tweets = []\n",
    "lem = WordNetLemmatizer()\n",
    "\n",
    "for tweet in tagged:\n",
    "    lemmas = []\n",
    "    \n",
    "    for word, tag in tweet[0]:\n",
    "        wn_tag = wn_pos(tag)\n",
    "        \n",
    "        if word[-1] in string.punctuation:\n",
    "                word = word[:-1]\n",
    "\n",
    "        if wn_pos(tag) is not None:\n",
    "            lemmas.append(lem.lemmatize(word, wn_tag))\n",
    "        else:\n",
    "            lemmas.append(lem.lemmatize(word))\n",
    "                \n",
    "    lem_tweets.append((lemmas, tweet[1]))\n",
    "\n",
    "lemmas = [lem for tweet in lem_tweets for lem in tweet]\n",
    "\n",
    "lem_tweets[3]"
   ]
  },
  {
   "cell_type": "code",
   "execution_count": 42,
   "id": "f312686a",
   "metadata": {},
   "outputs": [],
   "source": [
    "pd.DataFrame(lem_tweets).to_csv(\"lem_tweets.csv\")"
   ]
  },
  {
   "cell_type": "markdown",
   "id": "f46ec289",
   "metadata": {},
   "source": [
    "# End of training data preprocessing\n",
    "\n",
    "# Begin training and apply sentiment tags to new data"
   ]
  },
  {
   "cell_type": "code",
   "execution_count": 33,
   "id": "558c47c6",
   "metadata": {},
   "outputs": [],
   "source": [
    "import pandas as pd\n",
    "import numpy as np\n",
    "\n",
    "def clean_dataset(df):\n",
    "    assert isinstance(df, pd.DataFrame), \"df needs to be a pd.DataFrame\"\n",
    "    df.dropna(inplace=True)\n",
    "    indices_to_keep = ~df.isin([np.nan, np.inf, -np.inf]).any(1)\n",
    "    return df[indices_to_keep]\n",
    "\n",
    "lem_tweets = pd.read_csv(\"data/lem_tweets.csv\").drop(columns=\"Unnamed: 0\").rename(columns={\"0\":\"Tweet\", \"1\":\"Sentiment\"})\n",
    "\n",
    "new = []\n",
    "for tweet in lem_tweets[\"Tweet\"]:\n",
    "    new.append((tweet[1:-1].replace(\",\", \"\").replace(\"'\", \"\")))\n",
    "    \n",
    "data = pd.DataFrame(zip(new, lem_tweets[\"Sentiment\"]), columns=[\"Tweet\", \"Sentiment\"])\n",
    "data = clean_dataset(data)\n",
    "\n",
    "X = data['Tweet'].astype(str)\n",
    "y = data['Sentiment']"
   ]
  },
  {
   "cell_type": "code",
   "execution_count": 34,
   "id": "8bc35e83",
   "metadata": {},
   "outputs": [],
   "source": [
    "from sklearn.feature_extraction.text import TfidfTransformer, CountVectorizer\n",
    "from sklearn.model_selection import train_test_split\n",
    "\n",
    "count = CountVectorizer()\n",
    "tfidf_transformer = TfidfTransformer()\n",
    "\n",
    "X_train, X_test, y_train, y_test = train_test_split(X, y, train_size=0.8)\n",
    "\n",
    "train_counts = count.fit_transform(X_train)\n",
    "train_tfidf = tfidf_transformer.fit_transform(train_counts)"
   ]
  },
  {
   "cell_type": "markdown",
   "id": "5e6ed3bb",
   "metadata": {},
   "source": [
    "#### Ridge regression model"
   ]
  },
  {
   "cell_type": "code",
   "execution_count": 35,
   "id": "d0b4cfdf",
   "metadata": {},
   "outputs": [],
   "source": [
    "from sklearn.linear_model import SGDRegressor, Ridge\n",
    "from sklearn.svm import SVC\n",
    "\n",
    "ridge = Ridge().fit(train_tfidf, y_train)\n",
    "#svm = SVC(C=1.0, kernel='linear', degree=3, gamma='auto')"
   ]
  },
  {
   "cell_type": "markdown",
   "id": "dc9d5465",
   "metadata": {},
   "source": [
    "#### Using MSE for accuracy scoring"
   ]
  },
  {
   "cell_type": "code",
   "execution_count": 36,
   "id": "cc123d46",
   "metadata": {},
   "outputs": [
    {
     "data": {
      "text/plain": [
       "0.044348873137165935"
      ]
     },
     "execution_count": 36,
     "metadata": {},
     "output_type": "execute_result"
    }
   ],
   "source": [
    "from sklearn.metrics import mean_squared_error\n",
    "\n",
    "X_test_V = count.transform(X_test)\n",
    "X_t = tfidf_transformer.transform(X_test_V)\n",
    "y_pred = ridge.predict(X_t)\n",
    "\n",
    "mean_squared_error(y_test, y_pred)"
   ]
  },
  {
   "cell_type": "markdown",
   "id": "3f38f5f3",
   "metadata": {},
   "source": [
    "## Import API data"
   ]
  },
  {
   "cell_type": "code",
   "execution_count": 37,
   "id": "189acf4f",
   "metadata": {
    "scrolled": false
   },
   "outputs": [
    {
     "data": {
      "text/html": [
       "<div>\n",
       "<style scoped>\n",
       "    .dataframe tbody tr th:only-of-type {\n",
       "        vertical-align: middle;\n",
       "    }\n",
       "\n",
       "    .dataframe tbody tr th {\n",
       "        vertical-align: top;\n",
       "    }\n",
       "\n",
       "    .dataframe thead th {\n",
       "        text-align: right;\n",
       "    }\n",
       "</style>\n",
       "<table border=\"1\" class=\"dataframe\">\n",
       "  <thead>\n",
       "    <tr style=\"text-align: right;\">\n",
       "      <th></th>\n",
       "      <th>Tweet</th>\n",
       "      <th>Date</th>\n",
       "    </tr>\n",
       "  </thead>\n",
       "  <tbody>\n",
       "    <tr>\n",
       "      <th>0</th>\n",
       "      <td>current stats of delegatedonthate block find p...</td>\n",
       "      <td>2022-05-19 23:59:59+00:00</td>\n",
       "    </tr>\n",
       "    <tr>\n",
       "      <th>1</th>\n",
       "      <td>bbcworld for all those who be new to this work...</td>\n",
       "      <td>2022-05-19 23:59:58+00:00</td>\n",
       "    </tr>\n",
       "    <tr>\n",
       "      <th>2</th>\n",
       "      <td>smilingpunks floor price  no gas fee polygon b...</td>\n",
       "      <td>2022-05-19 23:59:56+00:00</td>\n",
       "    </tr>\n",
       "    <tr>\n",
       "      <th>3</th>\n",
       "      <td>i be claim my free lightning sat from bitcoine...</td>\n",
       "      <td>2022-05-19 23:59:56+00:00</td>\n",
       "    </tr>\n",
       "    <tr>\n",
       "      <th>4</th>\n",
       "      <td>washingtonpost for all those who be new to thi...</td>\n",
       "      <td>2022-05-19 23:59:54+00:00</td>\n",
       "    </tr>\n",
       "  </tbody>\n",
       "</table>\n",
       "</div>"
      ],
      "text/plain": [
       "                                               Tweet  \\\n",
       "0  current stats of delegatedonthate block find p...   \n",
       "1  bbcworld for all those who be new to this work...   \n",
       "2  smilingpunks floor price  no gas fee polygon b...   \n",
       "3  i be claim my free lightning sat from bitcoine...   \n",
       "4  washingtonpost for all those who be new to thi...   \n",
       "\n",
       "                        Date  \n",
       "0  2022-05-19 23:59:59+00:00  \n",
       "1  2022-05-19 23:59:58+00:00  \n",
       "2  2022-05-19 23:59:56+00:00  \n",
       "3  2022-05-19 23:59:56+00:00  \n",
       "4  2022-05-19 23:59:54+00:00  "
      ]
     },
     "execution_count": 37,
     "metadata": {},
     "output_type": "execute_result"
    }
   ],
   "source": [
    "data = pd.read_csv(\"data/Btc_tweets.csv\").drop(columns=[\"Unnamed: 0\"])\n",
    "\n",
    "updated = []\n",
    "for tweet in data[\"tweet\"]:\n",
    "    updated.append((tweet[1:-1].replace(\",\", \"\").replace(\"'\", \"\")))\n",
    "    \n",
    "api = pd.DataFrame(zip(updated, data[\"date\"]), columns=[\"Tweet\", \"Date\"])\n",
    "api.head(5)"
   ]
  },
  {
   "cell_type": "code",
   "execution_count": 38,
   "id": "4f8c3c0d",
   "metadata": {},
   "outputs": [
    {
     "data": {
      "text/html": [
       "<div>\n",
       "<style scoped>\n",
       "    .dataframe tbody tr th:only-of-type {\n",
       "        vertical-align: middle;\n",
       "    }\n",
       "\n",
       "    .dataframe tbody tr th {\n",
       "        vertical-align: top;\n",
       "    }\n",
       "\n",
       "    .dataframe thead th {\n",
       "        text-align: right;\n",
       "    }\n",
       "</style>\n",
       "<table border=\"1\" class=\"dataframe\">\n",
       "  <thead>\n",
       "    <tr style=\"text-align: right;\">\n",
       "      <th></th>\n",
       "      <th>Tweet</th>\n",
       "      <th>Date</th>\n",
       "      <th>Predicted Sentiment</th>\n",
       "    </tr>\n",
       "  </thead>\n",
       "  <tbody>\n",
       "    <tr>\n",
       "      <th>2280</th>\n",
       "      <td>just because youre stream on twitch doesnt mea...</td>\n",
       "      <td>2022-05-19 23:10:59+00:00</td>\n",
       "      <td>0.062029</td>\n",
       "    </tr>\n",
       "    <tr>\n",
       "      <th>41785</th>\n",
       "      <td>bitcoin ethereum cardano solana lose up to ter...</td>\n",
       "      <td>2022-05-19 13:09:39+00:00</td>\n",
       "      <td>-0.248105</td>\n",
       "    </tr>\n",
       "    <tr>\n",
       "      <th>91213</th>\n",
       "      <td>may utc .  .   bitcoin btc btc crypto financia...</td>\n",
       "      <td>2022-05-18 21:30:01+00:00</td>\n",
       "      <td>0.198276</td>\n",
       "    </tr>\n",
       "    <tr>\n",
       "      <th>83606</th>\n",
       "      <td>bitcoin  currency  be it even a good idea</td>\n",
       "      <td>2022-05-18 23:58:04+00:00</td>\n",
       "      <td>0.481400</td>\n",
       "    </tr>\n",
       "    <tr>\n",
       "      <th>51311</th>\n",
       "      <td>despite the crypto crash bitcoin still have a ...</td>\n",
       "      <td>2022-05-19 10:52:06+00:00</td>\n",
       "      <td>-0.020306</td>\n",
       "    </tr>\n",
       "  </tbody>\n",
       "</table>\n",
       "</div>"
      ],
      "text/plain": [
       "                                                   Tweet  \\\n",
       "2280   just because youre stream on twitch doesnt mea...   \n",
       "41785  bitcoin ethereum cardano solana lose up to ter...   \n",
       "91213  may utc .  .   bitcoin btc btc crypto financia...   \n",
       "83606         bitcoin  currency  be it even a good idea    \n",
       "51311  despite the crypto crash bitcoin still have a ...   \n",
       "\n",
       "                            Date  Predicted Sentiment  \n",
       "2280   2022-05-19 23:10:59+00:00             0.062029  \n",
       "41785  2022-05-19 13:09:39+00:00            -0.248105  \n",
       "91213  2022-05-18 21:30:01+00:00             0.198276  \n",
       "83606  2022-05-18 23:58:04+00:00             0.481400  \n",
       "51311  2022-05-19 10:52:06+00:00            -0.020306  "
      ]
     },
     "metadata": {},
     "output_type": "display_data"
    }
   ],
   "source": [
    "api_counts = count.transform(api[\"Tweet\"])\n",
    "api_tfidf = tfidf_transformer.transform(api_counts)\n",
    "\n",
    "r_pred = ridge.predict(api_tfidf)\n",
    "\n",
    "df = pd.DataFrame(zip(api[\"Tweet\"], api[\"Date\"], r_pred), columns=[\"Tweet\", \"Date\", \"Predicted Sentiment\"])\n",
    "\n",
    "display(df.sample(5))"
   ]
  },
  {
   "cell_type": "markdown",
   "id": "dea784f8",
   "metadata": {},
   "source": [
    "Let's try to improve this regressor"
   ]
  },
  {
   "cell_type": "code",
   "execution_count": 39,
   "id": "4c0ab3cf",
   "metadata": {},
   "outputs": [
    {
     "data": {
      "text/plain": [
       "dict_keys(['alpha', 'copy_X', 'fit_intercept', 'max_iter', 'normalize', 'positive', 'random_state', 'solver', 'tol'])"
      ]
     },
     "execution_count": 39,
     "metadata": {},
     "output_type": "execute_result"
    }
   ],
   "source": [
    "ridge.get_params().keys()"
   ]
  },
  {
   "cell_type": "code",
   "execution_count": 40,
   "id": "6c5d291e",
   "metadata": {},
   "outputs": [
    {
     "name": "stdout",
     "output_type": "stream",
     "text": [
      "Fitting 5 folds for each of 9 candidates, totalling 45 fits\n"
     ]
    },
    {
     "data": {
      "text/plain": [
       "{'alpha': 0.25}"
      ]
     },
     "execution_count": 40,
     "metadata": {},
     "output_type": "execute_result"
    }
   ],
   "source": [
    "from scipy.stats import uniform\n",
    "from sklearn.model_selection import RandomizedSearchCV\n",
    "\n",
    "alpha = [x for x in [0.1, 0.2, 0.25, 0.3, 0.5, 0.75, 1, 2, 5, 7.5, 10]]\n",
    "\n",
    "params = {\"alpha\": alpha}\n",
    "\n",
    "rscv = RandomizedSearchCV(ridge, params, n_iter=9, cv=5, verbose=2, n_jobs=-1, random_state=42)\n",
    "search = rscv.fit(train_tfidf, y_train)\n",
    "search.best_params_"
   ]
  },
  {
   "cell_type": "code",
   "execution_count": 45,
   "id": "373d2d8f",
   "metadata": {
    "scrolled": false
   },
   "outputs": [
    {
     "data": {
      "text/html": [
       "<div>\n",
       "<style scoped>\n",
       "    .dataframe tbody tr th:only-of-type {\n",
       "        vertical-align: middle;\n",
       "    }\n",
       "\n",
       "    .dataframe tbody tr th {\n",
       "        vertical-align: top;\n",
       "    }\n",
       "\n",
       "    .dataframe thead th {\n",
       "        text-align: right;\n",
       "    }\n",
       "</style>\n",
       "<table border=\"1\" class=\"dataframe\">\n",
       "  <thead>\n",
       "    <tr style=\"text-align: right;\">\n",
       "      <th></th>\n",
       "      <th>Tweet</th>\n",
       "      <th>Date</th>\n",
       "      <th>Sentiment</th>\n",
       "    </tr>\n",
       "  </thead>\n",
       "  <tbody>\n",
       "    <tr>\n",
       "      <th>1516</th>\n",
       "      <td>free nft giveaway   rt follow nftholding nftho...</td>\n",
       "      <td>2022-05-19 23:30:00+00:00</td>\n",
       "      <td>-0.151003</td>\n",
       "    </tr>\n",
       "    <tr>\n",
       "      <th>673</th>\n",
       "      <td>lorigubbio lorenzojova faracifra hello im kait...</td>\n",
       "      <td>2022-05-19 23:48:11+00:00</td>\n",
       "      <td>-0.084975</td>\n",
       "    </tr>\n",
       "    <tr>\n",
       "      <th>1140</th>\n",
       "      <td>apompliano i calculate the liquidity pool and ...</td>\n",
       "      <td>2022-05-19 23:38:55+00:00</td>\n",
       "      <td>0.053416</td>\n",
       "    </tr>\n",
       "    <tr>\n",
       "      <th>362</th>\n",
       "      <td>wvbcaa coltrincrist matej saylor jordanbpeters...</td>\n",
       "      <td>2022-05-19 23:53:32+00:00</td>\n",
       "      <td>0.242719</td>\n",
       "    </tr>\n",
       "    <tr>\n",
       "      <th>1511</th>\n",
       "      <td>usd en elsalvador bitcoinday te dieren sat  ah...</td>\n",
       "      <td>2022-05-19 23:30:01+00:00</td>\n",
       "      <td>0.032646</td>\n",
       "    </tr>\n",
       "  </tbody>\n",
       "</table>\n",
       "</div>"
      ],
      "text/plain": [
       "                                                  Tweet  \\\n",
       "1516  free nft giveaway   rt follow nftholding nftho...   \n",
       "673   lorigubbio lorenzojova faracifra hello im kait...   \n",
       "1140  apompliano i calculate the liquidity pool and ...   \n",
       "362   wvbcaa coltrincrist matej saylor jordanbpeters...   \n",
       "1511  usd en elsalvador bitcoinday te dieren sat  ah...   \n",
       "\n",
       "                           Date  Sentiment  \n",
       "1516  2022-05-19 23:30:00+00:00  -0.151003  \n",
       "673   2022-05-19 23:48:11+00:00  -0.084975  \n",
       "1140  2022-05-19 23:38:55+00:00   0.053416  \n",
       "362   2022-05-19 23:53:32+00:00   0.242719  \n",
       "1511  2022-05-19 23:30:01+00:00   0.032646  "
      ]
     },
     "execution_count": 45,
     "metadata": {},
     "output_type": "execute_result"
    }
   ],
   "source": [
    "ridge_opt = Ridge(alpha=0.25).fit(train_tfidf, y_train)\n",
    "y_opt_pred = ridge_opt.predict(X_t)\n",
    "\n",
    "df = pd.DataFrame(zip(api[\"Tweet\"], api[\"Date\"], y_opt_pred), columns=[\"Tweet\", \"Date\", \"Sentiment\"])\n",
    "df.sample(5)"
   ]
  },
  {
   "cell_type": "code",
   "execution_count": 46,
   "id": "929c87c0",
   "metadata": {},
   "outputs": [
    {
     "data": {
      "text/plain": [
       "0.04252225443446537"
      ]
     },
     "execution_count": 46,
     "metadata": {},
     "output_type": "execute_result"
    }
   ],
   "source": [
    "mean_squared_error(y_test, y_opt_pred)"
   ]
  },
  {
   "cell_type": "markdown",
   "id": "f859a32d",
   "metadata": {},
   "source": [
    "Very slight improvement (~ 0.002)"
   ]
  },
  {
   "cell_type": "markdown",
   "id": "5a69491e",
   "metadata": {},
   "source": [
    "## Splitting data"
   ]
  },
  {
   "cell_type": "code",
   "execution_count": 47,
   "id": "2b7c08de",
   "metadata": {},
   "outputs": [
    {
     "data": {
      "text/html": [
       "<div>\n",
       "<style scoped>\n",
       "    .dataframe tbody tr th:only-of-type {\n",
       "        vertical-align: middle;\n",
       "    }\n",
       "\n",
       "    .dataframe tbody tr th {\n",
       "        vertical-align: top;\n",
       "    }\n",
       "\n",
       "    .dataframe thead th {\n",
       "        text-align: right;\n",
       "    }\n",
       "</style>\n",
       "<table border=\"1\" class=\"dataframe\">\n",
       "  <thead>\n",
       "    <tr style=\"text-align: right;\">\n",
       "      <th></th>\n",
       "      <th>Tweet</th>\n",
       "      <th>Date</th>\n",
       "      <th>Sentiment</th>\n",
       "    </tr>\n",
       "  </thead>\n",
       "  <tbody>\n",
       "    <tr>\n",
       "      <th>0</th>\n",
       "      <td>current stats of delegatedonthate block find p...</td>\n",
       "      <td>2022-05-19</td>\n",
       "      <td>0.187431</td>\n",
       "    </tr>\n",
       "    <tr>\n",
       "      <th>1</th>\n",
       "      <td>bbcworld for all those who be new to this work...</td>\n",
       "      <td>2022-05-19</td>\n",
       "      <td>0.306517</td>\n",
       "    </tr>\n",
       "    <tr>\n",
       "      <th>2</th>\n",
       "      <td>smilingpunks floor price  no gas fee polygon b...</td>\n",
       "      <td>2022-05-19</td>\n",
       "      <td>-0.009743</td>\n",
       "    </tr>\n",
       "    <tr>\n",
       "      <th>3</th>\n",
       "      <td>i be claim my free lightning sat from bitcoine...</td>\n",
       "      <td>2022-05-19</td>\n",
       "      <td>0.023495</td>\n",
       "    </tr>\n",
       "    <tr>\n",
       "      <th>4</th>\n",
       "      <td>washingtonpost for all those who be new to thi...</td>\n",
       "      <td>2022-05-19</td>\n",
       "      <td>-0.253645</td>\n",
       "    </tr>\n",
       "  </tbody>\n",
       "</table>\n",
       "</div>"
      ],
      "text/plain": [
       "                                               Tweet        Date  Sentiment\n",
       "0  current stats of delegatedonthate block find p...  2022-05-19   0.187431\n",
       "1  bbcworld for all those who be new to this work...  2022-05-19   0.306517\n",
       "2  smilingpunks floor price  no gas fee polygon b...  2022-05-19  -0.009743\n",
       "3  i be claim my free lightning sat from bitcoine...  2022-05-19   0.023495\n",
       "4  washingtonpost for all those who be new to thi...  2022-05-19  -0.253645"
      ]
     },
     "execution_count": 47,
     "metadata": {},
     "output_type": "execute_result"
    }
   ],
   "source": [
    "import datetime as dt\n",
    "\n",
    "df[\"Date\"] = [d.date() for d in pd.to_datetime(df[\"Date\"])]\n",
    "df.head(5)"
   ]
  },
  {
   "cell_type": "code",
   "execution_count": 48,
   "id": "5cef5ceb",
   "metadata": {},
   "outputs": [],
   "source": [
    "df.to_csv(\"data/api_tagged.csv\")"
   ]
  },
  {
   "cell_type": "code",
   "execution_count": null,
   "id": "6a9f6fb3",
   "metadata": {},
   "outputs": [],
   "source": []
  }
 ],
 "metadata": {
  "kernelspec": {
   "display_name": "Python 3 (ipykernel)",
   "language": "python",
   "name": "python3"
  },
  "language_info": {
   "codemirror_mode": {
    "name": "ipython",
    "version": 3
   },
   "file_extension": ".py",
   "mimetype": "text/x-python",
   "name": "python",
   "nbconvert_exporter": "python",
   "pygments_lexer": "ipython3",
   "version": "3.8.5"
  }
 },
 "nbformat": 4,
 "nbformat_minor": 5
}
