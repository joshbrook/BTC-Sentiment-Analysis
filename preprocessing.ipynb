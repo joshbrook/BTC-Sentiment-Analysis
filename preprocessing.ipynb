{
 "cells": [
  {
   "cell_type": "markdown",
   "id": "58db7b14",
   "metadata": {},
   "source": [
    "# Bitcoin price prediction based on *sentiment analysis* of related tweets\n"
   ]
  },
  {
   "cell_type": "markdown",
   "id": "2313033e",
   "metadata": {},
   "source": [
    "## Introduction\n",
    "For our project, we have chosen to use twitter data to perform a sentiment analysis on users opinions about crypto currencies inorder to create a predictive model that relies on the sentiment to predict how different crpyto currencies may behave, or vice versa.\n",
    "\n",
    "## Description\n",
    "We begin the project by collecting our data\n",
    "\n",
    "### Data\n",
    "-----------\n",
    "First, we selected the datasets we would use for the analysis as well as to train and test our models later on. We have chosen the following datasets for our analysis:\n",
    "\n",
    "- Bitcoin_Sentiment Twitter dataset\n",
    "  > We use data from the following source:https://www.kaggle.com/code/alexandrayuliu/bitcoin-tweets-sentiment-analysis/data as it is already sentiment tagged to train and test our model\n",
    "\n",
    "\n",
    "### Research Question \n",
    "We chose to investigate how the price of Bitcoin may be affected by twitter sentiments about the currency based on a sentiment analysis model trained on the sentiment-tagged corpus and a final prediction model based on the sentiment model."
   ]
  },
  {
   "cell_type": "markdown",
   "id": "13cd8183",
   "metadata": {},
   "source": [
    "# Preprocessing of training data\n",
    "\n",
    "#### Only to be run once, with results saved to CSV file for later access"
   ]
  },
  {
   "cell_type": "code",
   "execution_count": 2,
   "id": "b8a9a472",
   "metadata": {},
   "outputs": [
    {
     "data": {
      "text/html": [
       "<div>\n",
       "<style scoped>\n",
       "    .dataframe tbody tr th:only-of-type {\n",
       "        vertical-align: middle;\n",
       "    }\n",
       "\n",
       "    .dataframe tbody tr th {\n",
       "        vertical-align: top;\n",
       "    }\n",
       "\n",
       "    .dataframe thead th {\n",
       "        text-align: right;\n",
       "    }\n",
       "</style>\n",
       "<table border=\"1\" class=\"dataframe\">\n",
       "  <thead>\n",
       "    <tr style=\"text-align: right;\">\n",
       "      <th></th>\n",
       "      <th>date</th>\n",
       "      <th>tweets</th>\n",
       "      <th>score</th>\n",
       "    </tr>\n",
       "  </thead>\n",
       "  <tbody>\n",
       "    <tr>\n",
       "      <th>151559</th>\n",
       "      <td>2021-06-21 13:44:04</td>\n",
       "      <td>$btc bitcoin lod AT_USER pretty close to 32,17...</td>\n",
       "      <td>0.4939</td>\n",
       "    </tr>\n",
       "    <tr>\n",
       "      <th>468569</th>\n",
       "      <td>2021-07-21 23:40:17</td>\n",
       "      <td>imagine all the people living for todayyyy oly...</td>\n",
       "      <td>0.0000</td>\n",
       "    </tr>\n",
       "    <tr>\n",
       "      <th>10267</th>\n",
       "      <td>2021-02-08 14:26:53</td>\n",
       "      <td>deal! i will switch from porsche to tesla when...</td>\n",
       "      <td>-0.1759</td>\n",
       "    </tr>\n",
       "    <tr>\n",
       "      <th>194108</th>\n",
       "      <td>2021-06-22 13:34:38</td>\n",
       "      <td>the big boys are starting to buy the dip bitco...</td>\n",
       "      <td>0.0000</td>\n",
       "    </tr>\n",
       "    <tr>\n",
       "      <th>474109</th>\n",
       "      <td>2021-07-22 05:01:02</td>\n",
       "      <td>spacex owns bitcoin bitcoin going to the moon,...</td>\n",
       "      <td>0.0000</td>\n",
       "    </tr>\n",
       "  </tbody>\n",
       "</table>\n",
       "</div>"
      ],
      "text/plain": [
       "                       date  \\\n",
       "151559  2021-06-21 13:44:04   \n",
       "468569  2021-07-21 23:40:17   \n",
       "10267   2021-02-08 14:26:53   \n",
       "194108  2021-06-22 13:34:38   \n",
       "474109  2021-07-22 05:01:02   \n",
       "\n",
       "                                                   tweets   score  \n",
       "151559  $btc bitcoin lod AT_USER pretty close to 32,17...  0.4939  \n",
       "468569  imagine all the people living for todayyyy oly...  0.0000  \n",
       "10267   deal! i will switch from porsche to tesla when... -0.1759  \n",
       "194108  the big boys are starting to buy the dip bitco...  0.0000  \n",
       "474109  spacex owns bitcoin bitcoin going to the moon,...  0.0000  "
      ]
     },
     "metadata": {},
     "output_type": "display_data"
    },
    {
     "data": {
      "text/plain": [
       "(1519555, 3)"
      ]
     },
     "execution_count": 2,
     "metadata": {},
     "output_type": "execute_result"
    }
   ],
   "source": [
    "import pandas as pd\n",
    "sent_tweets = pd.read_csv(\"data/sent-tweets.csv\").drop(columns=['user_location', 'user_description', \n",
    "                                                           'user_followers', 'user_friends',])\n",
    "display(sent_tweets.sample(5))\n",
    "sent_tweets.shape"
   ]
  },
  {
   "cell_type": "markdown",
   "id": "05506f71",
   "metadata": {},
   "source": [
    "We chose to not remove the stopwords as Saif et al ( LREC 2014) suggests that it might degrade the quality of the classification.\n",
    "\n",
    "On Stopwords, Filtering and Data Sparsity for Sentiment Analysis of Twitter](http://www.lrec-conf.org/proceedings/lrec2014/pdf/292_Paper.pdf) (Saif et al., LREC 2014)"
   ]
  },
  {
   "cell_type": "code",
   "execution_count": 77,
   "id": "53e4bcac",
   "metadata": {},
   "outputs": [
    {
     "data": {
      "text/html": [
       "<div>\n",
       "<style scoped>\n",
       "    .dataframe tbody tr th:only-of-type {\n",
       "        vertical-align: middle;\n",
       "    }\n",
       "\n",
       "    .dataframe tbody tr th {\n",
       "        vertical-align: top;\n",
       "    }\n",
       "\n",
       "    .dataframe thead th {\n",
       "        text-align: right;\n",
       "    }\n",
       "</style>\n",
       "<table border=\"1\" class=\"dataframe\">\n",
       "  <thead>\n",
       "    <tr style=\"text-align: right;\">\n",
       "      <th></th>\n",
       "      <th>date</th>\n",
       "      <th>tweets</th>\n",
       "      <th>score</th>\n",
       "    </tr>\n",
       "  </thead>\n",
       "  <tbody>\n",
       "    <tr>\n",
       "      <th>0</th>\n",
       "      <td>2021-02-05 10:52:04</td>\n",
       "      <td>right here w   referral code</td>\n",
       "      <td>0.0000</td>\n",
       "    </tr>\n",
       "    <tr>\n",
       "      <th>1</th>\n",
       "      <td>2021-02-05 10:52:04</td>\n",
       "      <td>please donate bitcoin donate challenge from ...</td>\n",
       "      <td>0.6597</td>\n",
       "    </tr>\n",
       "    <tr>\n",
       "      <th>2</th>\n",
       "      <td>2021-02-05 10:52:06</td>\n",
       "      <td>sos market cap is  million. if theyre mining ....</td>\n",
       "      <td>0.0000</td>\n",
       "    </tr>\n",
       "    <tr>\n",
       "      <th>3</th>\n",
       "      <td>2021-02-05 10:52:07</td>\n",
       "      <td>bitcoin btc current price gbp  like my updates...</td>\n",
       "      <td>0.3612</td>\n",
       "    </tr>\n",
       "    <tr>\n",
       "      <th>4</th>\n",
       "      <td>2021-02-05 10:52:26</td>\n",
       "      <td>right here w   referral code  helpmehelpyou</td>\n",
       "      <td>0.0000</td>\n",
       "    </tr>\n",
       "  </tbody>\n",
       "</table>\n",
       "</div>"
      ],
      "text/plain": [
       "                  date                                             tweets  \\\n",
       "0  2021-02-05 10:52:04                     right here w   referral code     \n",
       "1  2021-02-05 10:52:04    please donate bitcoin donate challenge from ...   \n",
       "2  2021-02-05 10:52:06  sos market cap is  million. if theyre mining ....   \n",
       "3  2021-02-05 10:52:07  bitcoin btc current price gbp  like my updates...   \n",
       "4  2021-02-05 10:52:26       right here w   referral code  helpmehelpyou    \n",
       "\n",
       "    score  \n",
       "0  0.0000  \n",
       "1  0.6597  \n",
       "2  0.0000  \n",
       "3  0.3612  \n",
       "4  0.0000  "
      ]
     },
     "execution_count": 77,
     "metadata": {},
     "output_type": "execute_result"
    }
   ],
   "source": [
    "import re \n",
    "\n",
    "# Provide case insensitive data\n",
    "sent_tweets[\"tweets\"]=sent_tweets[\"tweets\"].str.lower().astype(str)\n",
    "\n",
    "# Take out links with or without www\n",
    "sent_tweets[\"tweets\"] = sent_tweets[\"tweets\"].apply(lambda x: re.sub(r'https?:\\/\\/\\S+', '', x))\n",
    "sent_tweets[\"tweets\"].apply(lambda x: re.sub(r\"www\\.[a-z]?\\.?(com)+|[a-z]+\\.(com)\", '', x))\n",
    "\n",
    "# Take out possible HTML character references \n",
    "sent_tweets[\"tweets\"] = sent_tweets[\"tweets\"].apply(lambda x: re.sub(r'&[a-z]+;', '', x))\n",
    "\n",
    "# Take out nonletter characters except for spaces and sentence delimitators\n",
    "sent_tweets[\"tweets\"] = sent_tweets[\"tweets\"].apply(lambda x: re.sub(r\"[^a-z\\s.!?]\", '', x))\n",
    "\n",
    "# Sometimes twitter data has links preprocessed into a reference such as {link}\n",
    "sent_tweets[\"tweets\"] = sent_tweets[\"tweets\"].apply(lambda x: re.sub(r'{link}', '', x))\n",
    "\n",
    "# I noticed the dataset contains at user and url references so we can remove them\n",
    "\n",
    "sent_tweets[\"tweets\"]= sent_tweets[\"tweets\"].str.replace('url', '')\n",
    "sent_tweets[\"tweets\"]= sent_tweets[\"tweets\"].str.replace('atuser', '')\n",
    "\n",
    "sent_tweets.head(5)"
   ]
  },
  {
   "cell_type": "code",
   "execution_count": 40,
   "id": "11f4ef26",
   "metadata": {},
   "outputs": [
    {
     "data": {
      "text/plain": [
       "([('bitcoin', 'NN'),\n",
       "  ('btc', 'NN'),\n",
       "  ('current', 'JJ'),\n",
       "  ('price', 'NN'),\n",
       "  ('gbp', 'NN'),\n",
       "  ('like', 'IN'),\n",
       "  ('my', 'PRP$'),\n",
       "  ('updates?', 'NN'),\n",
       "  ('you', 'PRP'),\n",
       "  ('can', 'MD'),\n",
       "  ('tip', 'VB'),\n",
       "  ('me', 'PRP'),\n",
       "  ('at', 'IN'),\n",
       "  ('ldztlqrcxnpnvgfnrbazuqvmrz', 'NN')],\n",
       " 0.3612)"
      ]
     },
     "execution_count": 40,
     "metadata": {},
     "output_type": "execute_result"
    }
   ],
   "source": [
    "import nltk\n",
    "from nltk.stem import WordNetLemmatizer\n",
    "from nltk.tokenize import RegexpTokenizer, TweetTokenizer\n",
    "\n",
    "tweets = list(zip(sent_tweets[\"tweets\"], sent_tweets[\"score\"]))\n",
    "\n",
    "regextk = RegexpTokenizer('\\s+', gaps=True)\n",
    "tweettk = TweetTokenizer()\n",
    "\n",
    "tokens = [(regextk.tokenize(tweet), sentiment) for (tweet, sentiment) in tweets if type(tweet) == str]\n",
    "\n",
    "filtered = []\n",
    "for tweet in tokens:\n",
    "    new = []\n",
    "    for tok in tweet[0]:\n",
    "        if tok != \"AT_USER\" and tok != \"URL\":\n",
    "            new.append(tok)\n",
    "            \n",
    "    filtered.append((new, tweet[1]))\n",
    "\n",
    "tagged = [(nltk.pos_tag(tweet), sentiment) for tweet, sentiment in filtered]\n",
    "\n",
    "tagged[3]"
   ]
  },
  {
   "cell_type": "code",
   "execution_count": 41,
   "id": "3077984c",
   "metadata": {},
   "outputs": [
    {
     "data": {
      "text/plain": [
       "(['bitcoin',\n",
       "  'btc',\n",
       "  'current',\n",
       "  'price',\n",
       "  'gbp',\n",
       "  'like',\n",
       "  'my',\n",
       "  'update',\n",
       "  'you',\n",
       "  'can',\n",
       "  'tip',\n",
       "  'me',\n",
       "  'at',\n",
       "  'ldztlqrcxnpnvgfnrbazuqvmrz'],\n",
       " 0.3612)"
      ]
     },
     "execution_count": 41,
     "metadata": {},
     "output_type": "execute_result"
    }
   ],
   "source": [
    "import string\n",
    "from nltk.corpus import wordnet as wn\n",
    "\n",
    "def wn_pos(tag):\n",
    "    \"converts treebank tags into wordbank tags for lemmatization\"\n",
    "    if tag.startswith('J'):\n",
    "        return wn.ADJ\n",
    "    if tag.startswith('V'):\n",
    "        return wn.VERB\n",
    "    if tag.startswith('N'):\n",
    "        return wn.NOUN\n",
    "    if tag.startswith('R'):\n",
    "        return wn.ADV\n",
    "    return None\n",
    "\n",
    "lem_tweets = []\n",
    "lem = WordNetLemmatizer()\n",
    "\n",
    "for tweet in tagged:\n",
    "    lemmas = []\n",
    "    \n",
    "    for word, tag in tweet[0]:\n",
    "        wn_tag = wn_pos(tag)\n",
    "        \n",
    "        if word[-1] in string.punctuation:\n",
    "                word = word[:-1]\n",
    "\n",
    "        if wn_pos(tag) is not None:\n",
    "            lemmas.append(lem.lemmatize(word, wn_tag))\n",
    "        else:\n",
    "            lemmas.append(lem.lemmatize(word))\n",
    "                \n",
    "    lem_tweets.append((lemmas, tweet[1]))\n",
    "\n",
    "lemmas = [lem for tweet in lem_tweets for lem in tweet]\n",
    "\n",
    "lem_tweets[3]"
   ]
  },
  {
   "cell_type": "code",
   "execution_count": 42,
   "id": "f312686a",
   "metadata": {},
   "outputs": [],
   "source": [
    "pd.DataFrame(lem_tweets).to_csv(\"lem_tweets.csv\")"
   ]
  },
  {
   "cell_type": "markdown",
   "id": "f46ec289",
   "metadata": {},
   "source": [
    "# End of training data preprocessing\n",
    "\n",
    "# Begin training and apply sentiment tags to new data"
   ]
  },
  {
   "cell_type": "code",
   "execution_count": 103,
   "id": "558c47c6",
   "metadata": {},
   "outputs": [],
   "source": [
    "import pandas as pd\n",
    "import numpy as np\n",
    "\n",
    "def clean_dataset(df):\n",
    "    assert isinstance(df, pd.DataFrame), \"df needs to be a pd.DataFrame\"\n",
    "    df.dropna(inplace=True)\n",
    "    indices_to_keep = ~df.isin([np.nan, np.inf, -np.inf]).any(1)\n",
    "    return df[indices_to_keep]\n",
    "\n",
    "lem_tweets = pd.read_csv(\"data/lem_tweets.csv\").drop(columns=\"Unnamed: 0\").rename(columns={\"0\":\"Tweet\", \"1\":\"Sentiment\"})\n",
    "\n",
    "new = []\n",
    "for tweet in lem_tweets[\"Tweet\"]:\n",
    "    new.append((tweet[1:-1].replace(\",\", \"\").replace(\"'\", \"\")))\n",
    "    \n",
    "data = pd.DataFrame(zip(new, lem_tweets[\"Sentiment\"]), columns=[\"Tweet\", \"Sentiment\"])\n",
    "data = clean_dataset(data)\n",
    "\n",
    "X = data['Tweet'].astype(str)\n",
    "y = data['Sentiment']"
   ]
  },
  {
   "cell_type": "code",
   "execution_count": 104,
   "id": "8bc35e83",
   "metadata": {},
   "outputs": [],
   "source": [
    "from sklearn.feature_extraction.text import TfidfTransformer, CountVectorizer\n",
    "from sklearn.model_selection import train_test_split\n",
    "\n",
    "count = CountVectorizer()\n",
    "tfidf_transformer = TfidfTransformer()\n",
    "\n",
    "X_train, X_test, y_train, y_test = train_test_split(X, y, train_size=0.8)\n",
    "\n",
    "train_counts = count.fit_transform(X_train)\n",
    "train_tfidf = tfidf_transformer.fit_transform(train_counts)"
   ]
  },
  {
   "cell_type": "markdown",
   "id": "5e6ed3bb",
   "metadata": {},
   "source": [
    "#### Ridge regression model"
   ]
  },
  {
   "cell_type": "code",
   "execution_count": 105,
   "id": "d0b4cfdf",
   "metadata": {},
   "outputs": [],
   "source": [
    "from sklearn.linear_model import SGDRegressor, Ridge\n",
    "\n",
    "ridge = Ridge().fit(train_tfidf, y_train)"
   ]
  },
  {
   "cell_type": "markdown",
   "id": "dc9d5465",
   "metadata": {},
   "source": [
    "#### Using MSE for accuracy scoring"
   ]
  },
  {
   "cell_type": "code",
   "execution_count": 106,
   "id": "cc123d46",
   "metadata": {},
   "outputs": [
    {
     "data": {
      "text/plain": [
       "0.04878428781926526"
      ]
     },
     "execution_count": 106,
     "metadata": {},
     "output_type": "execute_result"
    }
   ],
   "source": [
    "from sklearn.metrics import mean_squared_error\n",
    "\n",
    "X_test_V = count.transform(X_test)\n",
    "X_t = tfidf_transformer.transform(X_test_V)\n",
    "y_pred = ridge.predict(X_t)\n",
    "\n",
    "mean_squared_error(y_test, y_pred)"
   ]
  },
  {
   "cell_type": "markdown",
   "id": "dea784f8",
   "metadata": {},
   "source": [
    "#### Let's try to improve this regressor"
   ]
  },
  {
   "cell_type": "code",
   "execution_count": 107,
   "id": "4c0ab3cf",
   "metadata": {},
   "outputs": [
    {
     "data": {
      "text/plain": [
       "dict_keys(['alpha', 'copy_X', 'fit_intercept', 'max_iter', 'normalize', 'positive', 'random_state', 'solver', 'tol'])"
      ]
     },
     "execution_count": 107,
     "metadata": {},
     "output_type": "execute_result"
    }
   ],
   "source": [
    "ridge.get_params().keys()"
   ]
  },
  {
   "cell_type": "code",
   "execution_count": 108,
   "id": "6c5d291e",
   "metadata": {},
   "outputs": [
    {
     "name": "stdout",
     "output_type": "stream",
     "text": [
      "Fitting 5 folds for each of 9 candidates, totalling 45 fits\n"
     ]
    },
    {
     "data": {
      "text/plain": [
       "{'alpha': 0.25}"
      ]
     },
     "execution_count": 108,
     "metadata": {},
     "output_type": "execute_result"
    }
   ],
   "source": [
    "from scipy.stats import uniform\n",
    "from sklearn.model_selection import RandomizedSearchCV\n",
    "\n",
    "alpha = [x for x in [0.1, 0.2, 0.25, 0.3, 0.5, 0.75, 1, 2, 5, 7.5, 10]]\n",
    "\n",
    "params = {\"alpha\": alpha}\n",
    "\n",
    "rscv = RandomizedSearchCV(ridge, params, n_iter=9, cv=5, verbose=2, n_jobs=-1, random_state=42)\n",
    "search = rscv.fit(train_tfidf, y_train)\n",
    "search.best_params_"
   ]
  },
  {
   "cell_type": "code",
   "execution_count": 109,
   "id": "3ed370cf",
   "metadata": {},
   "outputs": [
    {
     "data": {
      "text/plain": [
       "0.04695426593797228"
      ]
     },
     "execution_count": 109,
     "metadata": {},
     "output_type": "execute_result"
    }
   ],
   "source": [
    "ridge_opt = Ridge(alpha=0.25).fit(train_tfidf, y_train)\n",
    "opt_pred = ridge_opt.predict(X_t)\n",
    "\n",
    "mean_squared_error(y_test, opt_pred)"
   ]
  },
  {
   "cell_type": "markdown",
   "id": "09f1df28",
   "metadata": {},
   "source": [
    "Minor improvement (~ 0.002)"
   ]
  },
  {
   "cell_type": "markdown",
   "id": "8285116a",
   "metadata": {},
   "source": [
    "# Applying model to API data"
   ]
  },
  {
   "cell_type": "code",
   "execution_count": 11,
   "id": "523dc498",
   "metadata": {},
   "outputs": [
    {
     "data": {
      "text/html": [
       "<div>\n",
       "<style scoped>\n",
       "    .dataframe tbody tr th:only-of-type {\n",
       "        vertical-align: middle;\n",
       "    }\n",
       "\n",
       "    .dataframe tbody tr th {\n",
       "        vertical-align: top;\n",
       "    }\n",
       "\n",
       "    .dataframe thead th {\n",
       "        text-align: right;\n",
       "    }\n",
       "</style>\n",
       "<table border=\"1\" class=\"dataframe\">\n",
       "  <thead>\n",
       "    <tr style=\"text-align: right;\">\n",
       "      <th></th>\n",
       "      <th>Tweet</th>\n",
       "      <th>Date</th>\n",
       "    </tr>\n",
       "  </thead>\n",
       "  <tbody>\n",
       "    <tr>\n",
       "      <th>0</th>\n",
       "      <td>current stats of delegatedonthate block find p...</td>\n",
       "      <td>2022-05-19 23:59:59+00:00</td>\n",
       "    </tr>\n",
       "    <tr>\n",
       "      <th>1</th>\n",
       "      <td>bbcworld for all those who be new to this work...</td>\n",
       "      <td>2022-05-19 23:59:58+00:00</td>\n",
       "    </tr>\n",
       "    <tr>\n",
       "      <th>2</th>\n",
       "      <td>smilingpunks floor price  no gas fee polygon b...</td>\n",
       "      <td>2022-05-19 23:59:56+00:00</td>\n",
       "    </tr>\n",
       "    <tr>\n",
       "      <th>3</th>\n",
       "      <td>i be claim my free lightning sat from bitcoine...</td>\n",
       "      <td>2022-05-19 23:59:56+00:00</td>\n",
       "    </tr>\n",
       "    <tr>\n",
       "      <th>4</th>\n",
       "      <td>washingtonpost for all those who be new to thi...</td>\n",
       "      <td>2022-05-19 23:59:54+00:00</td>\n",
       "    </tr>\n",
       "    <tr>\n",
       "      <th>...</th>\n",
       "      <td>...</td>\n",
       "      <td>...</td>\n",
       "    </tr>\n",
       "    <tr>\n",
       "      <th>499995</th>\n",
       "      <td>natashacryptous luna lunaterra lunaburn will h...</td>\n",
       "      <td>2022-05-22 14:40:47+00:00</td>\n",
       "    </tr>\n",
       "    <tr>\n",
       "      <th>499996</th>\n",
       "      <td>cryptocurrencies bitcoin litecoin and ethereum...</td>\n",
       "      <td>2022-05-22 14:40:46+00:00</td>\n",
       "    </tr>\n",
       "    <tr>\n",
       "      <th>499997</th>\n",
       "      <td>cryptocurrencies bitcoin litecoin and ethereum...</td>\n",
       "      <td>2022-05-22 14:40:46+00:00</td>\n",
       "    </tr>\n",
       "    <tr>\n",
       "      <th>499998</th>\n",
       "      <td>this be a big opportunity.made by a very profe...</td>\n",
       "      <td>2022-05-22 14:40:45+00:00</td>\n",
       "    </tr>\n",
       "    <tr>\n",
       "      <th>499999</th>\n",
       "      <td>hopium hope and optimism alux meme nft collect...</td>\n",
       "      <td>2022-05-22 14:40:45+00:00</td>\n",
       "    </tr>\n",
       "  </tbody>\n",
       "</table>\n",
       "<p>500000 rows × 2 columns</p>\n",
       "</div>"
      ],
      "text/plain": [
       "                                                    Tweet  \\\n",
       "0       current stats of delegatedonthate block find p...   \n",
       "1       bbcworld for all those who be new to this work...   \n",
       "2       smilingpunks floor price  no gas fee polygon b...   \n",
       "3       i be claim my free lightning sat from bitcoine...   \n",
       "4       washingtonpost for all those who be new to thi...   \n",
       "...                                                   ...   \n",
       "499995  natashacryptous luna lunaterra lunaburn will h...   \n",
       "499996  cryptocurrencies bitcoin litecoin and ethereum...   \n",
       "499997  cryptocurrencies bitcoin litecoin and ethereum...   \n",
       "499998  this be a big opportunity.made by a very profe...   \n",
       "499999  hopium hope and optimism alux meme nft collect...   \n",
       "\n",
       "                             Date  \n",
       "0       2022-05-19 23:59:59+00:00  \n",
       "1       2022-05-19 23:59:58+00:00  \n",
       "2       2022-05-19 23:59:56+00:00  \n",
       "3       2022-05-19 23:59:56+00:00  \n",
       "4       2022-05-19 23:59:54+00:00  \n",
       "...                           ...  \n",
       "499995  2022-05-22 14:40:47+00:00  \n",
       "499996  2022-05-22 14:40:46+00:00  \n",
       "499997  2022-05-22 14:40:46+00:00  \n",
       "499998  2022-05-22 14:40:45+00:00  \n",
       "499999  2022-05-22 14:40:45+00:00  \n",
       "\n",
       "[500000 rows x 2 columns]"
      ]
     },
     "execution_count": 11,
     "metadata": {},
     "output_type": "execute_result"
    }
   ],
   "source": [
    "data = pd.read_csv(\"data/Btc_tweets_17_23.csv\").drop(columns=[\"Unnamed: 0\"])\n",
    "\n",
    "updated = []\n",
    "for tweet in data[\"tweet\"]:\n",
    "    updated.append((tweet[1:-1].replace(\",\", \"\").replace(\"'\", \"\")))\n",
    "    \n",
    "api = pd.DataFrame(zip(updated, data[\"date\"]), columns=[\"Tweet\", \"Date\"])\n",
    "api"
   ]
  },
  {
   "cell_type": "code",
   "execution_count": 12,
   "id": "373d2d8f",
   "metadata": {
    "scrolled": false
   },
   "outputs": [
    {
     "data": {
      "text/html": [
       "<div>\n",
       "<style scoped>\n",
       "    .dataframe tbody tr th:only-of-type {\n",
       "        vertical-align: middle;\n",
       "    }\n",
       "\n",
       "    .dataframe tbody tr th {\n",
       "        vertical-align: top;\n",
       "    }\n",
       "\n",
       "    .dataframe thead th {\n",
       "        text-align: right;\n",
       "    }\n",
       "</style>\n",
       "<table border=\"1\" class=\"dataframe\">\n",
       "  <thead>\n",
       "    <tr style=\"text-align: right;\">\n",
       "      <th></th>\n",
       "      <th>Tweet</th>\n",
       "      <th>Date</th>\n",
       "      <th>Sentiment</th>\n",
       "    </tr>\n",
       "  </thead>\n",
       "  <tbody>\n",
       "    <tr>\n",
       "      <th>118593</th>\n",
       "      <td>cryptocurrencies banking in the shadow of bitc...</td>\n",
       "      <td>2022-05-18 18:39:07+00:00</td>\n",
       "      <td>0.168113</td>\n",
       "    </tr>\n",
       "    <tr>\n",
       "      <th>163164</th>\n",
       "      <td>bitcoin may feed trouble</td>\n",
       "      <td>2022-05-18 07:42:00+00:00</td>\n",
       "      <td>-0.057807</td>\n",
       "    </tr>\n",
       "    <tr>\n",
       "      <th>278076</th>\n",
       "      <td>tinalee bitcoin why dont you listen</td>\n",
       "      <td>2022-05-20 21:52:40+00:00</td>\n",
       "      <td>0.125979</td>\n",
       "    </tr>\n",
       "    <tr>\n",
       "      <th>77103</th>\n",
       "      <td>xrp be get ready to fly to the moon  xrp rippl...</td>\n",
       "      <td>2022-05-19 02:20:20+00:00</td>\n",
       "      <td>0.345112</td>\n",
       "    </tr>\n",
       "    <tr>\n",
       "      <th>365436</th>\n",
       "      <td>g finance leader call for swift and comprehens...</td>\n",
       "      <td>2022-05-21 02:34:08+00:00</td>\n",
       "      <td>-0.328328</td>\n",
       "    </tr>\n",
       "  </tbody>\n",
       "</table>\n",
       "</div>"
      ],
      "text/plain": [
       "                                                    Tweet  \\\n",
       "118593  cryptocurrencies banking in the shadow of bitc...   \n",
       "163164                           bitcoin may feed trouble   \n",
       "278076                tinalee bitcoin why dont you listen   \n",
       "77103   xrp be get ready to fly to the moon  xrp rippl...   \n",
       "365436  g finance leader call for swift and comprehens...   \n",
       "\n",
       "                             Date  Sentiment  \n",
       "118593  2022-05-18 18:39:07+00:00   0.168113  \n",
       "163164  2022-05-18 07:42:00+00:00  -0.057807  \n",
       "278076  2022-05-20 21:52:40+00:00   0.125979  \n",
       "77103   2022-05-19 02:20:20+00:00   0.345112  \n",
       "365436  2022-05-21 02:34:08+00:00  -0.328328  "
      ]
     },
     "execution_count": 12,
     "metadata": {},
     "output_type": "execute_result"
    }
   ],
   "source": [
    "api_counts = count.transform(api[\"Tweet\"])\n",
    "api_tfidf = tfidf_transformer.transform(api_counts)\n",
    "\n",
    "r_pred = ridge_opt.predict(api_tfidf)\n",
    "\n",
    "df = pd.DataFrame(zip(api[\"Tweet\"], api[\"Date\"], r_pred), columns=[\"Tweet\", \"Date\", \"Sentiment\"])\n",
    "df.sample(5)"
   ]
  },
  {
   "cell_type": "markdown",
   "id": "5a69491e",
   "metadata": {},
   "source": [
    "## Splitting data"
   ]
  },
  {
   "cell_type": "code",
   "execution_count": 13,
   "id": "2b7c08de",
   "metadata": {},
   "outputs": [
    {
     "data": {
      "text/html": [
       "<div>\n",
       "<style scoped>\n",
       "    .dataframe tbody tr th:only-of-type {\n",
       "        vertical-align: middle;\n",
       "    }\n",
       "\n",
       "    .dataframe tbody tr th {\n",
       "        vertical-align: top;\n",
       "    }\n",
       "\n",
       "    .dataframe thead th {\n",
       "        text-align: right;\n",
       "    }\n",
       "</style>\n",
       "<table border=\"1\" class=\"dataframe\">\n",
       "  <thead>\n",
       "    <tr style=\"text-align: right;\">\n",
       "      <th></th>\n",
       "      <th>Tweet</th>\n",
       "      <th>Date</th>\n",
       "      <th>Sentiment</th>\n",
       "    </tr>\n",
       "  </thead>\n",
       "  <tbody>\n",
       "    <tr>\n",
       "      <th>0</th>\n",
       "      <td>current stats of delegatedonthate block find p...</td>\n",
       "      <td>2022-05-19</td>\n",
       "      <td>-0.130509</td>\n",
       "    </tr>\n",
       "    <tr>\n",
       "      <th>1</th>\n",
       "      <td>bbcworld for all those who be new to this work...</td>\n",
       "      <td>2022-05-19</td>\n",
       "      <td>0.209407</td>\n",
       "    </tr>\n",
       "    <tr>\n",
       "      <th>2</th>\n",
       "      <td>smilingpunks floor price  no gas fee polygon b...</td>\n",
       "      <td>2022-05-19</td>\n",
       "      <td>0.391721</td>\n",
       "    </tr>\n",
       "    <tr>\n",
       "      <th>3</th>\n",
       "      <td>i be claim my free lightning sat from bitcoine...</td>\n",
       "      <td>2022-05-19</td>\n",
       "      <td>0.258565</td>\n",
       "    </tr>\n",
       "    <tr>\n",
       "      <th>4</th>\n",
       "      <td>washingtonpost for all those who be new to thi...</td>\n",
       "      <td>2022-05-19</td>\n",
       "      <td>0.209407</td>\n",
       "    </tr>\n",
       "    <tr>\n",
       "      <th>...</th>\n",
       "      <td>...</td>\n",
       "      <td>...</td>\n",
       "      <td>...</td>\n",
       "    </tr>\n",
       "    <tr>\n",
       "      <th>499995</th>\n",
       "      <td>natashacryptous luna lunaterra lunaburn will h...</td>\n",
       "      <td>2022-05-22</td>\n",
       "      <td>0.322164</td>\n",
       "    </tr>\n",
       "    <tr>\n",
       "      <th>499996</th>\n",
       "      <td>cryptocurrencies bitcoin litecoin and ethereum...</td>\n",
       "      <td>2022-05-22</td>\n",
       "      <td>0.197086</td>\n",
       "    </tr>\n",
       "    <tr>\n",
       "      <th>499997</th>\n",
       "      <td>cryptocurrencies bitcoin litecoin and ethereum...</td>\n",
       "      <td>2022-05-22</td>\n",
       "      <td>0.197086</td>\n",
       "    </tr>\n",
       "    <tr>\n",
       "      <th>499998</th>\n",
       "      <td>this be a big opportunity.made by a very profe...</td>\n",
       "      <td>2022-05-22</td>\n",
       "      <td>0.682156</td>\n",
       "    </tr>\n",
       "    <tr>\n",
       "      <th>499999</th>\n",
       "      <td>hopium hope and optimism alux meme nft collect...</td>\n",
       "      <td>2022-05-22</td>\n",
       "      <td>0.269368</td>\n",
       "    </tr>\n",
       "  </tbody>\n",
       "</table>\n",
       "<p>500000 rows × 3 columns</p>\n",
       "</div>"
      ],
      "text/plain": [
       "                                                    Tweet        Date  \\\n",
       "0       current stats of delegatedonthate block find p...  2022-05-19   \n",
       "1       bbcworld for all those who be new to this work...  2022-05-19   \n",
       "2       smilingpunks floor price  no gas fee polygon b...  2022-05-19   \n",
       "3       i be claim my free lightning sat from bitcoine...  2022-05-19   \n",
       "4       washingtonpost for all those who be new to thi...  2022-05-19   \n",
       "...                                                   ...         ...   \n",
       "499995  natashacryptous luna lunaterra lunaburn will h...  2022-05-22   \n",
       "499996  cryptocurrencies bitcoin litecoin and ethereum...  2022-05-22   \n",
       "499997  cryptocurrencies bitcoin litecoin and ethereum...  2022-05-22   \n",
       "499998  this be a big opportunity.made by a very profe...  2022-05-22   \n",
       "499999  hopium hope and optimism alux meme nft collect...  2022-05-22   \n",
       "\n",
       "        Sentiment  \n",
       "0       -0.130509  \n",
       "1        0.209407  \n",
       "2        0.391721  \n",
       "3        0.258565  \n",
       "4        0.209407  \n",
       "...           ...  \n",
       "499995   0.322164  \n",
       "499996   0.197086  \n",
       "499997   0.197086  \n",
       "499998   0.682156  \n",
       "499999   0.269368  \n",
       "\n",
       "[500000 rows x 3 columns]"
      ]
     },
     "execution_count": 13,
     "metadata": {},
     "output_type": "execute_result"
    }
   ],
   "source": [
    "import datetime as dt\n",
    "\n",
    "df[\"Date\"] = [d.date() for d in pd.to_datetime(df[\"Date\"])]\n",
    "df"
   ]
  },
  {
   "cell_type": "code",
   "execution_count": 14,
   "id": "5cef5ceb",
   "metadata": {},
   "outputs": [],
   "source": [
    "df.to_csv(\"data/api_tagged.csv\")"
   ]
  },
  {
   "cell_type": "markdown",
   "id": "dea53d5e",
   "metadata": {},
   "source": [
    "# Big dataset tagging"
   ]
  },
  {
   "cell_type": "code",
   "execution_count": 114,
   "id": "6a9f6fb3",
   "metadata": {},
   "outputs": [],
   "source": [
    "import pandas as pd\n",
    "\n",
    "btc_tweets = pd.read_csv(\"data/BIG_btc_tweets.csv\", low_memory=False)"
   ]
  },
  {
   "cell_type": "code",
   "execution_count": 115,
   "id": "6068bdbb",
   "metadata": {},
   "outputs": [
    {
     "data": {
      "text/html": [
       "<div>\n",
       "<style scoped>\n",
       "    .dataframe tbody tr th:only-of-type {\n",
       "        vertical-align: middle;\n",
       "    }\n",
       "\n",
       "    .dataframe tbody tr th {\n",
       "        vertical-align: top;\n",
       "    }\n",
       "\n",
       "    .dataframe thead th {\n",
       "        text-align: right;\n",
       "    }\n",
       "</style>\n",
       "<table border=\"1\" class=\"dataframe\">\n",
       "  <thead>\n",
       "    <tr style=\"text-align: right;\">\n",
       "      <th></th>\n",
       "      <th>date</th>\n",
       "      <th>text</th>\n",
       "    </tr>\n",
       "  </thead>\n",
       "  <tbody>\n",
       "    <tr>\n",
       "      <th>0</th>\n",
       "      <td>2021-02-10 23:59:04</td>\n",
       "      <td>Blue Ridge Bank shares halted by NYSE after #b...</td>\n",
       "    </tr>\n",
       "    <tr>\n",
       "      <th>1</th>\n",
       "      <td>2021-02-10 23:58:48</td>\n",
       "      <td>😎 Today, that's this #Thursday, we will do a \"...</td>\n",
       "    </tr>\n",
       "    <tr>\n",
       "      <th>2</th>\n",
       "      <td>2021-02-10 23:54:48</td>\n",
       "      <td>Guys evening, I have read this article about B...</td>\n",
       "    </tr>\n",
       "    <tr>\n",
       "      <th>3</th>\n",
       "      <td>2021-02-10 23:54:33</td>\n",
       "      <td>$BTC A big chance in a billion! Price: \\487264...</td>\n",
       "    </tr>\n",
       "    <tr>\n",
       "      <th>4</th>\n",
       "      <td>2021-02-10 23:54:06</td>\n",
       "      <td>This network is secured by 9 508 nodes as of t...</td>\n",
       "    </tr>\n",
       "  </tbody>\n",
       "</table>\n",
       "</div>"
      ],
      "text/plain": [
       "                  date                                               text\n",
       "0  2021-02-10 23:59:04  Blue Ridge Bank shares halted by NYSE after #b...\n",
       "1  2021-02-10 23:58:48  😎 Today, that's this #Thursday, we will do a \"...\n",
       "2  2021-02-10 23:54:48  Guys evening, I have read this article about B...\n",
       "3  2021-02-10 23:54:33  $BTC A big chance in a billion! Price: \\487264...\n",
       "4  2021-02-10 23:54:06  This network is secured by 9 508 nodes as of t..."
      ]
     },
     "execution_count": 115,
     "metadata": {},
     "output_type": "execute_result"
    }
   ],
   "source": [
    "btc_tweets = btc_tweets[['date', 'text']]\n",
    "btc_tweets.head(5) "
   ]
  },
  {
   "cell_type": "code",
   "execution_count": 116,
   "id": "f376d13e",
   "metadata": {},
   "outputs": [],
   "source": [
    "sorted = btc_tweets.sort_values('date').dropna().reset_index(drop=True)"
   ]
  },
  {
   "cell_type": "code",
   "execution_count": 117,
   "id": "1fd1f424",
   "metadata": {},
   "outputs": [],
   "source": [
    "reduced = sorted.iloc[1200000:1999000]"
   ]
  },
  {
   "cell_type": "code",
   "execution_count": 118,
   "id": "e21a4220",
   "metadata": {},
   "outputs": [
    {
     "name": "stderr",
     "output_type": "stream",
     "text": [
      "C:\\Users\\yoshm\\AppData\\Local\\Temp/ipykernel_22096/3817734488.py:2: SettingWithCopyWarning: \n",
      "A value is trying to be set on a copy of a slice from a DataFrame.\n",
      "Try using .loc[row_indexer,col_indexer] = value instead\n",
      "\n",
      "See the caveats in the documentation: https://pandas.pydata.org/pandas-docs/stable/user_guide/indexing.html#returning-a-view-versus-a-copy\n",
      "  reduced[\"date\"] = dates\n"
     ]
    }
   ],
   "source": [
    "dates = [d.date() for d in pd.to_datetime(reduced[\"date\"])]\n",
    "reduced[\"date\"] = dates"
   ]
  },
  {
   "cell_type": "code",
   "execution_count": 89,
   "id": "59d789e6",
   "metadata": {},
   "outputs": [
    {
     "name": "stderr",
     "output_type": "stream",
     "text": [
      "C:\\Users\\yoshm\\AppData\\Local\\Temp/ipykernel_22096/1032930164.py:4: SettingWithCopyWarning: \n",
      "A value is trying to be set on a copy of a slice from a DataFrame.\n",
      "Try using .loc[row_indexer,col_indexer] = value instead\n",
      "\n",
      "See the caveats in the documentation: https://pandas.pydata.org/pandas-docs/stable/user_guide/indexing.html#returning-a-view-versus-a-copy\n",
      "  reduced[\"text\"] = reduced[\"text\"].str.lower().astype(str)\n",
      "C:\\Users\\yoshm\\AppData\\Local\\Temp/ipykernel_22096/1032930164.py:7: SettingWithCopyWarning: \n",
      "A value is trying to be set on a copy of a slice from a DataFrame.\n",
      "Try using .loc[row_indexer,col_indexer] = value instead\n",
      "\n",
      "See the caveats in the documentation: https://pandas.pydata.org/pandas-docs/stable/user_guide/indexing.html#returning-a-view-versus-a-copy\n",
      "  reduced[\"text\"] = reduced[\"text\"].apply(lambda x: re.sub(r'https?:\\/\\/\\S+', '', x))\n",
      "C:\\Users\\yoshm\\AppData\\Local\\Temp/ipykernel_22096/1032930164.py:11: SettingWithCopyWarning: \n",
      "A value is trying to be set on a copy of a slice from a DataFrame.\n",
      "Try using .loc[row_indexer,col_indexer] = value instead\n",
      "\n",
      "See the caveats in the documentation: https://pandas.pydata.org/pandas-docs/stable/user_guide/indexing.html#returning-a-view-versus-a-copy\n",
      "  reduced[\"text\"] = reduced[\"text\"].apply(lambda x: re.sub(r'&[a-z]+;', '', x))\n",
      "C:\\Users\\yoshm\\AppData\\Local\\Temp/ipykernel_22096/1032930164.py:14: SettingWithCopyWarning: \n",
      "A value is trying to be set on a copy of a slice from a DataFrame.\n",
      "Try using .loc[row_indexer,col_indexer] = value instead\n",
      "\n",
      "See the caveats in the documentation: https://pandas.pydata.org/pandas-docs/stable/user_guide/indexing.html#returning-a-view-versus-a-copy\n",
      "  reduced[\"text\"] = reduced[\"text\"].apply(lambda x: re.sub(r\"[^a-z\\s.!?]\", '', x))\n",
      "C:\\Users\\yoshm\\AppData\\Local\\Temp/ipykernel_22096/1032930164.py:17: SettingWithCopyWarning: \n",
      "A value is trying to be set on a copy of a slice from a DataFrame.\n",
      "Try using .loc[row_indexer,col_indexer] = value instead\n",
      "\n",
      "See the caveats in the documentation: https://pandas.pydata.org/pandas-docs/stable/user_guide/indexing.html#returning-a-view-versus-a-copy\n",
      "  reduced[\"text\"] = reduced[\"text\"].apply(lambda x: re.sub(r'{link}', '', x))\n",
      "C:\\Users\\yoshm\\AppData\\Local\\Temp/ipykernel_22096/1032930164.py:20: SettingWithCopyWarning: \n",
      "A value is trying to be set on a copy of a slice from a DataFrame.\n",
      "Try using .loc[row_indexer,col_indexer] = value instead\n",
      "\n",
      "See the caveats in the documentation: https://pandas.pydata.org/pandas-docs/stable/user_guide/indexing.html#returning-a-view-versus-a-copy\n",
      "  reduced[\"text\"]= reduced[\"text\"].str.replace('url', '')\n",
      "C:\\Users\\yoshm\\AppData\\Local\\Temp/ipykernel_22096/1032930164.py:21: SettingWithCopyWarning: \n",
      "A value is trying to be set on a copy of a slice from a DataFrame.\n",
      "Try using .loc[row_indexer,col_indexer] = value instead\n",
      "\n",
      "See the caveats in the documentation: https://pandas.pydata.org/pandas-docs/stable/user_guide/indexing.html#returning-a-view-versus-a-copy\n",
      "  reduced[\"text\"]= reduced[\"text\"].str.replace('atuser', '')\n"
     ]
    },
    {
     "data": {
      "text/html": [
       "<div>\n",
       "<style scoped>\n",
       "    .dataframe tbody tr th:only-of-type {\n",
       "        vertical-align: middle;\n",
       "    }\n",
       "\n",
       "    .dataframe tbody tr th {\n",
       "        vertical-align: top;\n",
       "    }\n",
       "\n",
       "    .dataframe thead th {\n",
       "        text-align: right;\n",
       "    }\n",
       "</style>\n",
       "<table border=\"1\" class=\"dataframe\">\n",
       "  <thead>\n",
       "    <tr style=\"text-align: right;\">\n",
       "      <th></th>\n",
       "      <th>date</th>\n",
       "      <th>text</th>\n",
       "    </tr>\n",
       "  </thead>\n",
       "  <tbody>\n",
       "    <tr>\n",
       "      <th>1200000</th>\n",
       "      <td>2021-08-26</td>\n",
       "      <td>bitcointrustbct i hope its a great project.  a...</td>\n",
       "    </tr>\n",
       "    <tr>\n",
       "      <th>1200001</th>\n",
       "      <td>2021-08-26</td>\n",
       "      <td>jobcashofficial good project\\n\\nairdropinside\\...</td>\n",
       "    </tr>\n",
       "    <tr>\n",
       "      <th>1200002</th>\n",
       "      <td>2021-08-26</td>\n",
       "      <td>jobcashofficial nice project is implemented ve...</td>\n",
       "    </tr>\n",
       "    <tr>\n",
       "      <th>1200003</th>\n",
       "      <td>2021-08-26</td>\n",
       "      <td>bitcoin atms illinoisfunded coinflip new compl...</td>\n",
       "    </tr>\n",
       "    <tr>\n",
       "      <th>1200004</th>\n",
       "      <td>2021-08-26</td>\n",
       "      <td>what was the third part of the holy trinity? a...</td>\n",
       "    </tr>\n",
       "  </tbody>\n",
       "</table>\n",
       "</div>"
      ],
      "text/plain": [
       "               date                                               text\n",
       "1200000  2021-08-26  bitcointrustbct i hope its a great project.  a...\n",
       "1200001  2021-08-26  jobcashofficial good project\\n\\nairdropinside\\...\n",
       "1200002  2021-08-26  jobcashofficial nice project is implemented ve...\n",
       "1200003  2021-08-26  bitcoin atms illinoisfunded coinflip new compl...\n",
       "1200004  2021-08-26  what was the third part of the holy trinity? a..."
      ]
     },
     "execution_count": 89,
     "metadata": {},
     "output_type": "execute_result"
    }
   ],
   "source": [
    "import re \n",
    "\n",
    "# Provide case insensitive data\n",
    "reduced[\"text\"] = reduced[\"text\"].str.lower().astype(str)\n",
    "\n",
    "# Take out links with or without www\n",
    "reduced[\"text\"] = reduced[\"text\"].apply(lambda x: re.sub(r'https?:\\/\\/\\S+', '', x))\n",
    "reduced[\"text\"].apply(lambda x: re.sub(r\"www\\.[a-z]?\\.?(com)+|[a-z]+\\.(com)\", '', x))\n",
    "\n",
    "# Take out possible HTML character references \n",
    "reduced[\"text\"] = reduced[\"text\"].apply(lambda x: re.sub(r'&[a-z]+;', '', x))\n",
    "\n",
    "# Take out nonletter characters except for spaces and sentence delimitators\n",
    "reduced[\"text\"] = reduced[\"text\"].apply(lambda x: re.sub(r\"[^a-z\\s.!?]\", '', x))\n",
    "\n",
    "# Sometimes twitter data has links preprocessed into a reference such as {link}\n",
    "reduced[\"text\"] = reduced[\"text\"].apply(lambda x: re.sub(r'{link}', '', x))\n",
    "\n",
    "# Noticed the dataset contains at user and url references so we can remove them\n",
    "reduced[\"text\"] = reduced[\"text\"].str.replace('url', '')\n",
    "reduced[\"text\"] = reduced[\"text\"].str.replace('atuser', '')\n",
    "\n",
    "reduced.head(5)"
   ]
  },
  {
   "cell_type": "code",
   "execution_count": null,
   "id": "f0e88188",
   "metadata": {},
   "outputs": [],
   "source": [
    "import nltk\n",
    "from nltk.tokenize import RegexpTokenizer\n",
    "\n",
    "regextk = RegexpTokenizer('\\s+', gaps=True)\n",
    "\n",
    "reduced_tagged = [nltk.pos_tag(regextk.tokenize(tweet)) for tweet in reduced[\"text\"] if type(tweet) == str]"
   ]
  },
  {
   "cell_type": "code",
   "execution_count": null,
   "id": "2880f5b6",
   "metadata": {},
   "outputs": [],
   "source": [
    "import string\n",
    "from nltk.stem import WordNetLemmatizer\n",
    "from nltk.corpus import wordnet as wn\n",
    "\n",
    "def wn_pos(tag):\n",
    "    if tag.startswith('J'):\n",
    "        return wn.ADJ\n",
    "    if tag.startswith('V'):\n",
    "        return wn.VERB\n",
    "    if tag.startswith('N'):\n",
    "        return wn.NOUN\n",
    "    if tag.startswith('R'):\n",
    "        return wn.ADV\n",
    "    return None\n",
    "\n",
    "lem_tweets = []\n",
    "lem = WordNetLemmatizer()\n",
    "\n",
    "for tweet in reduced_tagged:\n",
    "    lemmas = []\n",
    "    \n",
    "    for word, tag in tweet:\n",
    "        wn_tag = wn_pos(tag)\n",
    "\n",
    "        if wn_pos(tag) is not None:\n",
    "            lemmas.append(lem.lemmatize(word, wn_tag))\n",
    "        else:\n",
    "            lemmas.append(lem.lemmatize(word))\n",
    "                \n",
    "    lem_tweets.append(lemmas)"
   ]
  },
  {
   "cell_type": "code",
   "execution_count": null,
   "id": "3eba885f",
   "metadata": {},
   "outputs": [],
   "source": [
    "joined = [\" \".join(tweet) for tweet in lem_tweets]\n",
    "\n",
    "big = pd.DataFrame({\"Date\" : reduced[\"date\"], \n",
    "                    \"Tweet\" : joined})\n",
    "big"
   ]
  },
  {
   "cell_type": "code",
   "execution_count": 112,
   "id": "101f0644",
   "metadata": {},
   "outputs": [
    {
     "data": {
      "text/html": [
       "<div>\n",
       "<style scoped>\n",
       "    .dataframe tbody tr th:only-of-type {\n",
       "        vertical-align: middle;\n",
       "    }\n",
       "\n",
       "    .dataframe tbody tr th {\n",
       "        vertical-align: top;\n",
       "    }\n",
       "\n",
       "    .dataframe thead th {\n",
       "        text-align: right;\n",
       "    }\n",
       "</style>\n",
       "<table border=\"1\" class=\"dataframe\">\n",
       "  <thead>\n",
       "    <tr style=\"text-align: right;\">\n",
       "      <th></th>\n",
       "      <th>Tweet</th>\n",
       "      <th>Date</th>\n",
       "      <th>Sentiment</th>\n",
       "    </tr>\n",
       "  </thead>\n",
       "  <tbody>\n",
       "    <tr>\n",
       "      <th>7295</th>\n",
       "      <td>for all you bitcoin maximist bitcoin cycle v b...</td>\n",
       "      <td>2021-08-26</td>\n",
       "      <td>-0.048855</td>\n",
       "    </tr>\n",
       "    <tr>\n",
       "      <th>8887</th>\n",
       "      <td>sometimes transfer from cold wallet to bank be...</td>\n",
       "      <td>2021-08-26</td>\n",
       "      <td>0.231735</td>\n",
       "    </tr>\n",
       "    <tr>\n",
       "      <th>8295</th>\n",
       "      <td>the price of bitcoin btc show the trust in mac...</td>\n",
       "      <td>2021-08-26</td>\n",
       "      <td>0.401714</td>\n",
       "    </tr>\n",
       "    <tr>\n",
       "      <th>3461</th>\n",
       "      <td>revolution be my name bitcoin</td>\n",
       "      <td>2021-08-26</td>\n",
       "      <td>-0.455769</td>\n",
       "    </tr>\n",
       "    <tr>\n",
       "      <th>740</th>\n",
       "      <td>jobcashofficial this be a good project and hav...</td>\n",
       "      <td>2021-08-26</td>\n",
       "      <td>1.334966</td>\n",
       "    </tr>\n",
       "  </tbody>\n",
       "</table>\n",
       "</div>"
      ],
      "text/plain": [
       "                                                  Tweet        Date  Sentiment\n",
       "7295  for all you bitcoin maximist bitcoin cycle v b...  2021-08-26  -0.048855\n",
       "8887  sometimes transfer from cold wallet to bank be...  2021-08-26   0.231735\n",
       "8295  the price of bitcoin btc show the trust in mac...  2021-08-26   0.401714\n",
       "3461                      revolution be my name bitcoin  2021-08-26  -0.455769\n",
       "740   jobcashofficial this be a good project and hav...  2021-08-26   1.334966"
      ]
     },
     "execution_count": 112,
     "metadata": {},
     "output_type": "execute_result"
    }
   ],
   "source": [
    "big_counts = count.transform(big[\"Tweet\"])\n",
    "big_tfidf = tfidf_transformer.transform(big_counts)\n",
    "\n",
    "r_pred = ridge_opt.predict(big_tfidf)\n",
    "\n",
    "df = pd.DataFrame(zip(big[\"Tweet\"], big[\"Date\"], r_pred), columns=[\"Tweet\", \"Date\", \"Sentiment\"])\n",
    "df.sample(5)"
   ]
  },
  {
   "cell_type": "code",
   "execution_count": null,
   "id": "43fea71e",
   "metadata": {},
   "outputs": [],
   "source": []
  }
 ],
 "metadata": {
  "kernelspec": {
   "display_name": "Python 3 (ipykernel)",
   "language": "python",
   "name": "python3"
  },
  "language_info": {
   "codemirror_mode": {
    "name": "ipython",
    "version": 3
   },
   "file_extension": ".py",
   "mimetype": "text/x-python",
   "name": "python",
   "nbconvert_exporter": "python",
   "pygments_lexer": "ipython3",
   "version": "3.8.5"
  }
 },
 "nbformat": 4,
 "nbformat_minor": 5
}
