{
 "cells": [
  {
   "cell_type": "markdown",
   "metadata": {},
   "source": [
    "# Bitcoin price prediction based on *sentiment analysis* of related tweets\n"
   ]
  },
  {
   "cell_type": "markdown",
   "metadata": {},
   "source": [
    "## Introduction\n",
    "For our project, we have chosen to use twitter data to perform a sentiment analysis on users opinions about crypto currencies inorder to create a predictive model that relies on the sentiment to predict how different crpyto currencies may behave, or vice versa.\n",
    "\n",
    "## Description\n",
    "We begin the project by collecting our data\n",
    "\n",
    "### Data\n",
    "-----------\n",
    "First, we selected the datasets we would use for the analysis as well as to train and test our models later on. We have chosen the following datasets for our analysis:\n",
    "\n",
    "- Bitcoin_Sentiment Twitter dataset\n",
    "  > We use data from the following source:https://www.kaggle.com/code/alexandrayuliu/bitcoin-tweets-sentiment-analysis/data as it is already sentiment tagged to train and test our model\n",
    "\n",
    "\n",
    "### Research Question \n",
    "We chose to investigate how the price of Bitcoin may be affected by twitter sentiments about the currency based on a sentiment analysis model trained on the sentiment-tagged corpus and a final prediction model based on the sentiment model."
   ]
  },
  {
   "cell_type": "markdown",
   "metadata": {},
   "source": [
    "# Preprocessing of training data\n",
    "\n",
    "#### Only to be run once, with results saved to CSV file for later access"
   ]
  },
  {
   "cell_type": "code",
   "execution_count": 69,
   "metadata": {},
   "outputs": [
    {
     "data": {
      "text/html": [
       "<div>\n",
       "<style scoped>\n",
       "    .dataframe tbody tr th:only-of-type {\n",
       "        vertical-align: middle;\n",
       "    }\n",
       "\n",
       "    .dataframe tbody tr th {\n",
       "        vertical-align: top;\n",
       "    }\n",
       "\n",
       "    .dataframe thead th {\n",
       "        text-align: right;\n",
       "    }\n",
       "</style>\n",
       "<table border=\"1\" class=\"dataframe\">\n",
       "  <thead>\n",
       "    <tr style=\"text-align: right;\">\n",
       "      <th></th>\n",
       "      <th>date</th>\n",
       "      <th>tweets</th>\n",
       "      <th>score</th>\n",
       "    </tr>\n",
       "  </thead>\n",
       "  <tbody>\n",
       "    <tr>\n",
       "      <th>0</th>\n",
       "      <td>2021-02-05 10:52:04</td>\n",
       "      <td>AT_USER AT_USER AT_USER right here w/ AT_USER ...</td>\n",
       "      <td>0.0000</td>\n",
       "    </tr>\n",
       "    <tr>\n",
       "      <th>1</th>\n",
       "      <td>2021-02-05 10:52:04</td>\n",
       "      <td>AT_USER AT_USER please donate bitcoin19 donate...</td>\n",
       "      <td>0.6597</td>\n",
       "    </tr>\n",
       "    <tr>\n",
       "      <th>2</th>\n",
       "      <td>2021-02-05 10:52:06</td>\n",
       "      <td>$sos market cap is 308 million. if they’re min...</td>\n",
       "      <td>0.0000</td>\n",
       "    </tr>\n",
       "    <tr>\n",
       "      <th>3</th>\n",
       "      <td>2021-02-05 10:52:07</td>\n",
       "      <td>bitcoin btc current price (gbp): £34,880 like ...</td>\n",
       "      <td>0.3612</td>\n",
       "    </tr>\n",
       "    <tr>\n",
       "      <th>4</th>\n",
       "      <td>2021-02-05 10:52:26</td>\n",
       "      <td>AT_USER right here w/ AT_USER URL referral cod...</td>\n",
       "      <td>0.0000</td>\n",
       "    </tr>\n",
       "    <tr>\n",
       "      <th>...</th>\n",
       "      <td>...</td>\n",
       "      <td>...</td>\n",
       "      <td>...</td>\n",
       "    </tr>\n",
       "    <tr>\n",
       "      <th>1519550</th>\n",
       "      <td>2021-10-29 23:59:45</td>\n",
       "      <td>bitcoin &amp;amp; binary trading invest with us ✔️...</td>\n",
       "      <td>0.2732</td>\n",
       "    </tr>\n",
       "    <tr>\n",
       "      <th>1519551</th>\n",
       "      <td>2021-10-29 23:59:49</td>\n",
       "      <td>NaN</td>\n",
       "      <td>NaN</td>\n",
       "    </tr>\n",
       "    <tr>\n",
       "      <th>1519552</th>\n",
       "      <td>2021-10-29 23:59:51</td>\n",
       "      <td>NaN</td>\n",
       "      <td>NaN</td>\n",
       "    </tr>\n",
       "    <tr>\n",
       "      <th>1519553</th>\n",
       "      <td>2021-10-29 23:59:53</td>\n",
       "      <td>join me at bybit and get a $20 bonus in usdt! ...</td>\n",
       "      <td>0.9259</td>\n",
       "    </tr>\n",
       "    <tr>\n",
       "      <th>1519554</th>\n",
       "      <td>2021-10-29 23:59:56</td>\n",
       "      <td>🐳🚨 bitcoin whale alert: [ tx: 9c8d2cd9b34778fb...</td>\n",
       "      <td>0.2960</td>\n",
       "    </tr>\n",
       "  </tbody>\n",
       "</table>\n",
       "<p>1519555 rows × 3 columns</p>\n",
       "</div>"
      ],
      "text/plain": [
       "                        date  \\\n",
       "0        2021-02-05 10:52:04   \n",
       "1        2021-02-05 10:52:04   \n",
       "2        2021-02-05 10:52:06   \n",
       "3        2021-02-05 10:52:07   \n",
       "4        2021-02-05 10:52:26   \n",
       "...                      ...   \n",
       "1519550  2021-10-29 23:59:45   \n",
       "1519551  2021-10-29 23:59:49   \n",
       "1519552  2021-10-29 23:59:51   \n",
       "1519553  2021-10-29 23:59:53   \n",
       "1519554  2021-10-29 23:59:56   \n",
       "\n",
       "                                                    tweets   score  \n",
       "0        AT_USER AT_USER AT_USER right here w/ AT_USER ...  0.0000  \n",
       "1        AT_USER AT_USER please donate bitcoin19 donate...  0.6597  \n",
       "2        $sos market cap is 308 million. if they’re min...  0.0000  \n",
       "3        bitcoin btc current price (gbp): £34,880 like ...  0.3612  \n",
       "4        AT_USER right here w/ AT_USER URL referral cod...  0.0000  \n",
       "...                                                    ...     ...  \n",
       "1519550  bitcoin &amp; binary trading invest with us ✔️...  0.2732  \n",
       "1519551                                                NaN     NaN  \n",
       "1519552                                                NaN     NaN  \n",
       "1519553  join me at bybit and get a $20 bonus in usdt! ...  0.9259  \n",
       "1519554  🐳🚨 bitcoin whale alert: [ tx: 9c8d2cd9b34778fb...  0.2960  \n",
       "\n",
       "[1519555 rows x 3 columns]"
      ]
     },
     "execution_count": 69,
     "metadata": {},
     "output_type": "execute_result"
    }
   ],
   "source": [
    "import pandas as pd\n",
    "sent_tweets = pd.read_csv(\"data/sent-tweets.csv\").drop(columns=['user_location', 'user_description', \n",
    "                                                           'user_followers', 'user_friends',])\n",
    "sent_tweets"
   ]
  },
  {
   "cell_type": "markdown",
   "metadata": {},
   "source": [
    "We chose to not remove the stopwords as Saif et al ( LREC 2014) suggests that it might degrade the quality of the classification.\n",
    "\n",
    "On Stopwords, Filtering and Data Sparsity for Sentiment Analysis of Twitter](http://www.lrec-conf.org/proceedings/lrec2014/pdf/292_Paper.pdf) (Saif et al., LREC 2014)"
   ]
  },
  {
   "cell_type": "code",
   "execution_count": 77,
   "metadata": {},
   "outputs": [
    {
     "data": {
      "text/html": [
       "<div>\n",
       "<style scoped>\n",
       "    .dataframe tbody tr th:only-of-type {\n",
       "        vertical-align: middle;\n",
       "    }\n",
       "\n",
       "    .dataframe tbody tr th {\n",
       "        vertical-align: top;\n",
       "    }\n",
       "\n",
       "    .dataframe thead th {\n",
       "        text-align: right;\n",
       "    }\n",
       "</style>\n",
       "<table border=\"1\" class=\"dataframe\">\n",
       "  <thead>\n",
       "    <tr style=\"text-align: right;\">\n",
       "      <th></th>\n",
       "      <th>date</th>\n",
       "      <th>tweets</th>\n",
       "      <th>score</th>\n",
       "    </tr>\n",
       "  </thead>\n",
       "  <tbody>\n",
       "    <tr>\n",
       "      <th>0</th>\n",
       "      <td>2021-02-05 10:52:04</td>\n",
       "      <td>right here w   referral code</td>\n",
       "      <td>0.0000</td>\n",
       "    </tr>\n",
       "    <tr>\n",
       "      <th>1</th>\n",
       "      <td>2021-02-05 10:52:04</td>\n",
       "      <td>please donate bitcoin donate challenge from ...</td>\n",
       "      <td>0.6597</td>\n",
       "    </tr>\n",
       "    <tr>\n",
       "      <th>2</th>\n",
       "      <td>2021-02-05 10:52:06</td>\n",
       "      <td>sos market cap is  million. if theyre mining ....</td>\n",
       "      <td>0.0000</td>\n",
       "    </tr>\n",
       "    <tr>\n",
       "      <th>3</th>\n",
       "      <td>2021-02-05 10:52:07</td>\n",
       "      <td>bitcoin btc current price gbp  like my updates...</td>\n",
       "      <td>0.3612</td>\n",
       "    </tr>\n",
       "    <tr>\n",
       "      <th>4</th>\n",
       "      <td>2021-02-05 10:52:26</td>\n",
       "      <td>right here w   referral code  helpmehelpyou</td>\n",
       "      <td>0.0000</td>\n",
       "    </tr>\n",
       "  </tbody>\n",
       "</table>\n",
       "</div>"
      ],
      "text/plain": [
       "                  date                                             tweets  \\\n",
       "0  2021-02-05 10:52:04                     right here w   referral code     \n",
       "1  2021-02-05 10:52:04    please donate bitcoin donate challenge from ...   \n",
       "2  2021-02-05 10:52:06  sos market cap is  million. if theyre mining ....   \n",
       "3  2021-02-05 10:52:07  bitcoin btc current price gbp  like my updates...   \n",
       "4  2021-02-05 10:52:26       right here w   referral code  helpmehelpyou    \n",
       "\n",
       "    score  \n",
       "0  0.0000  \n",
       "1  0.6597  \n",
       "2  0.0000  \n",
       "3  0.3612  \n",
       "4  0.0000  "
      ]
     },
     "execution_count": 77,
     "metadata": {},
     "output_type": "execute_result"
    }
   ],
   "source": [
    "import re \n",
    "\n",
    "# Provide case insensitive data\n",
    "sent_tweets[\"tweets\"]=sent_tweets[\"tweets\"].str.lower().astype(str)\n",
    "\n",
    "# Take out links with or without www\n",
    "sent_tweets[\"tweets\"] = sent_tweets[\"tweets\"].apply(lambda x: re.sub(r'https?:\\/\\/\\S+', '', x))\n",
    "sent_tweets[\"tweets\"].apply(lambda x: re.sub(r\"www\\.[a-z]?\\.?(com)+|[a-z]+\\.(com)\", '', x))\n",
    "\n",
    "# Take out possible HTML character references \n",
    "sent_tweets[\"tweets\"] = sent_tweets[\"tweets\"].apply(lambda x: re.sub(r'&[a-z]+;', '', x))\n",
    "\n",
    "# Take out nonletter characters except for spaces and sentence delimitators\n",
    "sent_tweets[\"tweets\"] = sent_tweets[\"tweets\"].apply(lambda x: re.sub(r\"[^a-z\\s.!?]\", '', x))\n",
    "\n",
    "# Sometimes twitter data has links preprocessed into a reference such as {link}\n",
    "sent_tweets[\"tweets\"] = sent_tweets[\"tweets\"].apply(lambda x: re.sub(r'{link}', '', x))\n",
    "\n",
    "# I noticed the dataset contains at user and url references so we can remove them\n",
    "\n",
    "sent_tweets[\"tweets\"]= sent_tweets[\"tweets\"].str.replace('url', '')\n",
    "sent_tweets[\"tweets\"]= sent_tweets[\"tweets\"].str.replace('atuser', '')\n",
    "\n",
    "sent_tweets.head(5)"
   ]
  },
  {
   "cell_type": "code",
   "execution_count": 40,
   "metadata": {},
   "outputs": [
    {
     "data": {
      "text/plain": [
       "([('bitcoin', 'NN'),\n",
       "  ('btc', 'NN'),\n",
       "  ('current', 'JJ'),\n",
       "  ('price', 'NN'),\n",
       "  ('gbp', 'NN'),\n",
       "  ('like', 'IN'),\n",
       "  ('my', 'PRP$'),\n",
       "  ('updates?', 'NN'),\n",
       "  ('you', 'PRP'),\n",
       "  ('can', 'MD'),\n",
       "  ('tip', 'VB'),\n",
       "  ('me', 'PRP'),\n",
       "  ('at', 'IN'),\n",
       "  ('ldztlqrcxnpnvgfnrbazuqvmrz', 'NN')],\n",
       " 0.3612)"
      ]
     },
     "execution_count": 40,
     "metadata": {},
     "output_type": "execute_result"
    }
   ],
   "source": [
    "import nltk\n",
    "from nltk.stem import WordNetLemmatizer\n",
    "from nltk.tokenize import RegexpTokenizer, TweetTokenizer\n",
    "\n",
    "tweets = list(zip(sent_tweets[\"tweets\"], sent_tweets[\"score\"]))\n",
    "\n",
    "regextk = RegexpTokenizer('\\s+', gaps=True)\n",
    "tweettk = TweetTokenizer()\n",
    "\n",
    "tokens = [(regextk.tokenize(tweet), sentiment) for (tweet, sentiment) in tweets if type(tweet) == str]\n",
    "\n",
    "filtered = []\n",
    "for tweet in tokens:\n",
    "    new = []\n",
    "    for tok in tweet[0]:\n",
    "        if tok != \"AT_USER\" and tok != \"URL\":\n",
    "            new.append(tok)\n",
    "            \n",
    "    filtered.append((new, tweet[1]))\n",
    "\n",
    "tagged = [(nltk.pos_tag(tweet), sentiment) for tweet, sentiment in filtered]\n",
    "\n",
    "tagged[3]"
   ]
  },
  {
   "cell_type": "code",
   "execution_count": 41,
   "metadata": {},
   "outputs": [
    {
     "data": {
      "text/plain": [
       "(['bitcoin',\n",
       "  'btc',\n",
       "  'current',\n",
       "  'price',\n",
       "  'gbp',\n",
       "  'like',\n",
       "  'my',\n",
       "  'update',\n",
       "  'you',\n",
       "  'can',\n",
       "  'tip',\n",
       "  'me',\n",
       "  'at',\n",
       "  'ldztlqrcxnpnvgfnrbazuqvmrz'],\n",
       " 0.3612)"
      ]
     },
     "execution_count": 41,
     "metadata": {},
     "output_type": "execute_result"
    }
   ],
   "source": [
    "import string\n",
    "from nltk.corpus import wordnet as wn\n",
    "\n",
    "def wn_pos(tag):\n",
    "    \"converts treebank tags into wordbank tags for lemmatization\"\n",
    "    if tag.startswith('J'):\n",
    "        return wn.ADJ\n",
    "    if tag.startswith('V'):\n",
    "        return wn.VERB\n",
    "    if tag.startswith('N'):\n",
    "        return wn.NOUN\n",
    "    if tag.startswith('R'):\n",
    "        return wn.ADV\n",
    "    return None\n",
    "\n",
    "lem_tweets = []\n",
    "lem = WordNetLemmatizer()\n",
    "\n",
    "for tweet in tagged:\n",
    "    lemmas = []\n",
    "    \n",
    "    for word, tag in tweet[0]:\n",
    "        wn_tag = wn_pos(tag)\n",
    "        \n",
    "        if word[-1] in string.punctuation:\n",
    "                word = word[:-1]\n",
    "\n",
    "        if wn_pos(tag) is not None:\n",
    "            lemmas.append(lem.lemmatize(word, wn_tag))\n",
    "        else:\n",
    "            lemmas.append(lem.lemmatize(word))\n",
    "                \n",
    "    lem_tweets.append((lemmas, tweet[1]))\n",
    "\n",
    "lemmas = [lem for tweet in lem_tweets for lem in tweet]\n",
    "\n",
    "lem_tweets[3]"
   ]
  },
  {
   "cell_type": "code",
   "execution_count": 42,
   "metadata": {},
   "outputs": [],
   "source": [
    "pd.DataFrame(lem_tweets).to_csv(\"lem_tweets.csv\")"
   ]
  },
  {
   "cell_type": "markdown",
   "metadata": {},
   "source": [
    "# End of training data preprocessing\n",
    "\n",
    "# Begin training and apply sentiment tags to new data"
   ]
  },
  {
   "cell_type": "code",
   "execution_count": 14,
   "metadata": {},
   "outputs": [],
   "source": [
    "import pandas as pd\n",
    "import numpy as np\n",
    "\n",
    "def clean_dataset(df):\n",
    "    assert isinstance(df, pd.DataFrame), \"df needs to be a pd.DataFrame\"\n",
    "    df.dropna(inplace=True)\n",
    "    indices_to_keep = ~df.isin([np.nan, np.inf, -np.inf]).any(1)\n",
    "    return df[indices_to_keep]\n",
    "\n",
    "lem_tweets = pd.read_csv(\"data/lem_tweets.csv\").drop(columns=\"Unnamed: 0\").rename(columns={\"0\":\"Tweet\", \"1\":\"Sentiment\"})\n",
    "\n",
    "new = []\n",
    "for tweet in lem_tweets[\"Tweet\"]:\n",
    "    new.append((tweet[1:-1].replace(\",\", \"\").replace(\"'\", \"\")))\n",
    "    \n",
    "data = pd.DataFrame(zip(new, lem_tweets[\"Sentiment\"]), columns=[\"Tweet\", \"Sentiment\"])\n",
    "clean_dataset(data)\n",
    "X=data['Tweet'].astype(str)\n",
    "Y=data['Sentiment']\n",
    "\n"
   ]
  },
  {
   "cell_type": "code",
   "execution_count": 15,
   "metadata": {},
   "outputs": [],
   "source": [
    "from sklearn.model_selection import train_test_split\n",
    "\n",
    "\n",
    "np.random.seed(42)\n",
    "\n",
    "X_train, X_test, y_train, y_test = train_test_split(X,Y, train_size=0.80)\n"
   ]
  },
  {
   "cell_type": "code",
   "execution_count": 26,
   "metadata": {},
   "outputs": [],
   "source": [
    "from sklearn.feature_extraction.text import TfidfTransformer, CountVectorizer\n",
    "\n",
    "count = CountVectorizer(vocabulary=count.vocabulary_)\n",
    "tfidf_transformer = TfidfTransformer()\n",
    "\n",
    "train_counts = count.fit_transform(X_train)\n",
    "train_tfidf = tfidf_transformer.fit_transform(train_counts)"
   ]
  },
  {
   "cell_type": "code",
   "execution_count": 27,
   "metadata": {},
   "outputs": [],
   "source": [
    "import numpy as np\n",
    "from sklearn.linear_model import SGDRegressor, Ridge\n",
    "\n",
    "ridge = Ridge().fit(train_tfidf, y_train)\n"
   ]
  },
  {
   "cell_type": "code",
   "execution_count": 28,
   "metadata": {},
   "outputs": [
    {
     "ename": "ValueError",
     "evalue": "continuous is not supported",
     "output_type": "error",
     "traceback": [
      "\u001b[0;31m---------------------------------------------------------------------------\u001b[0m",
      "\u001b[0;31mValueError\u001b[0m                                Traceback (most recent call last)",
      "\u001b[0;32m<ipython-input-28-90514604ed45>\u001b[0m in \u001b[0;36m<module>\u001b[0;34m\u001b[0m\n\u001b[1;32m      6\u001b[0m \u001b[0;34m\u001b[0m\u001b[0m\n\u001b[1;32m      7\u001b[0m \u001b[0my_pred\u001b[0m\u001b[0;34m=\u001b[0m\u001b[0mridge\u001b[0m\u001b[0;34m.\u001b[0m\u001b[0mpredict\u001b[0m\u001b[0;34m(\u001b[0m\u001b[0mX_t\u001b[0m\u001b[0;34m)\u001b[0m\u001b[0;34m\u001b[0m\u001b[0;34m\u001b[0m\u001b[0m\n\u001b[0;32m----> 8\u001b[0;31m \u001b[0mprint\u001b[0m\u001b[0;34m(\u001b[0m\u001b[0mclassification_report\u001b[0m\u001b[0;34m(\u001b[0m\u001b[0my_test\u001b[0m\u001b[0;34m,\u001b[0m \u001b[0my_pred\u001b[0m\u001b[0;34m)\u001b[0m\u001b[0;34m)\u001b[0m\u001b[0;34m\u001b[0m\u001b[0;34m\u001b[0m\u001b[0m\n\u001b[0m",
      "\u001b[0;32m/opt/anaconda3/lib/python3.8/site-packages/sklearn/utils/validation.py\u001b[0m in \u001b[0;36minner_f\u001b[0;34m(*args, **kwargs)\u001b[0m\n\u001b[1;32m     71\u001b[0m                           FutureWarning)\n\u001b[1;32m     72\u001b[0m         \u001b[0mkwargs\u001b[0m\u001b[0;34m.\u001b[0m\u001b[0mupdate\u001b[0m\u001b[0;34m(\u001b[0m\u001b[0;34m{\u001b[0m\u001b[0mk\u001b[0m\u001b[0;34m:\u001b[0m \u001b[0marg\u001b[0m \u001b[0;32mfor\u001b[0m \u001b[0mk\u001b[0m\u001b[0;34m,\u001b[0m \u001b[0marg\u001b[0m \u001b[0;32min\u001b[0m \u001b[0mzip\u001b[0m\u001b[0;34m(\u001b[0m\u001b[0msig\u001b[0m\u001b[0;34m.\u001b[0m\u001b[0mparameters\u001b[0m\u001b[0;34m,\u001b[0m \u001b[0margs\u001b[0m\u001b[0;34m)\u001b[0m\u001b[0;34m}\u001b[0m\u001b[0;34m)\u001b[0m\u001b[0;34m\u001b[0m\u001b[0;34m\u001b[0m\u001b[0m\n\u001b[0;32m---> 73\u001b[0;31m         \u001b[0;32mreturn\u001b[0m \u001b[0mf\u001b[0m\u001b[0;34m(\u001b[0m\u001b[0;34m**\u001b[0m\u001b[0mkwargs\u001b[0m\u001b[0;34m)\u001b[0m\u001b[0;34m\u001b[0m\u001b[0;34m\u001b[0m\u001b[0m\n\u001b[0m\u001b[1;32m     74\u001b[0m     \u001b[0;32mreturn\u001b[0m \u001b[0minner_f\u001b[0m\u001b[0;34m\u001b[0m\u001b[0;34m\u001b[0m\u001b[0m\n\u001b[1;32m     75\u001b[0m \u001b[0;34m\u001b[0m\u001b[0m\n",
      "\u001b[0;32m/opt/anaconda3/lib/python3.8/site-packages/sklearn/metrics/_classification.py\u001b[0m in \u001b[0;36mclassification_report\u001b[0;34m(y_true, y_pred, labels, target_names, sample_weight, digits, output_dict, zero_division)\u001b[0m\n\u001b[1;32m   1927\u001b[0m     \"\"\"\n\u001b[1;32m   1928\u001b[0m \u001b[0;34m\u001b[0m\u001b[0m\n\u001b[0;32m-> 1929\u001b[0;31m     \u001b[0my_type\u001b[0m\u001b[0;34m,\u001b[0m \u001b[0my_true\u001b[0m\u001b[0;34m,\u001b[0m \u001b[0my_pred\u001b[0m \u001b[0;34m=\u001b[0m \u001b[0m_check_targets\u001b[0m\u001b[0;34m(\u001b[0m\u001b[0my_true\u001b[0m\u001b[0;34m,\u001b[0m \u001b[0my_pred\u001b[0m\u001b[0;34m)\u001b[0m\u001b[0;34m\u001b[0m\u001b[0;34m\u001b[0m\u001b[0m\n\u001b[0m\u001b[1;32m   1930\u001b[0m \u001b[0;34m\u001b[0m\u001b[0m\n\u001b[1;32m   1931\u001b[0m     \u001b[0mlabels_given\u001b[0m \u001b[0;34m=\u001b[0m \u001b[0;32mTrue\u001b[0m\u001b[0;34m\u001b[0m\u001b[0;34m\u001b[0m\u001b[0m\n",
      "\u001b[0;32m/opt/anaconda3/lib/python3.8/site-packages/sklearn/metrics/_classification.py\u001b[0m in \u001b[0;36m_check_targets\u001b[0;34m(y_true, y_pred)\u001b[0m\n\u001b[1;32m     96\u001b[0m     \u001b[0;31m# No metrics support \"multiclass-multioutput\" format\u001b[0m\u001b[0;34m\u001b[0m\u001b[0;34m\u001b[0m\u001b[0;34m\u001b[0m\u001b[0m\n\u001b[1;32m     97\u001b[0m     \u001b[0;32mif\u001b[0m \u001b[0;34m(\u001b[0m\u001b[0my_type\u001b[0m \u001b[0;32mnot\u001b[0m \u001b[0;32min\u001b[0m \u001b[0;34m[\u001b[0m\u001b[0;34m\"binary\"\u001b[0m\u001b[0;34m,\u001b[0m \u001b[0;34m\"multiclass\"\u001b[0m\u001b[0;34m,\u001b[0m \u001b[0;34m\"multilabel-indicator\"\u001b[0m\u001b[0;34m]\u001b[0m\u001b[0;34m)\u001b[0m\u001b[0;34m:\u001b[0m\u001b[0;34m\u001b[0m\u001b[0;34m\u001b[0m\u001b[0m\n\u001b[0;32m---> 98\u001b[0;31m         \u001b[0;32mraise\u001b[0m \u001b[0mValueError\u001b[0m\u001b[0;34m(\u001b[0m\u001b[0;34m\"{0} is not supported\"\u001b[0m\u001b[0;34m.\u001b[0m\u001b[0mformat\u001b[0m\u001b[0;34m(\u001b[0m\u001b[0my_type\u001b[0m\u001b[0;34m)\u001b[0m\u001b[0;34m)\u001b[0m\u001b[0;34m\u001b[0m\u001b[0;34m\u001b[0m\u001b[0m\n\u001b[0m\u001b[1;32m     99\u001b[0m \u001b[0;34m\u001b[0m\u001b[0m\n\u001b[1;32m    100\u001b[0m     \u001b[0;32mif\u001b[0m \u001b[0my_type\u001b[0m \u001b[0;32min\u001b[0m \u001b[0;34m[\u001b[0m\u001b[0;34m\"binary\"\u001b[0m\u001b[0;34m,\u001b[0m \u001b[0;34m\"multiclass\"\u001b[0m\u001b[0;34m]\u001b[0m\u001b[0;34m:\u001b[0m\u001b[0;34m\u001b[0m\u001b[0;34m\u001b[0m\u001b[0m\n",
      "\u001b[0;31mValueError\u001b[0m: continuous is not supported"
     ]
    }
   ],
   "source": [
    "from sklearn.metrics import classification_report\n",
    "\n",
    "X_test_V=count.transform(X_test)\n",
    "\n",
    "X_t=tfidf_transformer.transform(X_test_V)\n",
    "\n",
    "y_pred=ridge.predict(X_t)\n",
    "print(classification_report(y_test, y_pred))\n",
    "\n",
    "# The error is happening because it tries to use something from regression domain in classification domain.\n",
    "#https://stackoverflow.com/questions/33047525/valueerror-continuous-is-not-supported\n",
    "#It should work with another model\n"
   ]
  },
  {
   "cell_type": "markdown",
   "metadata": {},
   "source": [
    "## Import API data"
   ]
  },
  {
   "cell_type": "code",
   "execution_count": 8,
   "metadata": {
    "scrolled": false
   },
   "outputs": [
    {
     "data": {
      "text/html": [
       "<div>\n",
       "<style scoped>\n",
       "    .dataframe tbody tr th:only-of-type {\n",
       "        vertical-align: middle;\n",
       "    }\n",
       "\n",
       "    .dataframe tbody tr th {\n",
       "        vertical-align: top;\n",
       "    }\n",
       "\n",
       "    .dataframe thead th {\n",
       "        text-align: right;\n",
       "    }\n",
       "</style>\n",
       "<table border=\"1\" class=\"dataframe\">\n",
       "  <thead>\n",
       "    <tr style=\"text-align: right;\">\n",
       "      <th></th>\n",
       "      <th>Tweet</th>\n",
       "      <th>Date</th>\n",
       "    </tr>\n",
       "  </thead>\n",
       "  <tbody>\n",
       "    <tr>\n",
       "      <th>0</th>\n",
       "      <td>current stats of delegatedonthate block find p...</td>\n",
       "      <td>2022-05-19 23:59:59+00:00</td>\n",
       "    </tr>\n",
       "    <tr>\n",
       "      <th>1</th>\n",
       "      <td>bbcworld for all those who be new to this work...</td>\n",
       "      <td>2022-05-19 23:59:58+00:00</td>\n",
       "    </tr>\n",
       "    <tr>\n",
       "      <th>2</th>\n",
       "      <td>smilingpunks floor price  no gas fee polygon b...</td>\n",
       "      <td>2022-05-19 23:59:56+00:00</td>\n",
       "    </tr>\n",
       "    <tr>\n",
       "      <th>3</th>\n",
       "      <td>i be claim my free lightning sat from bitcoine...</td>\n",
       "      <td>2022-05-19 23:59:56+00:00</td>\n",
       "    </tr>\n",
       "    <tr>\n",
       "      <th>4</th>\n",
       "      <td>washingtonpost for all those who be new to thi...</td>\n",
       "      <td>2022-05-19 23:59:54+00:00</td>\n",
       "    </tr>\n",
       "  </tbody>\n",
       "</table>\n",
       "</div>"
      ],
      "text/plain": [
       "                                               Tweet  \\\n",
       "0  current stats of delegatedonthate block find p...   \n",
       "1  bbcworld for all those who be new to this work...   \n",
       "2  smilingpunks floor price  no gas fee polygon b...   \n",
       "3  i be claim my free lightning sat from bitcoine...   \n",
       "4  washingtonpost for all those who be new to thi...   \n",
       "\n",
       "                        Date  \n",
       "0  2022-05-19 23:59:59+00:00  \n",
       "1  2022-05-19 23:59:58+00:00  \n",
       "2  2022-05-19 23:59:56+00:00  \n",
       "3  2022-05-19 23:59:56+00:00  \n",
       "4  2022-05-19 23:59:54+00:00  "
      ]
     },
     "execution_count": 8,
     "metadata": {},
     "output_type": "execute_result"
    }
   ],
   "source": [
    "data = pd.read_csv(\"data/Btc_tweets.csv\").drop(columns=[\"Unnamed: 0\"])\n",
    "\n",
    "updated = []\n",
    "for tweet in data[\"tweet\"]:\n",
    "    updated.append((tweet[1:-1].replace(\",\", \"\").replace(\"'\", \"\")))\n",
    "    \n",
    "api = pd.DataFrame(zip(updated, data[\"date\"]), columns=[\"Tweet\", \"Date\"])\n",
    "api.head(5)"
   ]
  },
  {
   "cell_type": "code",
   "execution_count": 19,
   "metadata": {},
   "outputs": [
    {
     "data": {
      "text/html": [
       "<div>\n",
       "<style scoped>\n",
       "    .dataframe tbody tr th:only-of-type {\n",
       "        vertical-align: middle;\n",
       "    }\n",
       "\n",
       "    .dataframe tbody tr th {\n",
       "        vertical-align: top;\n",
       "    }\n",
       "\n",
       "    .dataframe thead th {\n",
       "        text-align: right;\n",
       "    }\n",
       "</style>\n",
       "<table border=\"1\" class=\"dataframe\">\n",
       "  <thead>\n",
       "    <tr style=\"text-align: right;\">\n",
       "      <th></th>\n",
       "      <th>Tweet</th>\n",
       "      <th>Date</th>\n",
       "      <th>Predicted Sentiment</th>\n",
       "    </tr>\n",
       "  </thead>\n",
       "  <tbody>\n",
       "    <tr>\n",
       "      <th>87902</th>\n",
       "      <td>peterschiff for a guy that hat bitcoin you sur...</td>\n",
       "      <td>2022-05-18 22:28:57+00:00</td>\n",
       "      <td>0.466427</td>\n",
       "    </tr>\n",
       "    <tr>\n",
       "      <th>24154</th>\n",
       "      <td>slippage crypto cryptonews cryptocurrency cryp...</td>\n",
       "      <td>2022-05-19 17:10:17+00:00</td>\n",
       "      <td>0.060184</td>\n",
       "    </tr>\n",
       "    <tr>\n",
       "      <th>80542</th>\n",
       "      <td>jack dorsey affirms block bitcoin future and d...</td>\n",
       "      <td>2022-05-19 01:01:11+00:00</td>\n",
       "      <td>0.145125</td>\n",
       "    </tr>\n",
       "    <tr>\n",
       "      <th>17767</th>\n",
       "      <td>blocktrainer bitcoin be a runaway freight train</td>\n",
       "      <td>2022-05-19 18:42:04+00:00</td>\n",
       "      <td>-0.092451</td>\n",
       "    </tr>\n",
       "    <tr>\n",
       "      <th>62140</th>\n",
       "      <td>bitcoin and ethereum trend low altcoins slide ...</td>\n",
       "      <td>2022-05-19 07:50:14+00:00</td>\n",
       "      <td>-0.126398</td>\n",
       "    </tr>\n",
       "  </tbody>\n",
       "</table>\n",
       "</div>"
      ],
      "text/plain": [
       "                                                   Tweet  \\\n",
       "87902  peterschiff for a guy that hat bitcoin you sur...   \n",
       "24154  slippage crypto cryptonews cryptocurrency cryp...   \n",
       "80542  jack dorsey affirms block bitcoin future and d...   \n",
       "17767    blocktrainer bitcoin be a runaway freight train   \n",
       "62140  bitcoin and ethereum trend low altcoins slide ...   \n",
       "\n",
       "                            Date  Predicted Sentiment  \n",
       "87902  2022-05-18 22:28:57+00:00             0.466427  \n",
       "24154  2022-05-19 17:10:17+00:00             0.060184  \n",
       "80542  2022-05-19 01:01:11+00:00             0.145125  \n",
       "17767  2022-05-19 18:42:04+00:00            -0.092451  \n",
       "62140  2022-05-19 07:50:14+00:00            -0.126398  "
      ]
     },
     "metadata": {},
     "output_type": "display_data"
    }
   ],
   "source": [
    "api_counts = count.transform(api[\"Tweet\"])\n",
    "api_tfidf = tfidf_transformer.transform(api_counts)\n",
    "\n",
    "r_pred = ridge.predict(api_tfidf)\n",
    "\n",
    "df = pd.DataFrame(zip(api[\"Tweet\"], api[\"Date\"], r_pred), columns=[\"Tweet\", \"Date\", \"Predicted Sentiment\"])\n",
    "\n",
    "display(df.sample(5))"
   ]
  },
  {
   "cell_type": "markdown",
   "metadata": {},
   "source": [
    "Let's try to improve this regressor"
   ]
  },
  {
   "cell_type": "code",
   "execution_count": 22,
   "metadata": {},
   "outputs": [
    {
     "data": {
      "text/plain": [
       "dict_keys(['alpha', 'copy_X', 'fit_intercept', 'max_iter', 'normalize', 'positive', 'random_state', 'solver', 'tol'])"
      ]
     },
     "execution_count": 22,
     "metadata": {},
     "output_type": "execute_result"
    }
   ],
   "source": [
    "ridge.get_params().keys()"
   ]
  },
  {
   "cell_type": "code",
   "execution_count": 32,
   "metadata": {},
   "outputs": [
    {
     "name": "stdout",
     "output_type": "stream",
     "text": [
      "Fitting 5 folds for each of 9 candidates, totalling 45 fits\n"
     ]
    },
    {
     "data": {
      "text/plain": [
       "{'alpha': 0.25}"
      ]
     },
     "execution_count": 32,
     "metadata": {},
     "output_type": "execute_result"
    }
   ],
   "source": [
    "from scipy.stats import uniform\n",
    "from sklearn.model_selection import RandomizedSearchCV\n",
    "\n",
    "alpha = [x for x in [0.1, 0.2, 0.25, 0.3, 0.5, 0.75, 1, 2, 5, 7.5, 10]]\n",
    "\n",
    "params = {\"alpha\": alpha}\n",
    "\n",
    "rscv = RandomizedSearchCV(ridge, params, n_iter=9, cv=5, verbose=2, n_jobs=-1, random_state=42)\n",
    "search = rscv.fit(train_tfidf, train[\"Sentiment\"])\n",
    "search.best_params_"
   ]
  },
  {
   "cell_type": "code",
   "execution_count": 60,
   "metadata": {
    "scrolled": true
   },
   "outputs": [
    {
     "data": {
      "text/html": [
       "<div>\n",
       "<style scoped>\n",
       "    .dataframe tbody tr th:only-of-type {\n",
       "        vertical-align: middle;\n",
       "    }\n",
       "\n",
       "    .dataframe tbody tr th {\n",
       "        vertical-align: top;\n",
       "    }\n",
       "\n",
       "    .dataframe thead th {\n",
       "        text-align: right;\n",
       "    }\n",
       "</style>\n",
       "<table border=\"1\" class=\"dataframe\">\n",
       "  <thead>\n",
       "    <tr style=\"text-align: right;\">\n",
       "      <th></th>\n",
       "      <th>Tweet</th>\n",
       "      <th>Date</th>\n",
       "      <th>Sentiment</th>\n",
       "    </tr>\n",
       "  </thead>\n",
       "  <tbody>\n",
       "    <tr>\n",
       "      <th>2052</th>\n",
       "      <td>cryptoa let go bitcoin</td>\n",
       "      <td>2022-05-19 23:16:19+00:00</td>\n",
       "      <td>0.028651</td>\n",
       "    </tr>\n",
       "    <tr>\n",
       "      <th>5974</th>\n",
       "      <td>samcallah which one alt be you say outperforms...</td>\n",
       "      <td>2022-05-19 21:58:15+00:00</td>\n",
       "      <td>0.097207</td>\n",
       "    </tr>\n",
       "    <tr>\n",
       "      <th>69815</th>\n",
       "      <td>i be claim my free lightning sat from bitcoine...</td>\n",
       "      <td>2022-05-19 05:16:50+00:00</td>\n",
       "      <td>0.380444</td>\n",
       "    </tr>\n",
       "    <tr>\n",
       "      <th>2824</th>\n",
       "      <td>bitcoin price prediction price fall in min  ta...</td>\n",
       "      <td>2022-05-19 23:01:10+00:00</td>\n",
       "      <td>-0.049248</td>\n",
       "    </tr>\n",
       "    <tr>\n",
       "      <th>79721</th>\n",
       "      <td>bitcoin bottom price</td>\n",
       "      <td>2022-05-19 01:18:08+00:00</td>\n",
       "      <td>-0.119115</td>\n",
       "    </tr>\n",
       "  </tbody>\n",
       "</table>\n",
       "</div>"
      ],
      "text/plain": [
       "                                                   Tweet  \\\n",
       "2052                              cryptoa let go bitcoin   \n",
       "5974   samcallah which one alt be you say outperforms...   \n",
       "69815  i be claim my free lightning sat from bitcoine...   \n",
       "2824   bitcoin price prediction price fall in min  ta...   \n",
       "79721                              bitcoin bottom price    \n",
       "\n",
       "                            Date  Sentiment  \n",
       "2052   2022-05-19 23:16:19+00:00   0.028651  \n",
       "5974   2022-05-19 21:58:15+00:00   0.097207  \n",
       "69815  2022-05-19 05:16:50+00:00   0.380444  \n",
       "2824   2022-05-19 23:01:10+00:00  -0.049248  \n",
       "79721  2022-05-19 01:18:08+00:00  -0.119115  "
      ]
     },
     "execution_count": 60,
     "metadata": {},
     "output_type": "execute_result"
    }
   ],
   "source": [
    "ridge_opt = Ridge(alpha=0.25).fit(train_tfidf, train[\"Sentiment\"])\n",
    "r_opt_pred = ridge.predict(api_tfidf)\n",
    "df = pd.DataFrame(zip(api[\"Tweet\"], api[\"Date\"], r_opt_pred), columns=[\"Tweet\", \"Date\", \"Sentiment\"])\n",
    "df.sample(5)"
   ]
  },
  {
   "cell_type": "markdown",
   "metadata": {},
   "source": [
    "### testing"
   ]
  },
  {
   "cell_type": "code",
   "execution_count": 61,
   "metadata": {},
   "outputs": [
    {
     "data": {
      "text/html": [
       "<div>\n",
       "<style scoped>\n",
       "    .dataframe tbody tr th:only-of-type {\n",
       "        vertical-align: middle;\n",
       "    }\n",
       "\n",
       "    .dataframe tbody tr th {\n",
       "        vertical-align: top;\n",
       "    }\n",
       "\n",
       "    .dataframe thead th {\n",
       "        text-align: right;\n",
       "    }\n",
       "</style>\n",
       "<table border=\"1\" class=\"dataframe\">\n",
       "  <thead>\n",
       "    <tr style=\"text-align: right;\">\n",
       "      <th></th>\n",
       "      <th>Tweet</th>\n",
       "      <th>Date</th>\n",
       "      <th>Sentiment</th>\n",
       "    </tr>\n",
       "  </thead>\n",
       "  <tbody>\n",
       "    <tr>\n",
       "      <th>27</th>\n",
       "      <td>california law wont ban offshore drilling afte...</td>\n",
       "      <td>2022-05-19 23:59:19+00:00</td>\n",
       "      <td>-0.582496</td>\n",
       "    </tr>\n",
       "    <tr>\n",
       "      <th>36</th>\n",
       "      <td>updated bitcoin transaction fee bch next block...</td>\n",
       "      <td>2022-05-19 23:59:12+00:00</td>\n",
       "      <td>-0.234924</td>\n",
       "    </tr>\n",
       "    <tr>\n",
       "      <th>93</th>\n",
       "      <td>therealkiyosaki what    why you not say bitcoi...</td>\n",
       "      <td>2022-05-19 23:58:13+00:00</td>\n",
       "      <td>-0.211711</td>\n",
       "    </tr>\n",
       "    <tr>\n",
       "      <th>122</th>\n",
       "      <td>bookwhiz pierrepoilievre no body own bitcoin  ...</td>\n",
       "      <td>2022-05-19 23:57:32+00:00</td>\n",
       "      <td>-0.250647</td>\n",
       "    </tr>\n",
       "    <tr>\n",
       "      <th>140</th>\n",
       "      <td>autocontrolsys bitcoinmagazine totally not get...</td>\n",
       "      <td>2022-05-19 23:57:15+00:00</td>\n",
       "      <td>-0.201819</td>\n",
       "    </tr>\n",
       "    <tr>\n",
       "      <th>...</th>\n",
       "      <td>...</td>\n",
       "      <td>...</td>\n",
       "      <td>...</td>\n",
       "    </tr>\n",
       "    <tr>\n",
       "      <th>99922</th>\n",
       "      <td>bitcoin bearish signal whale ramp up dump cryp...</td>\n",
       "      <td>2022-05-18 19:14:41+00:00</td>\n",
       "      <td>-0.206141</td>\n",
       "    </tr>\n",
       "    <tr>\n",
       "      <th>99934</th>\n",
       "      <td>the fear greed index touch the low of the last...</td>\n",
       "      <td>2022-05-18 19:14:33+00:00</td>\n",
       "      <td>-0.341533</td>\n",
       "    </tr>\n",
       "    <tr>\n",
       "      <th>99966</th>\n",
       "      <td>bitcoin loss cost country ten of million of do...</td>\n",
       "      <td>2022-05-18 19:13:54+00:00</td>\n",
       "      <td>-0.210591</td>\n",
       "    </tr>\n",
       "    <tr>\n",
       "      <th>99968</th>\n",
       "      <td>elonmusk now fuck up their shit and buy b of b...</td>\n",
       "      <td>2022-05-18 19:13:54+00:00</td>\n",
       "      <td>-0.397400</td>\n",
       "    </tr>\n",
       "    <tr>\n",
       "      <th>99988</th>\n",
       "      <td>bitcoin bearish signal whale ramp up dump</td>\n",
       "      <td>2022-05-18 19:13:29+00:00</td>\n",
       "      <td>-0.231490</td>\n",
       "    </tr>\n",
       "  </tbody>\n",
       "</table>\n",
       "<p>3999 rows × 3 columns</p>\n",
       "</div>"
      ],
      "text/plain": [
       "                                                   Tweet  \\\n",
       "27     california law wont ban offshore drilling afte...   \n",
       "36     updated bitcoin transaction fee bch next block...   \n",
       "93     therealkiyosaki what    why you not say bitcoi...   \n",
       "122    bookwhiz pierrepoilievre no body own bitcoin  ...   \n",
       "140    autocontrolsys bitcoinmagazine totally not get...   \n",
       "...                                                  ...   \n",
       "99922  bitcoin bearish signal whale ramp up dump cryp...   \n",
       "99934  the fear greed index touch the low of the last...   \n",
       "99966  bitcoin loss cost country ten of million of do...   \n",
       "99968  elonmusk now fuck up their shit and buy b of b...   \n",
       "99988          bitcoin bearish signal whale ramp up dump   \n",
       "\n",
       "                            Date  Sentiment  \n",
       "27     2022-05-19 23:59:19+00:00  -0.582496  \n",
       "36     2022-05-19 23:59:12+00:00  -0.234924  \n",
       "93     2022-05-19 23:58:13+00:00  -0.211711  \n",
       "122    2022-05-19 23:57:32+00:00  -0.250647  \n",
       "140    2022-05-19 23:57:15+00:00  -0.201819  \n",
       "...                          ...        ...  \n",
       "99922  2022-05-18 19:14:41+00:00  -0.206141  \n",
       "99934  2022-05-18 19:14:33+00:00  -0.341533  \n",
       "99966  2022-05-18 19:13:54+00:00  -0.210591  \n",
       "99968  2022-05-18 19:13:54+00:00  -0.397400  \n",
       "99988  2022-05-18 19:13:29+00:00  -0.231490  \n",
       "\n",
       "[3999 rows x 3 columns]"
      ]
     },
     "execution_count": 61,
     "metadata": {},
     "output_type": "execute_result"
    }
   ],
   "source": [
    "df[df[\"Sentiment\"] < -0.2]"
   ]
  },
  {
   "cell_type": "markdown",
   "metadata": {},
   "source": [
    "## Splitting data"
   ]
  },
  {
   "cell_type": "code",
   "execution_count": 65,
   "metadata": {},
   "outputs": [
    {
     "data": {
      "text/html": [
       "<div>\n",
       "<style scoped>\n",
       "    .dataframe tbody tr th:only-of-type {\n",
       "        vertical-align: middle;\n",
       "    }\n",
       "\n",
       "    .dataframe tbody tr th {\n",
       "        vertical-align: top;\n",
       "    }\n",
       "\n",
       "    .dataframe thead th {\n",
       "        text-align: right;\n",
       "    }\n",
       "</style>\n",
       "<table border=\"1\" class=\"dataframe\">\n",
       "  <thead>\n",
       "    <tr style=\"text-align: right;\">\n",
       "      <th></th>\n",
       "      <th>Tweet</th>\n",
       "      <th>Date</th>\n",
       "      <th>Sentiment</th>\n",
       "    </tr>\n",
       "  </thead>\n",
       "  <tbody>\n",
       "    <tr>\n",
       "      <th>0</th>\n",
       "      <td>current stats of delegatedonthate block find p...</td>\n",
       "      <td>2022-05-19</td>\n",
       "      <td>-0.030147</td>\n",
       "    </tr>\n",
       "    <tr>\n",
       "      <th>1</th>\n",
       "      <td>bbcworld for all those who be new to this work...</td>\n",
       "      <td>2022-05-19</td>\n",
       "      <td>0.252789</td>\n",
       "    </tr>\n",
       "    <tr>\n",
       "      <th>2</th>\n",
       "      <td>smilingpunks floor price  no gas fee polygon b...</td>\n",
       "      <td>2022-05-19</td>\n",
       "      <td>0.251752</td>\n",
       "    </tr>\n",
       "    <tr>\n",
       "      <th>3</th>\n",
       "      <td>i be claim my free lightning sat from bitcoine...</td>\n",
       "      <td>2022-05-19</td>\n",
       "      <td>0.380444</td>\n",
       "    </tr>\n",
       "    <tr>\n",
       "      <th>4</th>\n",
       "      <td>washingtonpost for all those who be new to thi...</td>\n",
       "      <td>2022-05-19</td>\n",
       "      <td>0.252789</td>\n",
       "    </tr>\n",
       "  </tbody>\n",
       "</table>\n",
       "</div>"
      ],
      "text/plain": [
       "                                               Tweet        Date  Sentiment\n",
       "0  current stats of delegatedonthate block find p...  2022-05-19  -0.030147\n",
       "1  bbcworld for all those who be new to this work...  2022-05-19   0.252789\n",
       "2  smilingpunks floor price  no gas fee polygon b...  2022-05-19   0.251752\n",
       "3  i be claim my free lightning sat from bitcoine...  2022-05-19   0.380444\n",
       "4  washingtonpost for all those who be new to thi...  2022-05-19   0.252789"
      ]
     },
     "execution_count": 65,
     "metadata": {},
     "output_type": "execute_result"
    }
   ],
   "source": [
    "import datetime as dt\n",
    "\n",
    "df[\"Date\"] = [d.date() for d in pd.to_datetime(df[\"Date\"])]\n",
    "df.head(5)"
   ]
  },
  {
   "cell_type": "code",
   "execution_count": 68,
   "metadata": {},
   "outputs": [],
   "source": [
    "df.to_csv(\"api_tagged.csv\")"
   ]
  },
  {
   "cell_type": "code",
   "execution_count": null,
   "metadata": {},
   "outputs": [],
   "source": []
  }
 ],
 "metadata": {
  "kernelspec": {
   "display_name": "Python 3",
   "language": "python",
   "name": "python3"
  },
  "language_info": {
   "codemirror_mode": {
    "name": "ipython",
    "version": 3
   },
   "file_extension": ".py",
   "mimetype": "text/x-python",
   "name": "python",
   "nbconvert_exporter": "python",
   "pygments_lexer": "ipython3",
   "version": "3.8.3"
  }
 },
 "nbformat": 4,
 "nbformat_minor": 5
}
