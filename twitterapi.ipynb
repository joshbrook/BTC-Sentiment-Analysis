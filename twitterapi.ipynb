{
 "cells": [
  {
   "cell_type": "markdown",
   "id": "8031b7fc",
   "metadata": {},
   "source": [
    "## Web-Crawling Twitter Data\n"
   ]
  },
  {
   "cell_type": "markdown",
   "id": "6ed56d7b",
   "metadata": {},
   "source": [
    "### Instructions\n",
    "----------------\n",
    "**Please Do not Reapeat the Steps In This Section**\n",
    "\n",
    "we select the data we will use for the analysis later on.\n",
    "We have chosen the following datasets for our analysis:\n",
    "- Bitcoin Twitter chatter dataset\n",
    "  > We webcrawl this data Ourselves and use it only for the purposes of attempting to predict bitcoin price according to the sentiment of the tweets.\n",
    "  \n",
    "  \n",
    "### Research Question \n",
    "We chose to investigate how the price of Bitcoin may be affected by twitter sentiments about the currency based on a sentiment analysis model trained on the UCC corpus and a final prediction model based on the sentiment model."
   ]
  },
  {
   "cell_type": "markdown",
   "id": "87a8f8ed",
   "metadata": {},
   "source": [
    "## Preprocessing \n",
    "-------------------------\n",
    "\n",
    "> For our project, we perform a sentiment analysis on tweets related to crypto currencies and use this analysis to predict how the currencies will varry depending on the sentiment. \n",
    "\n",
    "> Since we are only interested in tweets that are related to Bitcoin, we will specify a filter then filter out the tweets that do not contain the words in the filter.\n",
    "\n",
    ">After that, we perform a sentiment analysis using pre trained models to see whether we can accurately predict what the sentiment of the tweets are.\n",
    "\n",
    ">The models used will be trained on the UCC(The Unhealthy Comments Corpus) Coprus that was mentioned before , which contains over 40,000 online comments which have been tagged with sentiment values. "
   ]
  },
  {
   "cell_type": "code",
   "execution_count": 1,
   "id": "45e7b924",
   "metadata": {},
   "outputs": [],
   "source": [
    "import pandas as pd\n",
    "import numpy as np\n",
    "import tweepy as tw \n",
    "from tqdm import tqdm\n",
    "from IPython.display import clear_output\n"
   ]
  },
  {
   "cell_type": "code",
   "execution_count": 2,
   "id": "b8d5234a",
   "metadata": {},
   "outputs": [
    {
     "data": {
      "text/plain": [
       "['conf.conf']"
      ]
     },
     "execution_count": 2,
     "metadata": {},
     "output_type": "execute_result"
    }
   ],
   "source": [
    "import configparser\n",
    "config = configparser.ConfigParser(interpolation=None)\n",
    "config.read(\"conf.conf\")"
   ]
  },
  {
   "cell_type": "code",
   "execution_count": 3,
   "id": "128cdd73",
   "metadata": {},
   "outputs": [],
   "source": [
    "client = tw.Client(config['twitter']['bearer_token'], wait_on_rate_limit=True)"
   ]
  },
  {
   "cell_type": "code",
   "execution_count": 4,
   "id": "67e5754c",
   "metadata": {},
   "outputs": [],
   "source": [
    "date_since = \"2022-05-22T00:00:00.00Z\"\n",
    "date_until=\"2022-05-22T00:00:00Z\"\n",
    "search_words= (\"Bitcoin lang:en -is:retweet\"or\"bitcoin lang:en -is:retweet\"or\n",
    "               \"Btc lang:en -is:retweet\"or\"btc lang:en -is:retweet\"or\n",
    "               \"#bitcoin lang:en -is:retweet\"or\"#Btc lang:en -is:retweet\"or\n",
    "               \"#btc lang:en -is:retweet\")\n",
    "fields=['created_at','text']"
   ]
  },
  {
   "cell_type": "code",
   "execution_count": 5,
   "id": "c593fbe7",
   "metadata": {},
   "outputs": [],
   "source": [
    "# Collect tweets\n",
    "tweets = tw.Paginator(client.search_recent_tweets,\n",
    "                      tweet_fields=fields,\n",
    "                      query=search_words,\n",
    "                      start_time=date_since,\n",
    "                      #end_time=date_until,\n",
    "                      max_results=100).flatten(limit=100000) #We instruct the Paginator to return maximum of 100,000 tweets\n"
   ]
  },
  {
   "cell_type": "code",
   "execution_count": 6,
   "id": "9cb1e442",
   "metadata": {},
   "outputs": [
    {
     "name": "stderr",
     "output_type": "stream",
     "text": [
      "44843it [03:46, 204.57it/s]Rate limit exceeded. Sleeping for 675 seconds.\n",
      "89808it [18:53, 194.72it/s]Rate limit exceeded. Sleeping for 669 seconds.\n",
      "100000it [30:54, 53.91it/s]\n"
     ]
    }
   ],
   "source": [
    "#Tweet retrival\n",
    "tweets_copy = []\n",
    "for tweet in tqdm(tweets):\n",
    "    tweets_copy.append(tweet)\n",
    "\n",
    "\n",
    "\n",
    "    "
   ]
  },
  {
   "cell_type": "markdown",
   "id": "27ec12ea",
   "metadata": {},
   "source": [
    "### Checking we have received the desired number of Tweets"
   ]
  },
  {
   "cell_type": "code",
   "execution_count": 7,
   "id": "abb4fde5",
   "metadata": {
    "scrolled": true
   },
   "outputs": [
    {
     "name": "stdout",
     "output_type": "stream",
     "text": [
      "New tweets retrieved: 100000\n"
     ]
    }
   ],
   "source": [
    "print(f\"New tweets retrieved: {len(tweets_copy)}\")"
   ]
  },
  {
   "cell_type": "code",
   "execution_count": 8,
   "id": "5ae557a8",
   "metadata": {},
   "outputs": [],
   "source": [
    "tweets_df=pd.DataFrame()"
   ]
  },
  {
   "cell_type": "code",
   "execution_count": 9,
   "id": "eea40b41",
   "metadata": {},
   "outputs": [],
   "source": [
    "for tweet in tqdm(tweets_copy):\n",
    "    tweets_df=tweets_df.append(pd.DataFrame({'date': tweet.created_at,\n",
    "                                               'text': tweet.text}, index=[0]))\n",
    "    clear_output()  \n",
    "\n",
    "clear_output()  "
   ]
  },
  {
   "cell_type": "markdown",
   "id": "f58f4787",
   "metadata": {},
   "source": [
    "# Accessing and Formatting Api Web-crawled Data"
   ]
  },
  {
   "cell_type": "code",
   "execution_count": 2,
   "id": "6fdab891",
   "metadata": {},
   "outputs": [],
   "source": [
    "tweets=pd.read_csv('Btc_tweets_1-31_unprocessed700.csv')"
   ]
  },
  {
   "cell_type": "code",
   "execution_count": 5,
   "id": "56f51d36",
   "metadata": {},
   "outputs": [
    {
     "data": {
      "text/html": [
       "<div>\n",
       "<style scoped>\n",
       "    .dataframe tbody tr th:only-of-type {\n",
       "        vertical-align: middle;\n",
       "    }\n",
       "\n",
       "    .dataframe tbody tr th {\n",
       "        vertical-align: top;\n",
       "    }\n",
       "\n",
       "    .dataframe thead th {\n",
       "        text-align: right;\n",
       "    }\n",
       "</style>\n",
       "<table border=\"1\" class=\"dataframe\">\n",
       "  <thead>\n",
       "    <tr style=\"text-align: right;\">\n",
       "      <th></th>\n",
       "      <th>Unnamed: 0</th>\n",
       "      <th>date</th>\n",
       "      <th>text</th>\n",
       "    </tr>\n",
       "  </thead>\n",
       "  <tbody>\n",
       "    <tr>\n",
       "      <th>0</th>\n",
       "      <td>0</td>\n",
       "      <td>2021-09-01 00:59:58+00:00</td>\n",
       "      <td>Cyber-thieves used malware to swipe 16.4 Bitco...</td>\n",
       "    </tr>\n",
       "    <tr>\n",
       "      <th>1</th>\n",
       "      <td>0</td>\n",
       "      <td>2021-09-01 00:59:53+00:00</td>\n",
       "      <td>Our CEO and Co-Founder @raypaxful believes tha...</td>\n",
       "    </tr>\n",
       "    <tr>\n",
       "      <th>2</th>\n",
       "      <td>0</td>\n",
       "      <td>2021-09-01 00:59:49+00:00</td>\n",
       "      <td>@Dennis_Porter_ I agree. Although loss of hope...</td>\n",
       "    </tr>\n",
       "    <tr>\n",
       "      <th>3</th>\n",
       "      <td>0</td>\n",
       "      <td>2021-09-01 00:59:46+00:00</td>\n",
       "      <td>What a fast growing ecosystem the XRP ledger h...</td>\n",
       "    </tr>\n",
       "    <tr>\n",
       "      <th>4</th>\n",
       "      <td>0</td>\n",
       "      <td>2021-09-01 00:59:37+00:00</td>\n",
       "      <td>@finance_keep I have participated. I believe t...</td>\n",
       "    </tr>\n",
       "    <tr>\n",
       "      <th>...</th>\n",
       "      <td>...</td>\n",
       "      <td>...</td>\n",
       "      <td>...</td>\n",
       "    </tr>\n",
       "    <tr>\n",
       "      <th>6995</th>\n",
       "      <td>0</td>\n",
       "      <td>2021-09-30 03:59:43+00:00</td>\n",
       "      <td>@mchooyah @RiggsBTC We buy bitcoin. We HODL. T...</td>\n",
       "    </tr>\n",
       "    <tr>\n",
       "      <th>6996</th>\n",
       "      <td>0</td>\n",
       "      <td>2021-09-30 03:59:42+00:00</td>\n",
       "      <td>#Bitcoin trying to break out out right now!!! ...</td>\n",
       "    </tr>\n",
       "    <tr>\n",
       "      <th>6997</th>\n",
       "      <td>0</td>\n",
       "      <td>2021-09-30 03:59:41+00:00</td>\n",
       "      <td>Brooklyn Police Stations Upland Block Chain He...</td>\n",
       "    </tr>\n",
       "    <tr>\n",
       "      <th>6998</th>\n",
       "      <td>0</td>\n",
       "      <td>2021-09-30 03:59:40+00:00</td>\n",
       "      <td>Current Bitcoin transaction fees: \\n    \\nBCH ...</td>\n",
       "    </tr>\n",
       "    <tr>\n",
       "      <th>6999</th>\n",
       "      <td>0</td>\n",
       "      <td>2021-09-30 03:59:38+00:00</td>\n",
       "      <td>#Bitcoin is topping out on the one hour. Don’t...</td>\n",
       "    </tr>\n",
       "  </tbody>\n",
       "</table>\n",
       "<p>7000 rows × 3 columns</p>\n",
       "</div>"
      ],
      "text/plain": [
       "      Unnamed: 0                       date  \\\n",
       "0              0  2021-09-01 00:59:58+00:00   \n",
       "1              0  2021-09-01 00:59:53+00:00   \n",
       "2              0  2021-09-01 00:59:49+00:00   \n",
       "3              0  2021-09-01 00:59:46+00:00   \n",
       "4              0  2021-09-01 00:59:37+00:00   \n",
       "...          ...                        ...   \n",
       "6995           0  2021-09-30 03:59:43+00:00   \n",
       "6996           0  2021-09-30 03:59:42+00:00   \n",
       "6997           0  2021-09-30 03:59:41+00:00   \n",
       "6998           0  2021-09-30 03:59:40+00:00   \n",
       "6999           0  2021-09-30 03:59:38+00:00   \n",
       "\n",
       "                                                   text  \n",
       "0     Cyber-thieves used malware to swipe 16.4 Bitco...  \n",
       "1     Our CEO and Co-Founder @raypaxful believes tha...  \n",
       "2     @Dennis_Porter_ I agree. Although loss of hope...  \n",
       "3     What a fast growing ecosystem the XRP ledger h...  \n",
       "4     @finance_keep I have participated. I believe t...  \n",
       "...                                                 ...  \n",
       "6995  @mchooyah @RiggsBTC We buy bitcoin. We HODL. T...  \n",
       "6996  #Bitcoin trying to break out out right now!!! ...  \n",
       "6997  Brooklyn Police Stations Upland Block Chain He...  \n",
       "6998  Current Bitcoin transaction fees: \\n    \\nBCH ...  \n",
       "6999  #Bitcoin is topping out on the one hour. Don’t...  \n",
       "\n",
       "[7000 rows x 3 columns]"
      ]
     },
     "execution_count": 5,
     "metadata": {},
     "output_type": "execute_result"
    }
   ],
   "source": [
    "tweets"
   ]
  },
  {
   "cell_type": "markdown",
   "id": "61179c22",
   "metadata": {},
   "source": [
    "###  Filltering and Lemmatizing Tweets\n"
   ]
  },
  {
   "cell_type": "code",
   "execution_count": 6,
   "id": "244324be",
   "metadata": {},
   "outputs": [],
   "source": [
    "import re \n",
    "\n",
    "filtered_btc = tweets.dropna()\n",
    "\n",
    "# provide case insensitive data\n",
    "filtered_btc[\"text\"]=filtered_btc[\"text\"].str.lower().astype(str)\n",
    "\n",
    "# Take out links with or without www\n",
    "filtered_btc[\"text\"] = filtered_btc[\"text\"].apply(lambda x: re.sub(r'https?:\\/\\/\\S+', '', x))\n",
    "filtered_btc[\"text\"].apply(lambda x: re.sub(r\"www\\.[a-z]?\\.?(com)+|[a-z]+\\.(com)\", '', x))\n",
    "\n",
    "#Take out possible HTML character references \n",
    "filtered_btc[\"text\"] = filtered_btc[\"text\"].apply(lambda x: re.sub(r'&[a-z]+;', '', x))\n",
    "\n",
    "#Take out nonletter characters except for spaces and sentence delimitators\n",
    "filtered_btc[\"text\"] = filtered_btc[\"text\"].apply(lambda x: re.sub(r\"[^a-z\\s.!?]\", '', x))\n",
    "\n",
    "#Sometimes twitter data has links preprocessed into a reference such as {link}\n",
    "filtered_btc[\"text\"] = filtered_btc[\"text\"].apply(lambda x: re.sub(r'{link}', '', x))\n",
    "\n",
    "# I noticed the dataset contains at user and url references so we can remove them\n",
    "\n",
    "filtered_btc[\"text\"]= filtered_btc[\"text\"].str.replace('url', '')\n",
    "filtered_btc[\"text\"]= filtered_btc[\"text\"].str.replace('atuser', '')\n"
   ]
  },
  {
   "cell_type": "code",
   "execution_count": 7,
   "id": "5f231e8c",
   "metadata": {},
   "outputs": [
    {
     "data": {
      "text/html": [
       "<div>\n",
       "<style scoped>\n",
       "    .dataframe tbody tr th:only-of-type {\n",
       "        vertical-align: middle;\n",
       "    }\n",
       "\n",
       "    .dataframe tbody tr th {\n",
       "        vertical-align: top;\n",
       "    }\n",
       "\n",
       "    .dataframe thead th {\n",
       "        text-align: right;\n",
       "    }\n",
       "</style>\n",
       "<table border=\"1\" class=\"dataframe\">\n",
       "  <thead>\n",
       "    <tr style=\"text-align: right;\">\n",
       "      <th></th>\n",
       "      <th>Unnamed: 0</th>\n",
       "      <th>date</th>\n",
       "      <th>text</th>\n",
       "    </tr>\n",
       "  </thead>\n",
       "  <tbody>\n",
       "    <tr>\n",
       "      <th>0</th>\n",
       "      <td>0</td>\n",
       "      <td>2021-09-01 00:59:58+00:00</td>\n",
       "      <td>cyberthieves used malware to swipe . bitcoin f...</td>\n",
       "    </tr>\n",
       "    <tr>\n",
       "      <th>1</th>\n",
       "      <td>0</td>\n",
       "      <td>2021-09-01 00:59:53+00:00</td>\n",
       "      <td>our ceo and cofounder raypaxful believes that ...</td>\n",
       "    </tr>\n",
       "    <tr>\n",
       "      <th>2</th>\n",
       "      <td>0</td>\n",
       "      <td>2021-09-01 00:59:49+00:00</td>\n",
       "      <td>dennisporter i agree. although loss of hope ca...</td>\n",
       "    </tr>\n",
       "    <tr>\n",
       "      <th>3</th>\n",
       "      <td>0</td>\n",
       "      <td>2021-09-01 00:59:46+00:00</td>\n",
       "      <td>what a fast growing ecosystem the xrp ledger h...</td>\n",
       "    </tr>\n",
       "    <tr>\n",
       "      <th>4</th>\n",
       "      <td>0</td>\n",
       "      <td>2021-09-01 00:59:37+00:00</td>\n",
       "      <td>financekeep i have participated. i believe thi...</td>\n",
       "    </tr>\n",
       "  </tbody>\n",
       "</table>\n",
       "</div>"
      ],
      "text/plain": [
       "   Unnamed: 0                       date  \\\n",
       "0           0  2021-09-01 00:59:58+00:00   \n",
       "1           0  2021-09-01 00:59:53+00:00   \n",
       "2           0  2021-09-01 00:59:49+00:00   \n",
       "3           0  2021-09-01 00:59:46+00:00   \n",
       "4           0  2021-09-01 00:59:37+00:00   \n",
       "\n",
       "                                                text  \n",
       "0  cyberthieves used malware to swipe . bitcoin f...  \n",
       "1  our ceo and cofounder raypaxful believes that ...  \n",
       "2  dennisporter i agree. although loss of hope ca...  \n",
       "3  what a fast growing ecosystem the xrp ledger h...  \n",
       "4  financekeep i have participated. i believe thi...  "
      ]
     },
     "execution_count": 7,
     "metadata": {},
     "output_type": "execute_result"
    }
   ],
   "source": [
    "filtered_btc.head()"
   ]
  },
  {
   "cell_type": "code",
   "execution_count": 8,
   "id": "4ad26ad6",
   "metadata": {},
   "outputs": [],
   "source": [
    "import nltk\n",
    "from nltk.tokenize import TweetTokenizer\n",
    "\n",
    "tweets = list(zip(filtered_btc[\"text\"], filtered_btc[\"date\"]))\n",
    "\n",
    "tweet_tokenizer = TweetTokenizer(preserve_case=True, reduce_len=False, strip_handles=False)\n",
    "\n",
    "tokens = [(tweet_tokenizer.tokenize(tweet), date) for (tweet, date) in tweets if type(tweet) == str]\n",
    "\n",
    "filtered = []\n",
    "for tweet in tokens:\n",
    "    new = []\n",
    "    for tok in tweet[0]:\n",
    "        if tok != \"AT_USER\" and tok != \"URL\":\n",
    "            new.append(tok)\n",
    "            \n",
    "    filtered.append((new, tweet[1]))\n",
    "\n",
    "tagged = [(nltk.pos_tag(tweet), date) for tweet, date in filtered]\n"
   ]
  },
  {
   "cell_type": "code",
   "execution_count": 9,
   "id": "0c0be26c",
   "metadata": {},
   "outputs": [
    {
     "data": {
      "text/plain": [
       "7000"
      ]
     },
     "execution_count": 9,
     "metadata": {},
     "output_type": "execute_result"
    }
   ],
   "source": [
    "import string\n",
    "from nltk.stem import WordNetLemmatizer\n",
    "from nltk.corpus import wordnet as wn\n",
    "\n",
    "def wn_pos(tag):\n",
    "    \"converts treebank tags into wordbank tags for lemmatization\"\n",
    "    if tag.startswith('J'):\n",
    "        return wn.ADJ\n",
    "    if tag.startswith('V'):\n",
    "        return wn.VERB\n",
    "    if tag.startswith('N'):\n",
    "        return wn.NOUN\n",
    "    if tag.startswith('R'):\n",
    "        return wn.ADV\n",
    "    return None\n",
    "\n",
    "lem_tweets = []\n",
    "lem = WordNetLemmatizer()\n",
    "\n",
    "for tweet in tagged:\n",
    "    lemmas = []\n",
    "    \n",
    "    for word, tag in tweet[0]:\n",
    "        wn_tag = wn_pos(tag)\n",
    "        \n",
    "        if word[-1] in string.punctuation:\n",
    "                word = word[:-1]\n",
    "\n",
    "        if wn_pos(tag) is not None:\n",
    "            lemmas.append(lem.lemmatize(word, wn_tag))\n",
    "        else:\n",
    "            lemmas.append(lem.lemmatize(word))\n",
    "                \n",
    "    lem_tweets.append((lemmas, tweet[1]))\n",
    "\n",
    "lemmas = [lem for tweet in lem_tweets for lem in tweet]\n",
    "\n",
    "len(lem_tweets)"
   ]
  },
  {
   "cell_type": "code",
   "execution_count": 10,
   "id": "37d1a2a7",
   "metadata": {},
   "outputs": [],
   "source": [
    "lem_tweets = pd.DataFrame(lem_tweets, columns =['tweet', 'date'])  \n",
    "pd.DataFrame(lem_tweets).to_csv(\"Btc_tweets_1_30.csv\")"
   ]
  }
 ],
 "metadata": {
  "kernelspec": {
   "display_name": "Python 3 (ipykernel)",
   "language": "python",
   "name": "python3"
  },
  "language_info": {
   "codemirror_mode": {
    "name": "ipython",
    "version": 3
   },
   "file_extension": ".py",
   "mimetype": "text/x-python",
   "name": "python",
   "nbconvert_exporter": "python",
   "pygments_lexer": "ipython3",
   "version": "3.10.4"
  }
 },
 "nbformat": 4,
 "nbformat_minor": 5
}
