{
 "cells": [
  {
   "cell_type": "markdown",
   "id": "8031b7fc",
   "metadata": {},
   "source": [
    "## Web-Crawling Twitter Data\n"
   ]
  },
  {
   "cell_type": "markdown",
   "id": "6ed56d7b",
   "metadata": {},
   "source": [
    "### Instructions\n",
    "----------------\n",
    "we select the data we will use for the analysis later on.\n",
    "We have chosen the following datasets for our analysis:\n",
    "- Bitcoin Twitter chatter dataset\n",
    "  > We webcrawl this data Ourselves and use it only for the purposes of attempting to predict bitcoin price according to the sentiment of the tweets.\n",
    "  \n",
    "  \n",
    "**Please Do not Reapeat the Steps In This Section Until after the Preprocessing**\n",
    "### Research Question \n",
    "We chose to investigate how the price of Bitcoin may be affected by twitter sentiments about the currency based on a sentiment analysis model trained on the UCC corpus and a final prediction model based on the sentiment model."
   ]
  },
  {
   "cell_type": "markdown",
   "id": "87a8f8ed",
   "metadata": {},
   "source": [
    "## Preprocessing \n",
    "-------------------------\n",
    "\n",
    "> For our project, we perform a sentiment analysis on tweets related to crypto currencies and use this analysis to predict how the currencies will varry depending on the sentiment. \n",
    "\n",
    "> Since we are only interested in tweets that are related to Bitcoin, we will specify a filter then filter out the tweets that do not contain the words in the filter.\n",
    "\n",
    ">After that, we perform a sentiment analysis using pre trained models to see whether we can accurately predict what the sentiment of the tweets are.\n",
    "\n",
    ">The models used will be trained on the UCC(The Unhealthy Comments Corpus) Coprus that was mentioned before , which contains over 40,000 online comments which have been tagged with sentiment values. "
   ]
  },
  {
   "cell_type": "code",
   "execution_count": 36,
   "id": "45e7b924",
   "metadata": {},
   "outputs": [],
   "source": [
    "import pandas as pd\n",
    "import numpy as np\n",
    "import tweepy as tw \n",
    "from tqdm import tqdm\n",
    "from IPython.display import clear_output\n"
   ]
  },
  {
   "cell_type": "code",
   "execution_count": 37,
   "id": "b8d5234a",
   "metadata": {},
   "outputs": [
    {
     "data": {
      "text/plain": [
       "['conf.conf']"
      ]
     },
     "execution_count": 37,
     "metadata": {},
     "output_type": "execute_result"
    }
   ],
   "source": [
    "import configparser\n",
    "config = configparser.ConfigParser(interpolation=None)\n",
    "config.read(\"conf.conf\")"
   ]
  },
  {
   "cell_type": "code",
   "execution_count": 38,
   "id": "03acf5a4",
   "metadata": {},
   "outputs": [],
   "source": [
    "consumer_api_key = config['twitter']['api_key']\n",
    "consumer_api_secret = config['twitter']['api_key_secret']"
   ]
  },
  {
   "cell_type": "code",
   "execution_count": 39,
   "id": "128cdd73",
   "metadata": {},
   "outputs": [],
   "source": [
    "auth = tw.OAuthHandler(consumer_api_key, consumer_api_secret)\n",
    "api = tw.API(auth, wait_on_rate_limit=True)\n",
    "client = tweepy.Client(config['twitter']['bearer_token'])\n"
   ]
  },
  {
   "cell_type": "code",
   "execution_count": 40,
   "id": "c5542791",
   "metadata": {},
   "outputs": [],
   "source": [
    "search_words = [\"Bitcoin -filter:retweets\",\"bitcoin -filter:retweets\",\"Btc -filter:retweets\",\"btc -filter:retweets\",\n",
    "                \"cryptocurrency -filter:retweets\"]\n"
   ]
  },
  {
   "cell_type": "code",
   "execution_count": 41,
   "id": "67e5754c",
   "metadata": {},
   "outputs": [],
   "source": [
    "date_since = \"2022-05-12\"\n",
    "date_until=\"2022-05-19\"\n",
    "\n",
    "# Collect tweets\n",
    "tweets = tw.Cursor(client.search_recent_tweets, \n",
    "                   max_results=100,\n",
    "                   query='Bitcoin',\n",
    "                   start_time= date_since,\n",
    "                expansions= search_words,    \n",
    "              ).items(50000) #We instruct the cursor to return maximum of 50,000 tweets\n"
   ]
  },
  {
   "cell_type": "code",
   "execution_count": 42,
   "id": "9cb1e442",
   "metadata": {},
   "outputs": [
    {
     "name": "stderr",
     "output_type": "stream",
     "text": [
      "46224it [2:00:28, 15.48it/s]Unexpected parameter: since\n",
      "46224it [2:00:28,  6.39it/s]\n"
     ]
    }
   ],
   "source": [
    "#Tweet retrival\n",
    "tweets_copy = []\n",
    "for tweet in tqdm(tweets):\n",
    "    tweets_copy.append(tweet)\n",
    "    clear_output()"
   ]
  },
  {
   "cell_type": "markdown",
   "id": "27ec12ea",
   "metadata": {},
   "source": [
    "### Checking we have received the right number of Tweets"
   ]
  },
  {
   "cell_type": "code",
   "execution_count": 57,
   "id": "abb4fde5",
   "metadata": {
    "scrolled": true
   },
   "outputs": [
    {
     "name": "stdout",
     "output_type": "stream",
     "text": [
      "New tweets retrieved: 46224\n"
     ]
    }
   ],
   "source": [
    "print(f\"New tweets retrieved: {len(tweets_copy)}\")"
   ]
  },
  {
   "cell_type": "code",
   "execution_count": 58,
   "id": "5ae557a8",
   "metadata": {},
   "outputs": [],
   "source": [
    "tweets_df=pd.DataFrame()"
   ]
  },
  {
   "cell_type": "code",
   "execution_count": 59,
   "id": "eea40b41",
   "metadata": {},
   "outputs": [],
   "source": [
    "for tweet in tqdm(tweets_copy):\n",
    "    tweets_df=tweets_df.append(pd.DataFrame({'date': tweet.created_at,\n",
    "                                               'text': tweet.text,\n",
    "                                               'is_retweet': tweet.retweeted}, index=[0]))\n",
    "    clear_output()  \n",
    "\n",
    "clear_output()  "
   ]
  },
  {
   "cell_type": "code",
   "execution_count": 74,
   "id": "56f51d36",
   "metadata": {},
   "outputs": [
    {
     "data": {
      "text/html": [
       "<div>\n",
       "<style scoped>\n",
       "    .dataframe tbody tr th:only-of-type {\n",
       "        vertical-align: middle;\n",
       "    }\n",
       "\n",
       "    .dataframe tbody tr th {\n",
       "        vertical-align: top;\n",
       "    }\n",
       "\n",
       "    .dataframe thead th {\n",
       "        text-align: right;\n",
       "    }\n",
       "</style>\n",
       "<table border=\"1\" class=\"dataframe\">\n",
       "  <thead>\n",
       "    <tr style=\"text-align: right;\">\n",
       "      <th></th>\n",
       "      <th>date</th>\n",
       "      <th>text</th>\n",
       "      <th>is_retweet</th>\n",
       "    </tr>\n",
       "  </thead>\n",
       "  <tbody>\n",
       "    <tr>\n",
       "      <th>0</th>\n",
       "      <td>2022-05-18 23:59:49+00:00</td>\n",
       "      <td>Take this as a lesson.  Anything offering 20%+...</td>\n",
       "      <td>False</td>\n",
       "    </tr>\n",
       "    <tr>\n",
       "      <th>0</th>\n",
       "      <td>2022-05-18 23:59:42+00:00</td>\n",
       "      <td>Walkfivemiles found #bitcoin in a User vault a...</td>\n",
       "      <td>False</td>\n",
       "    </tr>\n",
       "    <tr>\n",
       "      <th>0</th>\n",
       "      <td>2022-05-18 23:59:39+00:00</td>\n",
       "      <td>Be sure to join this AMA with @OsoPowerful and...</td>\n",
       "      <td>False</td>\n",
       "    </tr>\n",
       "    <tr>\n",
       "      <th>0</th>\n",
       "      <td>2022-05-18 23:59:37+00:00</td>\n",
       "      <td>#BTC #Bitcoin  Top analyst price target for ne...</td>\n",
       "      <td>False</td>\n",
       "    </tr>\n",
       "    <tr>\n",
       "      <th>0</th>\n",
       "      <td>2022-05-18 23:59:35+00:00</td>\n",
       "      <td>Going down the #bitcoin rabbit hole ensures ma...</td>\n",
       "      <td>False</td>\n",
       "    </tr>\n",
       "  </tbody>\n",
       "</table>\n",
       "</div>"
      ],
      "text/plain": [
       "                       date  \\\n",
       "0 2022-05-18 23:59:49+00:00   \n",
       "0 2022-05-18 23:59:42+00:00   \n",
       "0 2022-05-18 23:59:39+00:00   \n",
       "0 2022-05-18 23:59:37+00:00   \n",
       "0 2022-05-18 23:59:35+00:00   \n",
       "\n",
       "                                                text  is_retweet  \n",
       "0  Take this as a lesson.  Anything offering 20%+...       False  \n",
       "0  Walkfivemiles found #bitcoin in a User vault a...       False  \n",
       "0  Be sure to join this AMA with @OsoPowerful and...       False  \n",
       "0  #BTC #Bitcoin  Top analyst price target for ne...       False  \n",
       "0  Going down the #bitcoin rabbit hole ensures ma...       False  "
      ]
     },
     "execution_count": 74,
     "metadata": {},
     "output_type": "execute_result"
    }
   ],
   "source": [
    "tweets_df.head()"
   ]
  },
  {
   "cell_type": "code",
   "execution_count": 75,
   "id": "6ffb7b45",
   "metadata": {},
   "outputs": [
    {
     "name": "stdout",
     "output_type": "stream",
     "text": [
      "46224\n"
     ]
    }
   ],
   "source": [
    "print(len(tweets_df))"
   ]
  },
  {
   "cell_type": "markdown",
   "id": "61179c22",
   "metadata": {},
   "source": [
    "### Removing Retweets, Filltering and Lemmatizing Tweets\n"
   ]
  },
  {
   "cell_type": "code",
   "execution_count": 76,
   "id": "b419a864",
   "metadata": {},
   "outputs": [],
   "source": [
    "tweets_df.to_csv('btc_past7.csv',index=False)"
   ]
  },
  {
   "cell_type": "code",
   "execution_count": 77,
   "id": "6a1422bb",
   "metadata": {},
   "outputs": [],
   "source": [
    "btc_raw = pd.read_csv(\"btc_past7.csv\")"
   ]
  },
  {
   "cell_type": "code",
   "execution_count": 90,
   "id": "95de0e6f",
   "metadata": {},
   "outputs": [],
   "source": [
    "btc_raw.drop(btc_raw.index[btc_raw['is_retweet'] == 1], inplace=True)"
   ]
  },
  {
   "cell_type": "code",
   "execution_count": 93,
   "id": "f0aacab3",
   "metadata": {},
   "outputs": [
    {
     "data": {
      "text/html": [
       "<div>\n",
       "<style scoped>\n",
       "    .dataframe tbody tr th:only-of-type {\n",
       "        vertical-align: middle;\n",
       "    }\n",
       "\n",
       "    .dataframe tbody tr th {\n",
       "        vertical-align: top;\n",
       "    }\n",
       "\n",
       "    .dataframe thead th {\n",
       "        text-align: right;\n",
       "    }\n",
       "</style>\n",
       "<table border=\"1\" class=\"dataframe\">\n",
       "  <thead>\n",
       "    <tr style=\"text-align: right;\">\n",
       "      <th></th>\n",
       "      <th>date</th>\n",
       "      <th>text</th>\n",
       "      <th>is_retweet</th>\n",
       "    </tr>\n",
       "  </thead>\n",
       "  <tbody>\n",
       "    <tr>\n",
       "      <th>0</th>\n",
       "      <td>2022-05-18 23:59:49+00:00</td>\n",
       "      <td>Take this as a lesson.  Anything offering 20%+...</td>\n",
       "      <td>False</td>\n",
       "    </tr>\n",
       "    <tr>\n",
       "      <th>1</th>\n",
       "      <td>2022-05-18 23:59:42+00:00</td>\n",
       "      <td>Walkfivemiles found #bitcoin in a User vault a...</td>\n",
       "      <td>False</td>\n",
       "    </tr>\n",
       "    <tr>\n",
       "      <th>2</th>\n",
       "      <td>2022-05-18 23:59:39+00:00</td>\n",
       "      <td>Be sure to join this AMA with @OsoPowerful and...</td>\n",
       "      <td>False</td>\n",
       "    </tr>\n",
       "    <tr>\n",
       "      <th>3</th>\n",
       "      <td>2022-05-18 23:59:37+00:00</td>\n",
       "      <td>#BTC #Bitcoin  Top analyst price target for ne...</td>\n",
       "      <td>False</td>\n",
       "    </tr>\n",
       "    <tr>\n",
       "      <th>4</th>\n",
       "      <td>2022-05-18 23:59:35+00:00</td>\n",
       "      <td>Going down the #bitcoin rabbit hole ensures ma...</td>\n",
       "      <td>False</td>\n",
       "    </tr>\n",
       "  </tbody>\n",
       "</table>\n",
       "</div>"
      ],
      "text/plain": [
       "                        date  \\\n",
       "0  2022-05-18 23:59:49+00:00   \n",
       "1  2022-05-18 23:59:42+00:00   \n",
       "2  2022-05-18 23:59:39+00:00   \n",
       "3  2022-05-18 23:59:37+00:00   \n",
       "4  2022-05-18 23:59:35+00:00   \n",
       "\n",
       "                                                text  is_retweet  \n",
       "0  Take this as a lesson.  Anything offering 20%+...       False  \n",
       "1  Walkfivemiles found #bitcoin in a User vault a...       False  \n",
       "2  Be sure to join this AMA with @OsoPowerful and...       False  \n",
       "3  #BTC #Bitcoin  Top analyst price target for ne...       False  \n",
       "4  Going down the #bitcoin rabbit hole ensures ma...       False  "
      ]
     },
     "execution_count": 93,
     "metadata": {},
     "output_type": "execute_result"
    }
   ],
   "source": [
    "btc_raw.head()"
   ]
  },
  {
   "cell_type": "code",
   "execution_count": 94,
   "id": "c5db47da",
   "metadata": {},
   "outputs": [
    {
     "name": "stdout",
     "output_type": "stream",
     "text": [
      "46224\n"
     ]
    }
   ],
   "source": [
    "print(len(btc_raw))"
   ]
  },
  {
   "cell_type": "code",
   "execution_count": 95,
   "id": "244324be",
   "metadata": {},
   "outputs": [],
   "source": [
    "import re \n",
    "filtered_btc=btc_raw.drop(columns='is_retweet')\n",
    "\n",
    "# provide case insensitive data\n",
    "filtered_btc[\"text\"]=filtered_btc[\"text\"].str.lower().astype(str)\n",
    "\n",
    "# Take out links with or without www\n",
    "filtered_btc[\"text\"] = filtered_btc[\"text\"].apply(lambda x: re.sub(r'https?:\\/\\/\\S+', '', x))\n",
    "filtered_btc[\"text\"].apply(lambda x: re.sub(r\"www\\.[a-z]?\\.?(com)+|[a-z]+\\.(com)\", '', x))\n",
    "\n",
    "#Take out possible HTML character references \n",
    "filtered_btc[\"text\"] = filtered_btc[\"text\"].apply(lambda x: re.sub(r'&[a-z]+;', '', x))\n",
    "\n",
    "#Take out nonletter characters except for spaces and sentence delimitators\n",
    "filtered_btc[\"text\"] = filtered_btc[\"text\"].apply(lambda x: re.sub(r\"[^a-z\\s.!?]\", '', x))\n",
    "\n",
    "#Sometimes twitter data has links preprocessed into a reference such as {link}\n",
    "filtered_btc[\"text\"] = filtered_btc[\"text\"].apply(lambda x: re.sub(r'{link}', '', x))\n",
    "\n",
    "# I noticed the dataset contains at user and url references so we can remove them\n",
    "\n",
    "filtered_btc[\"text\"]= filtered_btc[\"text\"].str.replace('url', '')\n",
    "filtered_btc[\"text\"]= filtered_btc[\"text\"].str.replace('atuser', '')\n"
   ]
  },
  {
   "cell_type": "code",
   "execution_count": 96,
   "id": "5f231e8c",
   "metadata": {},
   "outputs": [
    {
     "data": {
      "text/html": [
       "<div>\n",
       "<style scoped>\n",
       "    .dataframe tbody tr th:only-of-type {\n",
       "        vertical-align: middle;\n",
       "    }\n",
       "\n",
       "    .dataframe tbody tr th {\n",
       "        vertical-align: top;\n",
       "    }\n",
       "\n",
       "    .dataframe thead th {\n",
       "        text-align: right;\n",
       "    }\n",
       "</style>\n",
       "<table border=\"1\" class=\"dataframe\">\n",
       "  <thead>\n",
       "    <tr style=\"text-align: right;\">\n",
       "      <th></th>\n",
       "      <th>date</th>\n",
       "      <th>text</th>\n",
       "    </tr>\n",
       "  </thead>\n",
       "  <tbody>\n",
       "    <tr>\n",
       "      <th>0</th>\n",
       "      <td>2022-05-18 23:59:49+00:00</td>\n",
       "      <td>take this as a lesson.  anything offering  apy...</td>\n",
       "    </tr>\n",
       "    <tr>\n",
       "      <th>1</th>\n",
       "      <td>2022-05-18 23:59:42+00:00</td>\n",
       "      <td>walkfivemiles found bitcoin in a user vault at...</td>\n",
       "    </tr>\n",
       "    <tr>\n",
       "      <th>2</th>\n",
       "      <td>2022-05-18 23:59:39+00:00</td>\n",
       "      <td>be sure to join this ama with osopowerful and ...</td>\n",
       "    </tr>\n",
       "    <tr>\n",
       "      <th>3</th>\n",
       "      <td>2022-05-18 23:59:37+00:00</td>\n",
       "      <td>btc bitcoin  top analyst price target for next...</td>\n",
       "    </tr>\n",
       "    <tr>\n",
       "      <th>4</th>\n",
       "      <td>2022-05-18 23:59:35+00:00</td>\n",
       "      <td>going down the bitcoin rabbit hole ensures man...</td>\n",
       "    </tr>\n",
       "  </tbody>\n",
       "</table>\n",
       "</div>"
      ],
      "text/plain": [
       "                        date  \\\n",
       "0  2022-05-18 23:59:49+00:00   \n",
       "1  2022-05-18 23:59:42+00:00   \n",
       "2  2022-05-18 23:59:39+00:00   \n",
       "3  2022-05-18 23:59:37+00:00   \n",
       "4  2022-05-18 23:59:35+00:00   \n",
       "\n",
       "                                                text  \n",
       "0  take this as a lesson.  anything offering  apy...  \n",
       "1  walkfivemiles found bitcoin in a user vault at...  \n",
       "2  be sure to join this ama with osopowerful and ...  \n",
       "3  btc bitcoin  top analyst price target for next...  \n",
       "4  going down the bitcoin rabbit hole ensures man...  "
      ]
     },
     "execution_count": 96,
     "metadata": {},
     "output_type": "execute_result"
    }
   ],
   "source": [
    "filtered_btc.head()"
   ]
  },
  {
   "cell_type": "code",
   "execution_count": 97,
   "id": "4ad26ad6",
   "metadata": {},
   "outputs": [],
   "source": [
    "import nltk\n",
    "from nltk.tokenize import TweetTokenizer\n",
    "\n",
    "tweets = list(zip(filtered_btc[\"text\"], filtered_btc[\"date\"]))\n",
    "\n",
    "tweet_tokenizer = TweetTokenizer(preserve_case=True, reduce_len=False, strip_handles=False)\n",
    "\n",
    "tokens = [(tweet_tokenizer.tokenize(tweet), date) for (tweet, date) in tweets if type(tweet) == str]\n",
    "\n",
    "filtered = []\n",
    "for tweet in tokens:\n",
    "    new = []\n",
    "    for tok in tweet[0]:\n",
    "        if tok != \"AT_USER\" and tok != \"URL\":\n",
    "            new.append(tok)\n",
    "            \n",
    "    filtered.append((new, tweet[1]))\n",
    "\n",
    "tagged = [(nltk.pos_tag(tweet), date) for tweet, date in filtered]\n"
   ]
  },
  {
   "cell_type": "code",
   "execution_count": 111,
   "id": "0c0be26c",
   "metadata": {},
   "outputs": [
    {
     "data": {
      "text/plain": [
       "46224"
      ]
     },
     "execution_count": 111,
     "metadata": {},
     "output_type": "execute_result"
    }
   ],
   "source": [
    "import string\n",
    "from nltk.stem import WordNetLemmatizer\n",
    "from nltk.corpus import wordnet as wn\n",
    "\n",
    "def wn_pos(tag):\n",
    "    \"converts treebank tags into wordbank tags for lemmatization\"\n",
    "    if tag.startswith('J'):\n",
    "        return wn.ADJ\n",
    "    if tag.startswith('V'):\n",
    "        return wn.VERB\n",
    "    if tag.startswith('N'):\n",
    "        return wn.NOUN\n",
    "    if tag.startswith('R'):\n",
    "        return wn.ADV\n",
    "    return None\n",
    "\n",
    "lem_tweets = []\n",
    "lem = WordNetLemmatizer()\n",
    "\n",
    "for tweet in tagged:\n",
    "    lemmas = []\n",
    "    \n",
    "    for word, tag in tweet[0]:\n",
    "        wn_tag = wn_pos(tag)\n",
    "        \n",
    "        if word[-1] in string.punctuation:\n",
    "                word = word[:-1]\n",
    "\n",
    "        if wn_pos(tag) is not None:\n",
    "            lemmas.append(lem.lemmatize(word, wn_tag))\n",
    "        else:\n",
    "            lemmas.append(lem.lemmatize(word))\n",
    "                \n",
    "    lem_tweets.append((lemmas, tweet[1]))\n",
    "\n",
    "lemmas = [lem for tweet in lem_tweets for lem in tweet]\n",
    "\n",
    "len(lem_tweets)"
   ]
  },
  {
   "cell_type": "code",
   "execution_count": 112,
   "id": "37d1a2a7",
   "metadata": {},
   "outputs": [],
   "source": [
    "lem_tweets = pd.DataFrame(lem_tweets, columns =['tweet', 'date'])  \n",
    "pd.DataFrame(lem_tweets).to_csv(\"Btc_tweets.csv\")"
   ]
  },
  {
   "cell_type": "markdown",
   "id": "e12ca06b",
   "metadata": {},
   "source": [
    "## Bitcoin Daily Price Data Pre-Processing"
   ]
  },
  {
   "cell_type": "markdown",
   "id": "8017475a",
   "metadata": {},
   "source": [
    "## Analysis\n",
    "------------------\n",
    "\n",
    "We begin the Analysis by splitting the data by day which will will then run through the model and create a daily report on based on the results.\n",
    "- First, we create a report card that will be used to score the performance of the model on the data by day and add this information to a dataframe with the different rows representing differnt days.\n",
    "- Then we will append to the same data frame the average change in the price of Bitcoin per day, caluctaed as a difference between the opening price at midnight and the closing price at midnight 24 hours later."
   ]
  },
  {
   "cell_type": "code",
   "execution_count": 113,
   "id": "2a0f655f",
   "metadata": {},
   "outputs": [],
   "source": [
    "from datetime import datetime\n",
    "from datetime import timedelta  \n",
    "from sklearn.metrics import recall_score, precision_score, f1_score, accuracy_score\n"
   ]
  },
  {
   "cell_type": "code",
   "execution_count": 117,
   "id": "8e2b4613",
   "metadata": {},
   "outputs": [],
   "source": [
    "btc= pd.read_csv(\"Btc_tweets.csv\").drop(columns='Unnamed: 0')"
   ]
  },
  {
   "cell_type": "code",
   "execution_count": 118,
   "id": "f9a5fad8",
   "metadata": {},
   "outputs": [],
   "source": [
    "btc_price= pd.read_csv(\"BTC-USD.csv\")\n"
   ]
  },
  {
   "cell_type": "code",
   "execution_count": 119,
   "id": "7ac2a56e",
   "metadata": {},
   "outputs": [
    {
     "data": {
      "text/html": [
       "<div>\n",
       "<style scoped>\n",
       "    .dataframe tbody tr th:only-of-type {\n",
       "        vertical-align: middle;\n",
       "    }\n",
       "\n",
       "    .dataframe tbody tr th {\n",
       "        vertical-align: top;\n",
       "    }\n",
       "\n",
       "    .dataframe thead th {\n",
       "        text-align: right;\n",
       "    }\n",
       "</style>\n",
       "<table border=\"1\" class=\"dataframe\">\n",
       "  <thead>\n",
       "    <tr style=\"text-align: right;\">\n",
       "      <th></th>\n",
       "      <th>tweet</th>\n",
       "      <th>date</th>\n",
       "    </tr>\n",
       "  </thead>\n",
       "  <tbody>\n",
       "    <tr>\n",
       "      <th>0</th>\n",
       "      <td>['take', 'this', 'a', 'a', 'lesson', '', 'anyt...</td>\n",
       "      <td>2022-05-18 23:59:49+00:00</td>\n",
       "    </tr>\n",
       "    <tr>\n",
       "      <th>1</th>\n",
       "      <td>['walkfivemiles', 'find', 'bitcoin', 'in', 'a'...</td>\n",
       "      <td>2022-05-18 23:59:42+00:00</td>\n",
       "    </tr>\n",
       "    <tr>\n",
       "      <th>2</th>\n",
       "      <td>['be', 'sure', 'to', 'join', 'this', 'ama', 'w...</td>\n",
       "      <td>2022-05-18 23:59:39+00:00</td>\n",
       "    </tr>\n",
       "    <tr>\n",
       "      <th>3</th>\n",
       "      <td>['btc', 'bitcoin', 'top', 'analyst', 'price', ...</td>\n",
       "      <td>2022-05-18 23:59:37+00:00</td>\n",
       "    </tr>\n",
       "    <tr>\n",
       "      <th>4</th>\n",
       "      <td>['go', 'down', 'the', 'bitcoin', 'rabbit', 'ho...</td>\n",
       "      <td>2022-05-18 23:59:35+00:00</td>\n",
       "    </tr>\n",
       "  </tbody>\n",
       "</table>\n",
       "</div>"
      ],
      "text/plain": [
       "                                               tweet  \\\n",
       "0  ['take', 'this', 'a', 'a', 'lesson', '', 'anyt...   \n",
       "1  ['walkfivemiles', 'find', 'bitcoin', 'in', 'a'...   \n",
       "2  ['be', 'sure', 'to', 'join', 'this', 'ama', 'w...   \n",
       "3  ['btc', 'bitcoin', 'top', 'analyst', 'price', ...   \n",
       "4  ['go', 'down', 'the', 'bitcoin', 'rabbit', 'ho...   \n",
       "\n",
       "                        date  \n",
       "0  2022-05-18 23:59:49+00:00  \n",
       "1  2022-05-18 23:59:42+00:00  \n",
       "2  2022-05-18 23:59:39+00:00  \n",
       "3  2022-05-18 23:59:37+00:00  \n",
       "4  2022-05-18 23:59:35+00:00  "
      ]
     },
     "execution_count": 119,
     "metadata": {},
     "output_type": "execute_result"
    }
   ],
   "source": [
    "btc.head()"
   ]
  }
 ],
 "metadata": {
  "kernelspec": {
   "display_name": "Python 3 (ipykernel)",
   "language": "python",
   "name": "python3"
  },
  "language_info": {
   "codemirror_mode": {
    "name": "ipython",
    "version": 3
   },
   "file_extension": ".py",
   "mimetype": "text/x-python",
   "name": "python",
   "nbconvert_exporter": "python",
   "pygments_lexer": "ipython3",
   "version": "3.10.4"
  }
 },
 "nbformat": 4,
 "nbformat_minor": 5
}
