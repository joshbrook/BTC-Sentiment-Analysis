{
 "cells": [
  {
   "cell_type": "markdown",
   "id": "8031b7fc",
   "metadata": {},
   "source": [
    "## Web-Crawling Twitter Data\n"
   ]
  },
  {
   "cell_type": "markdown",
   "id": "6ed56d7b",
   "metadata": {},
   "source": [
    "### Instructions\n",
    "----------------\n",
    "**Please Do not Reapeat the Steps In This Section**\n",
    "\n",
    "we select the data we will use for the analysis later on.\n",
    "We have chosen the following datasets for our analysis:\n",
    "- Bitcoin Twitter chatter dataset\n",
    "  > We webcrawl this data Ourselves and use it only for the purposes of attempting to predict bitcoin price according to the sentiment of the tweets.\n",
    "  \n",
    "  \n",
    "### Research Question \n",
    "We chose to investigate how the price of Bitcoin may be affected by twitter sentiments about the currency based on a sentiment analysis model trained on the UCC corpus and a final prediction model based on the sentiment model."
   ]
  },
  {
   "cell_type": "markdown",
   "id": "87a8f8ed",
   "metadata": {},
   "source": [
    "## Preprocessing \n",
    "-------------------------\n",
    "\n",
    "> For our project, we perform a sentiment analysis on tweets related to crypto currencies and use this analysis to predict how the currencies will varry depending on the sentiment. \n",
    "\n",
    "> Since we are only interested in tweets that are related to Bitcoin, we will specify a filter then filter out the tweets that do not contain the words in the filter.\n",
    "\n",
    ">After that, we perform a sentiment analysis using pre trained models to see whether we can accurately predict what the sentiment of the tweets are.\n",
    "\n",
    ">The models used will be trained on the UCC(The Unhealthy Comments Corpus) Coprus that was mentioned before , which contains over 40,000 online comments which have been tagged with sentiment values. "
   ]
  },
  {
   "cell_type": "code",
   "execution_count": 1,
   "id": "45e7b924",
   "metadata": {},
   "outputs": [],
   "source": [
    "import pandas as pd\n",
    "import numpy as np\n",
    "import tweepy as tw \n",
    "from tqdm import tqdm\n",
    "from IPython.display import clear_output\n"
   ]
  },
  {
   "cell_type": "code",
   "execution_count": 2,
   "id": "b8d5234a",
   "metadata": {},
   "outputs": [
    {
     "data": {
      "text/plain": [
       "['conf.conf']"
      ]
     },
     "execution_count": 2,
     "metadata": {},
     "output_type": "execute_result"
    }
   ],
   "source": [
    "import configparser\n",
    "config = configparser.ConfigParser(interpolation=None)\n",
    "config.read(\"conf.conf\")"
   ]
  },
  {
   "cell_type": "code",
   "execution_count": 3,
   "id": "128cdd73",
   "metadata": {},
   "outputs": [],
   "source": [
    "client = tw.Client(config['twitter']['bearer_token'], wait_on_rate_limit=True)"
   ]
  },
  {
   "cell_type": "code",
   "execution_count": 4,
   "id": "67e5754c",
   "metadata": {},
   "outputs": [],
   "source": [
    "date_since = \"2022-05-22T00:00:00.00Z\"\n",
    "date_until=\"2022-05-22T00:00:00Z\"\n",
    "search_words= (\"Bitcoin lang:en -is:retweet\"or\"bitcoin lang:en -is:retweet\"or\n",
    "               \"Btc lang:en -is:retweet\"or\"btc lang:en -is:retweet\"or\n",
    "               \"#bitcoin lang:en -is:retweet\"or\"#Btc lang:en -is:retweet\"or\n",
    "               \"#btc lang:en -is:retweet\")\n",
    "fields=['created_at','text']"
   ]
  },
  {
   "cell_type": "code",
   "execution_count": 5,
   "id": "c593fbe7",
   "metadata": {},
   "outputs": [],
   "source": [
    "# Collect tweets\n",
    "tweets = tw.Paginator(client.search_recent_tweets,\n",
    "                      tweet_fields=fields,\n",
    "                      query=search_words,\n",
    "                      start_time=date_since,\n",
    "                      #end_time=date_until,\n",
    "                      max_results=100).flatten(limit=100000) #We instruct the Paginator to return maximum of 100,000 tweets\n"
   ]
  },
  {
   "cell_type": "code",
   "execution_count": 6,
   "id": "9cb1e442",
   "metadata": {},
   "outputs": [
    {
     "name": "stderr",
     "output_type": "stream",
     "text": [
      "44843it [03:46, 204.57it/s]Rate limit exceeded. Sleeping for 675 seconds.\n",
      "89808it [18:53, 194.72it/s]Rate limit exceeded. Sleeping for 669 seconds.\n",
      "100000it [30:54, 53.91it/s]\n"
     ]
    }
   ],
   "source": [
    "#Tweet retrival\n",
    "tweets_copy = []\n",
    "for tweet in tqdm(tweets):\n",
    "    tweets_copy.append(tweet)\n",
    "\n",
    "\n",
    "\n",
    "    "
   ]
  },
  {
   "cell_type": "markdown",
   "id": "27ec12ea",
   "metadata": {},
   "source": [
    "### Checking we have received the desired number of Tweets"
   ]
  },
  {
   "cell_type": "code",
   "execution_count": 7,
   "id": "abb4fde5",
   "metadata": {
    "scrolled": true
   },
   "outputs": [
    {
     "name": "stdout",
     "output_type": "stream",
     "text": [
      "New tweets retrieved: 100000\n"
     ]
    }
   ],
   "source": [
    "print(f\"New tweets retrieved: {len(tweets_copy)}\")"
   ]
  },
  {
   "cell_type": "code",
   "execution_count": 8,
   "id": "5ae557a8",
   "metadata": {},
   "outputs": [],
   "source": [
    "tweets_df=pd.DataFrame()"
   ]
  },
  {
   "cell_type": "code",
   "execution_count": 9,
   "id": "eea40b41",
   "metadata": {},
   "outputs": [],
   "source": [
    "for tweet in tqdm(tweets_copy):\n",
    "    tweets_df=tweets_df.append(pd.DataFrame({'date': tweet.created_at,\n",
    "                                               'text': tweet.text}, index=[0]))\n",
    "    clear_output()  \n",
    "\n",
    "clear_output()  "
   ]
  },
  {
   "cell_type": "code",
   "execution_count": 10,
   "id": "56f51d36",
   "metadata": {},
   "outputs": [
    {
     "data": {
      "text/html": [
       "<div>\n",
       "<style scoped>\n",
       "    .dataframe tbody tr th:only-of-type {\n",
       "        vertical-align: middle;\n",
       "    }\n",
       "\n",
       "    .dataframe tbody tr th {\n",
       "        vertical-align: top;\n",
       "    }\n",
       "\n",
       "    .dataframe thead th {\n",
       "        text-align: right;\n",
       "    }\n",
       "</style>\n",
       "<table border=\"1\" class=\"dataframe\">\n",
       "  <thead>\n",
       "    <tr style=\"text-align: right;\">\n",
       "      <th></th>\n",
       "      <th>date</th>\n",
       "      <th>text</th>\n",
       "    </tr>\n",
       "  </thead>\n",
       "  <tbody>\n",
       "    <tr>\n",
       "      <th>0</th>\n",
       "      <td>2022-05-23 18:58:27+00:00</td>\n",
       "      <td>Mark my words we are currently a baby whale🐬 b...</td>\n",
       "    </tr>\n",
       "    <tr>\n",
       "      <th>0</th>\n",
       "      <td>2022-05-23 18:58:25+00:00</td>\n",
       "      <td>@BDliveSA Being the head of the home isn't eas...</td>\n",
       "    </tr>\n",
       "    <tr>\n",
       "      <th>0</th>\n",
       "      <td>2022-05-23 18:58:25+00:00</td>\n",
       "      <td>@BitcoinMagazine We are early. Every news abou...</td>\n",
       "    </tr>\n",
       "    <tr>\n",
       "      <th>0</th>\n",
       "      <td>2022-05-23 18:58:24+00:00</td>\n",
       "      <td>🚨 170 #BTC (5,094,422 USD) just transferred 🚨\\...</td>\n",
       "    </tr>\n",
       "    <tr>\n",
       "      <th>0</th>\n",
       "      <td>2022-05-23 18:58:23+00:00</td>\n",
       "      <td>Liberals want to repeal the word “obesity” bec...</td>\n",
       "    </tr>\n",
       "  </tbody>\n",
       "</table>\n",
       "</div>"
      ],
      "text/plain": [
       "                       date                                               text\n",
       "0 2022-05-23 18:58:27+00:00  Mark my words we are currently a baby whale🐬 b...\n",
       "0 2022-05-23 18:58:25+00:00  @BDliveSA Being the head of the home isn't eas...\n",
       "0 2022-05-23 18:58:25+00:00  @BitcoinMagazine We are early. Every news abou...\n",
       "0 2022-05-23 18:58:24+00:00  🚨 170 #BTC (5,094,422 USD) just transferred 🚨\\...\n",
       "0 2022-05-23 18:58:23+00:00  Liberals want to repeal the word “obesity” bec..."
      ]
     },
     "execution_count": 10,
     "metadata": {},
     "output_type": "execute_result"
    }
   ],
   "source": [
    "tweets_df.head()"
   ]
  },
  {
   "cell_type": "markdown",
   "id": "61179c22",
   "metadata": {},
   "source": [
    "###  Filltering and Lemmatizing Tweets\n"
   ]
  },
  {
   "cell_type": "code",
   "execution_count": 11,
   "id": "244324be",
   "metadata": {},
   "outputs": [],
   "source": [
    "import re \n",
    "\n",
    "filtered_btc = tweets_df.dropna()\n",
    "\n",
    "# provide case insensitive data\n",
    "filtered_btc[\"text\"]=filtered_btc[\"text\"].str.lower().astype(str)\n",
    "\n",
    "# Take out links with or without www\n",
    "filtered_btc[\"text\"] = filtered_btc[\"text\"].apply(lambda x: re.sub(r'https?:\\/\\/\\S+', '', x))\n",
    "filtered_btc[\"text\"].apply(lambda x: re.sub(r\"www\\.[a-z]?\\.?(com)+|[a-z]+\\.(com)\", '', x))\n",
    "\n",
    "#Take out possible HTML character references \n",
    "filtered_btc[\"text\"] = filtered_btc[\"text\"].apply(lambda x: re.sub(r'&[a-z]+;', '', x))\n",
    "\n",
    "#Take out nonletter characters except for spaces and sentence delimitators\n",
    "filtered_btc[\"text\"] = filtered_btc[\"text\"].apply(lambda x: re.sub(r\"[^a-z\\s.!?]\", '', x))\n",
    "\n",
    "#Sometimes twitter data has links preprocessed into a reference such as {link}\n",
    "filtered_btc[\"text\"] = filtered_btc[\"text\"].apply(lambda x: re.sub(r'{link}', '', x))\n",
    "\n",
    "# I noticed the dataset contains at user and url references so we can remove them\n",
    "\n",
    "filtered_btc[\"text\"]= filtered_btc[\"text\"].str.replace('url', '')\n",
    "filtered_btc[\"text\"]= filtered_btc[\"text\"].str.replace('atuser', '')\n"
   ]
  },
  {
   "cell_type": "code",
   "execution_count": 12,
   "id": "5f231e8c",
   "metadata": {},
   "outputs": [
    {
     "data": {
      "text/html": [
       "<div>\n",
       "<style scoped>\n",
       "    .dataframe tbody tr th:only-of-type {\n",
       "        vertical-align: middle;\n",
       "    }\n",
       "\n",
       "    .dataframe tbody tr th {\n",
       "        vertical-align: top;\n",
       "    }\n",
       "\n",
       "    .dataframe thead th {\n",
       "        text-align: right;\n",
       "    }\n",
       "</style>\n",
       "<table border=\"1\" class=\"dataframe\">\n",
       "  <thead>\n",
       "    <tr style=\"text-align: right;\">\n",
       "      <th></th>\n",
       "      <th>date</th>\n",
       "      <th>text</th>\n",
       "    </tr>\n",
       "  </thead>\n",
       "  <tbody>\n",
       "    <tr>\n",
       "      <th>0</th>\n",
       "      <td>2022-05-23 18:58:27+00:00</td>\n",
       "      <td>mark my words we are currently a baby whale bu...</td>\n",
       "    </tr>\n",
       "    <tr>\n",
       "      <th>0</th>\n",
       "      <td>2022-05-23 18:58:25+00:00</td>\n",
       "      <td>bdlivesa being the head of the home isnt easy ...</td>\n",
       "    </tr>\n",
       "    <tr>\n",
       "      <th>0</th>\n",
       "      <td>2022-05-23 18:58:25+00:00</td>\n",
       "      <td>bitcoinmagazine we are early. every news about...</td>\n",
       "    </tr>\n",
       "    <tr>\n",
       "      <th>0</th>\n",
       "      <td>2022-05-23 18:58:24+00:00</td>\n",
       "      <td>btc  usd just transferred \\n\\nfrom\\nhfbtnavz...</td>\n",
       "    </tr>\n",
       "    <tr>\n",
       "      <th>0</th>\n",
       "      <td>2022-05-23 18:58:23+00:00</td>\n",
       "      <td>liberals want to repeal the word obesity becau...</td>\n",
       "    </tr>\n",
       "  </tbody>\n",
       "</table>\n",
       "</div>"
      ],
      "text/plain": [
       "                       date                                               text\n",
       "0 2022-05-23 18:58:27+00:00  mark my words we are currently a baby whale bu...\n",
       "0 2022-05-23 18:58:25+00:00  bdlivesa being the head of the home isnt easy ...\n",
       "0 2022-05-23 18:58:25+00:00  bitcoinmagazine we are early. every news about...\n",
       "0 2022-05-23 18:58:24+00:00    btc  usd just transferred \\n\\nfrom\\nhfbtnavz...\n",
       "0 2022-05-23 18:58:23+00:00  liberals want to repeal the word obesity becau..."
      ]
     },
     "execution_count": 12,
     "metadata": {},
     "output_type": "execute_result"
    }
   ],
   "source": [
    "filtered_btc.head()"
   ]
  },
  {
   "cell_type": "code",
   "execution_count": 13,
   "id": "4ad26ad6",
   "metadata": {},
   "outputs": [],
   "source": [
    "import nltk\n",
    "from nltk.tokenize import TweetTokenizer\n",
    "\n",
    "tweets = list(zip(filtered_btc[\"text\"], filtered_btc[\"date\"]))\n",
    "\n",
    "tweet_tokenizer = TweetTokenizer(preserve_case=True, reduce_len=False, strip_handles=False)\n",
    "\n",
    "tokens = [(tweet_tokenizer.tokenize(tweet), date) for (tweet, date) in tweets if type(tweet) == str]\n",
    "\n",
    "filtered = []\n",
    "for tweet in tokens:\n",
    "    new = []\n",
    "    for tok in tweet[0]:\n",
    "        if tok != \"AT_USER\" and tok != \"URL\":\n",
    "            new.append(tok)\n",
    "            \n",
    "    filtered.append((new, tweet[1]))\n",
    "\n",
    "tagged = [(nltk.pos_tag(tweet), date) for tweet, date in filtered]\n"
   ]
  },
  {
   "cell_type": "code",
   "execution_count": 14,
   "id": "0c0be26c",
   "metadata": {},
   "outputs": [
    {
     "data": {
      "text/plain": [
       "100000"
      ]
     },
     "execution_count": 14,
     "metadata": {},
     "output_type": "execute_result"
    }
   ],
   "source": [
    "import string\n",
    "from nltk.stem import WordNetLemmatizer\n",
    "from nltk.corpus import wordnet as wn\n",
    "\n",
    "def wn_pos(tag):\n",
    "    \"converts treebank tags into wordbank tags for lemmatization\"\n",
    "    if tag.startswith('J'):\n",
    "        return wn.ADJ\n",
    "    if tag.startswith('V'):\n",
    "        return wn.VERB\n",
    "    if tag.startswith('N'):\n",
    "        return wn.NOUN\n",
    "    if tag.startswith('R'):\n",
    "        return wn.ADV\n",
    "    return None\n",
    "\n",
    "lem_tweets = []\n",
    "lem = WordNetLemmatizer()\n",
    "\n",
    "for tweet in tagged:\n",
    "    lemmas = []\n",
    "    \n",
    "    for word, tag in tweet[0]:\n",
    "        wn_tag = wn_pos(tag)\n",
    "        \n",
    "        if word[-1] in string.punctuation:\n",
    "                word = word[:-1]\n",
    "\n",
    "        if wn_pos(tag) is not None:\n",
    "            lemmas.append(lem.lemmatize(word, wn_tag))\n",
    "        else:\n",
    "            lemmas.append(lem.lemmatize(word))\n",
    "                \n",
    "    lem_tweets.append((lemmas, tweet[1]))\n",
    "\n",
    "lemmas = [lem for tweet in lem_tweets for lem in tweet]\n",
    "\n",
    "len(lem_tweets)"
   ]
  },
  {
   "cell_type": "code",
   "execution_count": 15,
   "id": "37d1a2a7",
   "metadata": {},
   "outputs": [],
   "source": [
    "lem_tweets = pd.DataFrame(lem_tweets, columns =['tweet', 'date'])  \n",
    "pd.DataFrame(lem_tweets).to_csv(\"Btc_tweets_22_23.csv\")"
   ]
  },
  {
   "cell_type": "markdown",
   "id": "e12ca06b",
   "metadata": {},
   "source": [
    "## Bitcoin Daily Price Data Pre-Processing"
   ]
  },
  {
   "cell_type": "markdown",
   "id": "8017475a",
   "metadata": {},
   "source": [
    "## Analysis\n",
    "------------------\n",
    "\n",
    "We begin the Analysis by splitting the data by day which will will then run through the model and create a daily report on based on the results.\n",
    "- First, we combine the data that will be used in the model to a dataframe with the data from the past 7 days.\n",
    "- Then we will append to the same data frame the average change in the price of Bitcoin per day, caluctaed as a difference between the opening price at midnight and the closing price at midnight 24 hours later."
   ]
  },
  {
   "cell_type": "code",
   "execution_count": 21,
   "id": "2a0f655f",
   "metadata": {},
   "outputs": [],
   "source": [
    "import os"
   ]
  },
  {
   "cell_type": "code",
   "execution_count": 22,
   "id": "8e2b4613",
   "metadata": {},
   "outputs": [],
   "source": [
    "df = pd.concat([pd.read_csv(f'data/Btc_tweets_17-23/{f}') for f in os.listdir('data/Btc_tweets_17-23') if f.endswith('.csv')])"
   ]
  },
  {
   "cell_type": "code",
   "execution_count": 23,
   "id": "7ac2a56e",
   "metadata": {},
   "outputs": [
    {
     "data": {
      "text/html": [
       "<div>\n",
       "<style scoped>\n",
       "    .dataframe tbody tr th:only-of-type {\n",
       "        vertical-align: middle;\n",
       "    }\n",
       "\n",
       "    .dataframe tbody tr th {\n",
       "        vertical-align: top;\n",
       "    }\n",
       "\n",
       "    .dataframe thead th {\n",
       "        text-align: right;\n",
       "    }\n",
       "</style>\n",
       "<table border=\"1\" class=\"dataframe\">\n",
       "  <thead>\n",
       "    <tr style=\"text-align: right;\">\n",
       "      <th></th>\n",
       "      <th>Unnamed: 0</th>\n",
       "      <th>tweet</th>\n",
       "      <th>date</th>\n",
       "    </tr>\n",
       "  </thead>\n",
       "  <tbody>\n",
       "    <tr>\n",
       "      <th>0</th>\n",
       "      <td>0</td>\n",
       "      <td>['current', 'stats', 'of', 'delegatedonthate',...</td>\n",
       "      <td>2022-05-19 23:59:59+00:00</td>\n",
       "    </tr>\n",
       "    <tr>\n",
       "      <th>1</th>\n",
       "      <td>1</td>\n",
       "      <td>['bbcworld', 'for', 'all', 'those', 'who', 'be...</td>\n",
       "      <td>2022-05-19 23:59:58+00:00</td>\n",
       "    </tr>\n",
       "    <tr>\n",
       "      <th>2</th>\n",
       "      <td>2</td>\n",
       "      <td>['smilingpunks', 'floor', 'price', '', 'no', '...</td>\n",
       "      <td>2022-05-19 23:59:56+00:00</td>\n",
       "    </tr>\n",
       "    <tr>\n",
       "      <th>3</th>\n",
       "      <td>3</td>\n",
       "      <td>['i', 'be', 'claim', 'my', 'free', 'lightning'...</td>\n",
       "      <td>2022-05-19 23:59:56+00:00</td>\n",
       "    </tr>\n",
       "    <tr>\n",
       "      <th>4</th>\n",
       "      <td>4</td>\n",
       "      <td>['washingtonpost', 'for', 'all', 'those', 'who...</td>\n",
       "      <td>2022-05-19 23:59:54+00:00</td>\n",
       "    </tr>\n",
       "  </tbody>\n",
       "</table>\n",
       "</div>"
      ],
      "text/plain": [
       "   Unnamed: 0                                              tweet  \\\n",
       "0           0  ['current', 'stats', 'of', 'delegatedonthate',...   \n",
       "1           1  ['bbcworld', 'for', 'all', 'those', 'who', 'be...   \n",
       "2           2  ['smilingpunks', 'floor', 'price', '', 'no', '...   \n",
       "3           3  ['i', 'be', 'claim', 'my', 'free', 'lightning'...   \n",
       "4           4  ['washingtonpost', 'for', 'all', 'those', 'who...   \n",
       "\n",
       "                        date  \n",
       "0  2022-05-19 23:59:59+00:00  \n",
       "1  2022-05-19 23:59:58+00:00  \n",
       "2  2022-05-19 23:59:56+00:00  \n",
       "3  2022-05-19 23:59:56+00:00  \n",
       "4  2022-05-19 23:59:54+00:00  "
      ]
     },
     "execution_count": 23,
     "metadata": {},
     "output_type": "execute_result"
    }
   ],
   "source": [
    "df.head()"
   ]
  },
  {
   "cell_type": "code",
   "execution_count": 24,
   "id": "32dabcaa",
   "metadata": {},
   "outputs": [
    {
     "name": "stdout",
     "output_type": "stream",
     "text": [
      "<class 'pandas.core.frame.DataFrame'>\n",
      "Int64Index: 500000 entries, 0 to 99999\n",
      "Data columns (total 3 columns):\n",
      " #   Column      Non-Null Count   Dtype \n",
      "---  ------      --------------   ----- \n",
      " 0   Unnamed: 0  500000 non-null  int64 \n",
      " 1   tweet       500000 non-null  object\n",
      " 2   date        500000 non-null  object\n",
      "dtypes: int64(1), object(2)\n",
      "memory usage: 15.3+ MB\n"
     ]
    }
   ],
   "source": [
    "df.info()"
   ]
  },
  {
   "cell_type": "code",
   "execution_count": 25,
   "id": "ca89cfe5",
   "metadata": {},
   "outputs": [],
   "source": [
    "pd.DataFrame(df).to_csv(\"Btc_tweets_17_23.csv\")"
   ]
  }
 ],
 "metadata": {
  "kernelspec": {
   "display_name": "Python 3 (ipykernel)",
   "language": "python",
   "name": "python3"
  },
  "language_info": {
   "codemirror_mode": {
    "name": "ipython",
    "version": 3
   },
   "file_extension": ".py",
   "mimetype": "text/x-python",
   "name": "python",
   "nbconvert_exporter": "python",
   "pygments_lexer": "ipython3",
   "version": "3.10.4"
  }
 },
 "nbformat": 4,
 "nbformat_minor": 5
}
